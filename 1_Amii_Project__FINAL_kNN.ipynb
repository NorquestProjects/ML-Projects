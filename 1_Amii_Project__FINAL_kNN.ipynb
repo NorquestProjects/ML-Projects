{
  "nbformat": 4,
  "nbformat_minor": 0,
  "metadata": {
    "kernelspec": {
      "display_name": "Python 3",
      "language": "python",
      "name": "python3"
    },
    "language_info": {
      "codemirror_mode": {
        "name": "ipython",
        "version": 3
      },
      "file_extension": ".py",
      "mimetype": "text/x-python",
      "name": "python",
      "nbconvert_exporter": "python",
      "pygments_lexer": "ipython3",
      "version": "3.7.1"
    },
    "colab": {
      "name": " 1. Amii Project _FINAL_kNN.ipynb",
      "provenance": [],
      "collapsed_sections": [],
      "include_colab_link": true
    }
  },
  "cells": [
    {
      "cell_type": "markdown",
      "metadata": {
        "id": "view-in-github",
        "colab_type": "text"
      },
      "source": [
        "<a href=\"https://colab.research.google.com/github/mazon1/ML-Test/blob/mazon1-Amii-files/1_Amii_Project__FINAL_kNN.ipynb\" target=\"_parent\"><img src=\"https://colab.research.google.com/assets/colab-badge.svg\" alt=\"Open In Colab\"/></a>"
      ]
    },
    {
      "cell_type": "markdown",
      "metadata": {
        "id": "miYScILzE5PO"
      },
      "source": [
        "### Import Libraries & Read in Data"
      ]
    },
    {
      "cell_type": "code",
      "metadata": {
        "scrolled": true,
        "id": "0-6RrvovE5PO",
        "colab": {
          "base_uri": "https://localhost:8080/",
          "height": 258
        },
        "outputId": "e8ae9f31-dcce-4ac9-d9a6-b219d9cc5562"
      },
      "source": [
        "import pandas as pd\n",
        "import numpy as np\n",
        "import plotly.express as px\n",
        "from sklearn.model_selection import train_test_split\n",
        "import plotly.graph_objects as go\n",
        "import seaborn as sns\n",
        "\n",
        "# import google drive\n",
        "from google.colab import drive\n",
        "drive.mount('/content/drive/')\n",
        "\n",
        "# Change directory to google drive- Just upload the file right into the drive you want(Uchennamachine) for easy access\n",
        "%cd /content/drive/My Drive/\n",
        "\n",
        "df = pd.read_csv(\"nasa_processed.csv\")\n",
        "\n",
        "#define titanic - you'd need this going forward\n",
        "nasa = pd.read_csv('nasa_processed.csv')\n",
        "nasa.head()"
      ],
      "execution_count": null,
      "outputs": [
        {
          "output_type": "stream",
          "text": [
            "Mounted at /content/drive/\n",
            "/content/drive/My Drive\n"
          ],
          "name": "stdout"
        },
        {
          "output_type": "execute_result",
          "data": {
            "text/html": [
              "<div>\n",
              "<style scoped>\n",
              "    .dataframe tbody tr th:only-of-type {\n",
              "        vertical-align: middle;\n",
              "    }\n",
              "\n",
              "    .dataframe tbody tr th {\n",
              "        vertical-align: top;\n",
              "    }\n",
              "\n",
              "    .dataframe thead th {\n",
              "        text-align: right;\n",
              "    }\n",
              "</style>\n",
              "<table border=\"1\" class=\"dataframe\">\n",
              "  <thead>\n",
              "    <tr style=\"text-align: right;\">\n",
              "      <th></th>\n",
              "      <th>Ps30r_std</th>\n",
              "      <th>Ps30r_mean</th>\n",
              "      <th>Ps30r_median</th>\n",
              "      <th>NRfr_std</th>\n",
              "      <th>NRfr_mean</th>\n",
              "      <th>NRfr_median</th>\n",
              "      <th>BPRr_std</th>\n",
              "      <th>BPRr_mean</th>\n",
              "      <th>BPRr_median</th>\n",
              "      <th>T50r_std</th>\n",
              "      <th>T50r_mean</th>\n",
              "      <th>T50r_median</th>\n",
              "      <th>time_in_cyclesr_std</th>\n",
              "      <th>time_in_cyclesr_mean</th>\n",
              "      <th>time_in_cyclesr_median</th>\n",
              "      <th>NRcr_std</th>\n",
              "      <th>NRcr_mean</th>\n",
              "      <th>NRcr_median</th>\n",
              "      <th>phir_std</th>\n",
              "      <th>phir_mean</th>\n",
              "      <th>phir_median</th>\n",
              "      <th>P30r_std</th>\n",
              "      <th>P30r_mean</th>\n",
              "      <th>P30r_median</th>\n",
              "      <th>Ncr_std</th>\n",
              "      <th>Ncr_mean</th>\n",
              "      <th>Ncr_median</th>\n",
              "      <th>Nfr_std</th>\n",
              "      <th>Nfr_mean</th>\n",
              "      <th>Nfr_median</th>\n",
              "      <th>o_condition</th>\n",
              "      <th>label_target</th>\n",
              "    </tr>\n",
              "  </thead>\n",
              "  <tbody>\n",
              "    <tr>\n",
              "      <th>0</th>\n",
              "      <td>0.000000</td>\n",
              "      <td>0.000000</td>\n",
              "      <td>0.00</td>\n",
              "      <td>0.000000</td>\n",
              "      <td>0.00</td>\n",
              "      <td>0.00</td>\n",
              "      <td>0.000000</td>\n",
              "      <td>0.000000</td>\n",
              "      <td>0.0000</td>\n",
              "      <td>0.000000</td>\n",
              "      <td>0.000000</td>\n",
              "      <td>0.00</td>\n",
              "      <td>0.0</td>\n",
              "      <td>0.0</td>\n",
              "      <td>0.0</td>\n",
              "      <td>0.000000</td>\n",
              "      <td>0.000000</td>\n",
              "      <td>0.00</td>\n",
              "      <td>0.000000</td>\n",
              "      <td>0.00</td>\n",
              "      <td>0.00</td>\n",
              "      <td>0.000000</td>\n",
              "      <td>0.000000</td>\n",
              "      <td>0.00</td>\n",
              "      <td>0.000000</td>\n",
              "      <td>0.000000</td>\n",
              "      <td>0.00</td>\n",
              "      <td>0.000000</td>\n",
              "      <td>0.000000</td>\n",
              "      <td>0.00</td>\n",
              "      <td>1</td>\n",
              "      <td>0</td>\n",
              "    </tr>\n",
              "    <tr>\n",
              "      <th>1</th>\n",
              "      <td>0.000000</td>\n",
              "      <td>0.000000</td>\n",
              "      <td>0.00</td>\n",
              "      <td>0.000000</td>\n",
              "      <td>0.00</td>\n",
              "      <td>0.00</td>\n",
              "      <td>0.000000</td>\n",
              "      <td>0.000000</td>\n",
              "      <td>0.0000</td>\n",
              "      <td>0.000000</td>\n",
              "      <td>0.000000</td>\n",
              "      <td>0.00</td>\n",
              "      <td>0.0</td>\n",
              "      <td>0.0</td>\n",
              "      <td>0.0</td>\n",
              "      <td>0.000000</td>\n",
              "      <td>0.000000</td>\n",
              "      <td>0.00</td>\n",
              "      <td>0.000000</td>\n",
              "      <td>0.00</td>\n",
              "      <td>0.00</td>\n",
              "      <td>0.000000</td>\n",
              "      <td>0.000000</td>\n",
              "      <td>0.00</td>\n",
              "      <td>0.000000</td>\n",
              "      <td>0.000000</td>\n",
              "      <td>0.00</td>\n",
              "      <td>0.000000</td>\n",
              "      <td>0.000000</td>\n",
              "      <td>0.00</td>\n",
              "      <td>1</td>\n",
              "      <td>0</td>\n",
              "    </tr>\n",
              "    <tr>\n",
              "      <th>2</th>\n",
              "      <td>0.121655</td>\n",
              "      <td>47.410000</td>\n",
              "      <td>47.47</td>\n",
              "      <td>0.026458</td>\n",
              "      <td>2388.04</td>\n",
              "      <td>2388.03</td>\n",
              "      <td>0.007640</td>\n",
              "      <td>8.423033</td>\n",
              "      <td>8.4195</td>\n",
              "      <td>1.850009</td>\n",
              "      <td>1402.646667</td>\n",
              "      <td>1403.14</td>\n",
              "      <td>1.0</td>\n",
              "      <td>2.0</td>\n",
              "      <td>2.0</td>\n",
              "      <td>3.717450</td>\n",
              "      <td>8134.446667</td>\n",
              "      <td>8133.23</td>\n",
              "      <td>0.404475</td>\n",
              "      <td>522.12</td>\n",
              "      <td>522.28</td>\n",
              "      <td>0.327159</td>\n",
              "      <td>554.123333</td>\n",
              "      <td>554.26</td>\n",
              "      <td>4.632023</td>\n",
              "      <td>9047.733333</td>\n",
              "      <td>9046.19</td>\n",
              "      <td>0.020000</td>\n",
              "      <td>2388.060000</td>\n",
              "      <td>2388.06</td>\n",
              "      <td>1</td>\n",
              "      <td>0</td>\n",
              "    </tr>\n",
              "    <tr>\n",
              "      <th>3</th>\n",
              "      <td>0.181475</td>\n",
              "      <td>47.296667</td>\n",
              "      <td>47.27</td>\n",
              "      <td>0.026458</td>\n",
              "      <td>2388.06</td>\n",
              "      <td>2388.07</td>\n",
              "      <td>0.033419</td>\n",
              "      <td>8.405933</td>\n",
              "      <td>8.4178</td>\n",
              "      <td>1.166576</td>\n",
              "      <td>1403.070000</td>\n",
              "      <td>1403.14</td>\n",
              "      <td>1.0</td>\n",
              "      <td>3.0</td>\n",
              "      <td>3.0</td>\n",
              "      <td>1.215401</td>\n",
              "      <td>8132.850000</td>\n",
              "      <td>8133.23</td>\n",
              "      <td>0.302655</td>\n",
              "      <td>522.52</td>\n",
              "      <td>522.42</td>\n",
              "      <td>0.361985</td>\n",
              "      <td>554.153333</td>\n",
              "      <td>554.26</td>\n",
              "      <td>4.470582</td>\n",
              "      <td>9048.830000</td>\n",
              "      <td>9049.48</td>\n",
              "      <td>0.035119</td>\n",
              "      <td>2388.076667</td>\n",
              "      <td>2388.08</td>\n",
              "      <td>1</td>\n",
              "      <td>0</td>\n",
              "    </tr>\n",
              "    <tr>\n",
              "      <th>4</th>\n",
              "      <td>0.083865</td>\n",
              "      <td>47.226667</td>\n",
              "      <td>47.27</td>\n",
              "      <td>0.026458</td>\n",
              "      <td>2388.05</td>\n",
              "      <td>2388.04</td>\n",
              "      <td>0.032507</td>\n",
              "      <td>8.405133</td>\n",
              "      <td>8.4178</td>\n",
              "      <td>2.176840</td>\n",
              "      <td>1404.096667</td>\n",
              "      <td>1404.20</td>\n",
              "      <td>1.0</td>\n",
              "      <td>4.0</td>\n",
              "      <td>4.0</td>\n",
              "      <td>0.338083</td>\n",
              "      <td>8133.620000</td>\n",
              "      <td>8133.80</td>\n",
              "      <td>0.340441</td>\n",
              "      <td>522.49</td>\n",
              "      <td>522.42</td>\n",
              "      <td>0.225906</td>\n",
              "      <td>554.236667</td>\n",
              "      <td>554.26</td>\n",
              "      <td>2.857872</td>\n",
              "      <td>9052.523333</td>\n",
              "      <td>9052.94</td>\n",
              "      <td>0.025166</td>\n",
              "      <td>2388.083333</td>\n",
              "      <td>2388.08</td>\n",
              "      <td>1</td>\n",
              "      <td>0</td>\n",
              "    </tr>\n",
              "  </tbody>\n",
              "</table>\n",
              "</div>"
            ],
            "text/plain": [
              "   Ps30r_std  Ps30r_mean  Ps30r_median  ...  Nfr_median  o_condition  label_target\n",
              "0   0.000000    0.000000          0.00  ...        0.00            1             0\n",
              "1   0.000000    0.000000          0.00  ...        0.00            1             0\n",
              "2   0.121655   47.410000         47.47  ...     2388.06            1             0\n",
              "3   0.181475   47.296667         47.27  ...     2388.08            1             0\n",
              "4   0.083865   47.226667         47.27  ...     2388.08            1             0\n",
              "\n",
              "[5 rows x 32 columns]"
            ]
          },
          "metadata": {
            "tags": []
          },
          "execution_count": 1
        }
      ]
    },
    {
      "cell_type": "markdown",
      "metadata": {
        "id": "qzd1RE90E5PR"
      },
      "source": [
        "### Split into train and test set\n",
        "Note: Final Test set not included so technically , test set referred to here is the validation set\n",
        "\n"
      ]
    },
    {
      "cell_type": "code",
      "metadata": {
        "id": "o4gHPPiKE5PR"
      },
      "source": [
        "X = nasa.drop(['label_target'], axis=1)\n",
        "y = nasa['label_target']\n",
        "\n",
        "#splitting the data set (note we already have an actual test set, so this test set here is the validation set)\n",
        "X_train, X_val, y_train, y_val = train_test_split( X, y, test_size=0.33, random_state=42,stratify=y)"
      ],
      "execution_count": null,
      "outputs": []
    },
    {
      "cell_type": "code",
      "metadata": {
        "id": "3wjTKh_LE5PR",
        "colab": {
          "base_uri": "https://localhost:8080/"
        },
        "outputId": "00e60967-dfbe-4e6f-afbd-a1356dcf7cf4"
      },
      "source": [
        "#confirming that the split was done (67% to 33%)\n",
        "for dataset in [y_train, y_val]:\n",
        "    print(round(len(dataset) / len(y), 2))"
      ],
      "execution_count": null,
      "outputs": [
        {
          "output_type": "stream",
          "text": [
            "0.67\n",
            "0.33\n"
          ],
          "name": "stdout"
        }
      ]
    },
    {
      "cell_type": "code",
      "metadata": {
        "colab": {
          "base_uri": "https://localhost:8080/",
          "height": 224
        },
        "id": "JQMT3i_VTGmM",
        "outputId": "ea0be86f-02e7-440a-9467-5aefbaf20def"
      },
      "source": [
        "#Display X_train\n",
        "X_train.head()"
      ],
      "execution_count": null,
      "outputs": [
        {
          "output_type": "execute_result",
          "data": {
            "text/html": [
              "<div>\n",
              "<style scoped>\n",
              "    .dataframe tbody tr th:only-of-type {\n",
              "        vertical-align: middle;\n",
              "    }\n",
              "\n",
              "    .dataframe tbody tr th {\n",
              "        vertical-align: top;\n",
              "    }\n",
              "\n",
              "    .dataframe thead th {\n",
              "        text-align: right;\n",
              "    }\n",
              "</style>\n",
              "<table border=\"1\" class=\"dataframe\">\n",
              "  <thead>\n",
              "    <tr style=\"text-align: right;\">\n",
              "      <th></th>\n",
              "      <th>Ps30r_std</th>\n",
              "      <th>Ps30r_mean</th>\n",
              "      <th>Ps30r_median</th>\n",
              "      <th>NRfr_std</th>\n",
              "      <th>NRfr_mean</th>\n",
              "      <th>NRfr_median</th>\n",
              "      <th>BPRr_std</th>\n",
              "      <th>BPRr_mean</th>\n",
              "      <th>BPRr_median</th>\n",
              "      <th>T50r_std</th>\n",
              "      <th>T50r_mean</th>\n",
              "      <th>T50r_median</th>\n",
              "      <th>time_in_cyclesr_std</th>\n",
              "      <th>time_in_cyclesr_mean</th>\n",
              "      <th>time_in_cyclesr_median</th>\n",
              "      <th>NRcr_std</th>\n",
              "      <th>NRcr_mean</th>\n",
              "      <th>NRcr_median</th>\n",
              "      <th>phir_std</th>\n",
              "      <th>phir_mean</th>\n",
              "      <th>phir_median</th>\n",
              "      <th>P30r_std</th>\n",
              "      <th>P30r_mean</th>\n",
              "      <th>P30r_median</th>\n",
              "      <th>Ncr_std</th>\n",
              "      <th>Ncr_mean</th>\n",
              "      <th>Ncr_median</th>\n",
              "      <th>Nfr_std</th>\n",
              "      <th>Nfr_mean</th>\n",
              "      <th>Nfr_median</th>\n",
              "      <th>o_condition</th>\n",
              "    </tr>\n",
              "  </thead>\n",
              "  <tbody>\n",
              "    <tr>\n",
              "      <th>249643</th>\n",
              "      <td>0.104712</td>\n",
              "      <td>48.128623</td>\n",
              "      <td>48.145969</td>\n",
              "      <td>0.033398</td>\n",
              "      <td>2388.268430</td>\n",
              "      <td>2388.269320</td>\n",
              "      <td>0.019976</td>\n",
              "      <td>8.516182</td>\n",
              "      <td>8.525810</td>\n",
              "      <td>2.909960</td>\n",
              "      <td>1428.508849</td>\n",
              "      <td>1428.638398</td>\n",
              "      <td>1.0</td>\n",
              "      <td>142.732994</td>\n",
              "      <td>142.732994</td>\n",
              "      <td>0.810241</td>\n",
              "      <td>8123.694586</td>\n",
              "      <td>8124.004031</td>\n",
              "      <td>0.285043</td>\n",
              "      <td>519.657902</td>\n",
              "      <td>519.686173</td>\n",
              "      <td>0.459135</td>\n",
              "      <td>551.092460</td>\n",
              "      <td>551.065340</td>\n",
              "      <td>1.691167</td>\n",
              "      <td>9047.173032</td>\n",
              "      <td>9046.585919</td>\n",
              "      <td>0.028559</td>\n",
              "      <td>2388.274223</td>\n",
              "      <td>2388.282670</td>\n",
              "      <td>1</td>\n",
              "    </tr>\n",
              "    <tr>\n",
              "      <th>186719</th>\n",
              "      <td>1.243657</td>\n",
              "      <td>47.180302</td>\n",
              "      <td>47.753658</td>\n",
              "      <td>0.112783</td>\n",
              "      <td>2388.192422</td>\n",
              "      <td>2388.140000</td>\n",
              "      <td>0.144568</td>\n",
              "      <td>8.593757</td>\n",
              "      <td>8.528552</td>\n",
              "      <td>59.102593</td>\n",
              "      <td>1391.215469</td>\n",
              "      <td>1421.473288</td>\n",
              "      <td>1.0</td>\n",
              "      <td>278.367503</td>\n",
              "      <td>278.367503</td>\n",
              "      <td>4.413442</td>\n",
              "      <td>8197.317210</td>\n",
              "      <td>8197.885215</td>\n",
              "      <td>86.451840</td>\n",
              "      <td>470.713994</td>\n",
              "      <td>520.483743</td>\n",
              "      <td>91.628899</td>\n",
              "      <td>499.410985</td>\n",
              "      <td>552.095521</td>\n",
              "      <td>162.584706</td>\n",
              "      <td>9036.826307</td>\n",
              "      <td>9128.568890</td>\n",
              "      <td>39.851351</td>\n",
              "      <td>2365.153635</td>\n",
              "      <td>2388.145453</td>\n",
              "      <td>1</td>\n",
              "    </tr>\n",
              "    <tr>\n",
              "      <th>198699</th>\n",
              "      <td>0.147269</td>\n",
              "      <td>47.997324</td>\n",
              "      <td>48.027345</td>\n",
              "      <td>0.045611</td>\n",
              "      <td>2388.419274</td>\n",
              "      <td>2388.425374</td>\n",
              "      <td>0.023448</td>\n",
              "      <td>8.258095</td>\n",
              "      <td>8.264153</td>\n",
              "      <td>1.607911</td>\n",
              "      <td>1421.846751</td>\n",
              "      <td>1421.408362</td>\n",
              "      <td>1.0</td>\n",
              "      <td>209.292529</td>\n",
              "      <td>209.292529</td>\n",
              "      <td>3.150623</td>\n",
              "      <td>8182.826304</td>\n",
              "      <td>8181.995230</td>\n",
              "      <td>0.534812</td>\n",
              "      <td>533.571695</td>\n",
              "      <td>533.618299</td>\n",
              "      <td>0.453463</td>\n",
              "      <td>566.010375</td>\n",
              "      <td>566.149856</td>\n",
              "      <td>3.369767</td>\n",
              "      <td>9114.140886</td>\n",
              "      <td>9113.359235</td>\n",
              "      <td>0.049193</td>\n",
              "      <td>2388.409433</td>\n",
              "      <td>2388.395851</td>\n",
              "      <td>1</td>\n",
              "    </tr>\n",
              "    <tr>\n",
              "      <th>45062</th>\n",
              "      <td>3.102322</td>\n",
              "      <td>40.160000</td>\n",
              "      <td>41.840000</td>\n",
              "      <td>207.724854</td>\n",
              "      <td>2268.170000</td>\n",
              "      <td>2388.080000</td>\n",
              "      <td>0.860206</td>\n",
              "      <td>9.848833</td>\n",
              "      <td>9.356700</td>\n",
              "      <td>48.488737</td>\n",
              "      <td>1095.273333</td>\n",
              "      <td>1120.870000</td>\n",
              "      <td>1.0</td>\n",
              "      <td>74.000000</td>\n",
              "      <td>74.000000</td>\n",
              "      <td>122.880479</td>\n",
              "      <td>8020.333333</td>\n",
              "      <td>8090.070000</td>\n",
              "      <td>19.702474</td>\n",
              "      <td>142.100000</td>\n",
              "      <td>130.850000</td>\n",
              "      <td>21.468775</td>\n",
              "      <td>151.280000</td>\n",
              "      <td>138.900000</td>\n",
              "      <td>183.118160</td>\n",
              "      <td>8222.393333</td>\n",
              "      <td>8324.850000</td>\n",
              "      <td>171.285395</td>\n",
              "      <td>2113.153333</td>\n",
              "      <td>2212.010000</td>\n",
              "      <td>6</td>\n",
              "    </tr>\n",
              "    <tr>\n",
              "      <th>98942</th>\n",
              "      <td>0.123423</td>\n",
              "      <td>48.033333</td>\n",
              "      <td>48.000000</td>\n",
              "      <td>0.041633</td>\n",
              "      <td>2388.206667</td>\n",
              "      <td>2388.220000</td>\n",
              "      <td>0.013990</td>\n",
              "      <td>8.495800</td>\n",
              "      <td>8.488900</td>\n",
              "      <td>5.953495</td>\n",
              "      <td>1423.210000</td>\n",
              "      <td>1421.610000</td>\n",
              "      <td>1.0</td>\n",
              "      <td>129.000000</td>\n",
              "      <td>129.000000</td>\n",
              "      <td>3.966598</td>\n",
              "      <td>8139.370000</td>\n",
              "      <td>8138.670000</td>\n",
              "      <td>0.375810</td>\n",
              "      <td>520.313333</td>\n",
              "      <td>520.210000</td>\n",
              "      <td>0.260000</td>\n",
              "      <td>551.960000</td>\n",
              "      <td>552.100000</td>\n",
              "      <td>3.464236</td>\n",
              "      <td>9067.443333</td>\n",
              "      <td>9068.370000</td>\n",
              "      <td>0.043589</td>\n",
              "      <td>2388.210000</td>\n",
              "      <td>2388.230000</td>\n",
              "      <td>1</td>\n",
              "    </tr>\n",
              "  </tbody>\n",
              "</table>\n",
              "</div>"
            ],
            "text/plain": [
              "        Ps30r_std  Ps30r_mean  ...   Nfr_median  o_condition\n",
              "249643   0.104712   48.128623  ...  2388.282670            1\n",
              "186719   1.243657   47.180302  ...  2388.145453            1\n",
              "198699   0.147269   47.997324  ...  2388.395851            1\n",
              "45062    3.102322   40.160000  ...  2212.010000            6\n",
              "98942    0.123423   48.033333  ...  2388.230000            1\n",
              "\n",
              "[5 rows x 31 columns]"
            ]
          },
          "metadata": {
            "tags": []
          },
          "execution_count": 4
        }
      ]
    },
    {
      "cell_type": "markdown",
      "metadata": {
        "id": "vkOhTJccE5PS"
      },
      "source": [
        "### Write out all data"
      ]
    },
    {
      "cell_type": "code",
      "metadata": {
        "id": "J4EvDMMVE5PS"
      },
      "source": [
        "X_train.to_csv('nasatrain_features.csv', index=False)\n",
        "X_val.to_csv('nasaval_features.csv', index=False)\n",
        "\n",
        "\n",
        "y_train.to_csv('nasatrain_labels.csv', index=False)\n",
        "y_val.to_csv('nasaval_labels.csv', index=False)\n"
      ],
      "execution_count": null,
      "outputs": []
    },
    {
      "cell_type": "code",
      "metadata": {
        "id": "q_mrcSQdE5PS"
      },
      "source": [
        "#Read in Training Data\n",
        "tr_features = pd.read_csv('nasatrain_features.csv')\n",
        "tr_labels = pd.read_csv('nasatrain_labels.csv')"
      ],
      "execution_count": null,
      "outputs": []
    },
    {
      "cell_type": "code",
      "metadata": {
        "id": "Ym3iH3oQU-tb"
      },
      "source": [
        "#Define Results to print\n",
        "def print_results(results):\n",
        "    print('BEST PARAMS: {}\\n'.format(results.best_params_))\n",
        "\n",
        "    means = results.cv_results_['mean_test_score']\n",
        "    stds = results.cv_results_['std_test_score']\n",
        "    for mean, std, params in zip(means, stds, results.cv_results_['params']):\n",
        "        print('{} (+/-{}) for {}'.format(round(mean, 3), round(std * 2, 3), params))"
      ],
      "execution_count": null,
      "outputs": []
    },
    {
      "cell_type": "markdown",
      "metadata": {
        "id": "j3-SyqaXZmvm"
      },
      "source": [
        "# kNN "
      ]
    },
    {
      "cell_type": "code",
      "metadata": {
        "id": "khWtjpw2Zp2J"
      },
      "source": [
        "#importing Libraries\n",
        "from sklearn.neighbors import KNeighborsClassifier\n",
        "import joblib\n",
        "import pandas as pd\n",
        "from sklearn.model_selection import GridSearchCV\n",
        "import warnings\n",
        "warnings.filterwarnings('ignore', category=FutureWarning)\n",
        "warnings.filterwarnings('ignore', category=DeprecationWarning)"
      ],
      "execution_count": null,
      "outputs": []
    },
    {
      "cell_type": "code",
      "metadata": {
        "colab": {
          "base_uri": "https://localhost:8080/"
        },
        "id": "6StCulNUh6oj",
        "outputId": "6097e985-4e8c-4ceb-bb35-5688d828814c"
      },
      "source": [
        "# To show list of hyperparameters that we can tune\n",
        "KNeighborsClassifier()\n"
      ],
      "execution_count": null,
      "outputs": [
        {
          "output_type": "execute_result",
          "data": {
            "text/plain": [
              "KNeighborsClassifier(algorithm='auto', leaf_size=30, metric='minkowski',\n",
              "                     metric_params=None, n_jobs=None, n_neighbors=5, p=2,\n",
              "                     weights='uniform')"
            ]
          },
          "metadata": {
            "tags": []
          },
          "execution_count": 10
        }
      ]
    },
    {
      "cell_type": "markdown",
      "metadata": {
        "id": "l7_jBcGjAE-d"
      },
      "source": [
        "# Base Model Evaluation"
      ]
    },
    {
      "cell_type": "code",
      "metadata": {
        "colab": {
          "base_uri": "https://localhost:8080/"
        },
        "id": "5qKcfNVuAH8p",
        "outputId": "ee0b3bb3-b952-4e0a-8dd9-4d9ac07b3c85"
      },
      "source": [
        "knn_base= KNeighborsClassifier()\n",
        "knn_base.fit(tr_features,tr_labels.values.ravel())"
      ],
      "execution_count": null,
      "outputs": [
        {
          "output_type": "execute_result",
          "data": {
            "text/plain": [
              "KNeighborsClassifier(algorithm='auto', leaf_size=30, metric='minkowski',\n",
              "                     metric_params=None, n_jobs=None, n_neighbors=5, p=2,\n",
              "                     weights='uniform')"
            ]
          },
          "metadata": {
            "tags": []
          },
          "execution_count": 11
        }
      ]
    },
    {
      "cell_type": "code",
      "metadata": {
        "id": "Otawa_0EAT9O"
      },
      "source": [
        "#Predicting the labels using the base modeel\n",
        "tr_labelspredict = knn_base.predict(tr_features)"
      ],
      "execution_count": null,
      "outputs": []
    },
    {
      "cell_type": "code",
      "metadata": {
        "colab": {
          "base_uri": "https://localhost:8080/"
        },
        "id": "Uv-OSuPLAa7e",
        "outputId": "eff9d650-1b26-4ea8-f232-22cf476080f8"
      },
      "source": [
        "# To view accuracy score, recall score, precision score and f1 score\n",
        "from sklearn.metrics import accuracy_score, recall_score, precision_score, f1_score\n",
        "\n",
        " #Train Scores\n",
        "\n",
        "acc_train = accuracy_score(y_train,tr_labelspredict)\n",
        "p_score_train = precision_score(y_train,tr_labelspredict)\n",
        "r_score_train = recall_score(y_train,tr_labelspredict)\n",
        "f1_score_train = f1_score(y_train,tr_labelspredict)\n",
        "\n",
        " #Test Scores\n",
        "\n",
        "val_labelspredict = knn_base.predict(X_val)\n",
        "acc_test = accuracy_score(y_val,val_labelspredict)\n",
        "p_score_test = precision_score(y_val,val_labelspredict)\n",
        "r_score_test = recall_score(y_val,val_labelspredict)\n",
        "f1_score_test = f1_score(y_val,val_labelspredict)\n",
        "\n",
        "print(f'The Accuracy score for the training set is:{acc_train}')\n",
        "print(f'The Precision score for the training set is:{p_score_train}')\n",
        "print(f'The Recall score for the training set is:{r_score_train}')\n",
        "print(f'The F1 score for the training set is:{f1_score_train}')\n",
        "print('--------------------------------------------------------------')\n",
        "print(f'The Accuracy score for the validation set is:{acc_test}')\n",
        "print(f'The Precision score for the validation set is:{p_score_test}')\n",
        "print(f'The Recall score for the validation set is:{r_score_test}')\n",
        "print(f'The F1 score for the validation set is:{f1_score_test}')\n",
        "# train_results = [acc_train,p_score_train,r_score_train,f1_score_train]\n",
        "# test_results = [acc_test,p_score_test,r_score_test,f1_score_test]"
      ],
      "execution_count": null,
      "outputs": [
        {
          "output_type": "stream",
          "text": [
            "The Accuracy score for the training set is:0.9765799588808438\n",
            "The Precision score for the training set is:0.956383814376926\n",
            "The Recall score for the training set is:0.9987064885897571\n",
            "The F1 score for the training set is:0.9770870629874272\n",
            "--------------------------------------------------------------\n",
            "The Accuracy score for the validation set is:0.967268418187059\n",
            "The Precision score for the validation set is:0.941620421753607\n",
            "The Recall score for the validation set is:0.9963061812746877\n",
            "The F1 score for the validation set is:0.9681917211328975\n"
          ],
          "name": "stdout"
        }
      ]
    },
    {
      "cell_type": "markdown",
      "metadata": {
        "id": "nVendunvAd3o"
      },
      "source": [
        "# Hyperparameters Tuning"
      ]
    },
    {
      "cell_type": "code",
      "metadata": {
        "colab": {
          "base_uri": "https://localhost:8080/"
        },
        "id": "GvDolub4Z4xu",
        "outputId": "4448b368-a49d-45aa-b75c-0b0d67d98508"
      },
      "source": [
        "#Fitting the Model and Evaluating\n",
        "knn = KNeighborsClassifier()\n",
        "parameters = {\n",
        "    'n_neighbors': [1,3, 5,11,15,20],\n",
        "    # to test 1,3,5,10,15,20 leaves,\n",
        "    'weights':['uniform','distance']\n",
        "    \n",
        "}\n",
        "#using GridSearchCV to loop through predefined hyperparameters and fit your estimator (model) on your training set\n",
        "cv = GridSearchCV(knn,parameters, cv = 5)\n",
        "#cv = 5 meaning it will run 5-fold validation for each hyperparameter combination\n",
        "cv.fit(tr_features,tr_labels.values.ravel())\n",
        "# we use ravel for the labels to convert it to an array, since the label is usually just one column and the algorithm expects an array\n",
        "print_results(cv)"
      ],
      "execution_count": null,
      "outputs": [
        {
          "output_type": "stream",
          "text": [
            "BEST PARAMS: {'n_neighbors': 1, 'weights': 'uniform'}\n",
            "\n",
            "0.979 (+/-0.001) for {'n_neighbors': 1, 'weights': 'uniform'}\n",
            "0.979 (+/-0.001) for {'n_neighbors': 1, 'weights': 'distance'}\n",
            "0.97 (+/-0.001) for {'n_neighbors': 3, 'weights': 'uniform'}\n",
            "0.971 (+/-0.001) for {'n_neighbors': 3, 'weights': 'distance'}\n",
            "0.963 (+/-0.002) for {'n_neighbors': 5, 'weights': 'uniform'}\n",
            "0.966 (+/-0.002) for {'n_neighbors': 5, 'weights': 'distance'}\n",
            "0.953 (+/-0.002) for {'n_neighbors': 11, 'weights': 'uniform'}\n",
            "0.958 (+/-0.002) for {'n_neighbors': 11, 'weights': 'distance'}\n",
            "0.948 (+/-0.003) for {'n_neighbors': 15, 'weights': 'uniform'}\n",
            "0.955 (+/-0.002) for {'n_neighbors': 15, 'weights': 'distance'}\n",
            "0.945 (+/-0.003) for {'n_neighbors': 20, 'weights': 'uniform'}\n",
            "0.951 (+/-0.003) for {'n_neighbors': 20, 'weights': 'distance'}\n"
          ],
          "name": "stdout"
        }
      ]
    },
    {
      "cell_type": "code",
      "metadata": {
        "id": "NuhnO0CBjCVi",
        "colab": {
          "base_uri": "https://localhost:8080/"
        },
        "outputId": "bb57c883-d03a-425e-b03b-3c3f287dbe8d"
      },
      "source": [
        "cv.best_estimator_"
      ],
      "execution_count": null,
      "outputs": [
        {
          "output_type": "execute_result",
          "data": {
            "text/plain": [
              "KNeighborsClassifier(algorithm='auto', leaf_size=30, metric='minkowski',\n",
              "                     metric_params=None, n_jobs=None, n_neighbors=1, p=2,\n",
              "                     weights='uniform')"
            ]
          },
          "metadata": {
            "tags": []
          },
          "execution_count": 11
        }
      ]
    },
    {
      "cell_type": "markdown",
      "metadata": {
        "id": "AhOwm2HajOYK"
      },
      "source": [
        "### Write out pickled model\n",
        "We pickle the model by saving it and writing it to a file that can be used to compare with other hyperparameters performance"
      ]
    },
    {
      "cell_type": "code",
      "metadata": {
        "id": "ZSdyr66djPVR",
        "colab": {
          "base_uri": "https://localhost:8080/"
        },
        "outputId": "de0ee1d6-5fb3-4cfb-bf24-87d3957a6bd5"
      },
      "source": [
        "joblib.dump(cv.best_estimator_, 'NASAkNN_model.pkl')"
      ],
      "execution_count": null,
      "outputs": [
        {
          "output_type": "execute_result",
          "data": {
            "text/plain": [
              "['NASAkNN_model.pkl']"
            ]
          },
          "metadata": {
            "tags": []
          },
          "execution_count": 12
        }
      ]
    },
    {
      "cell_type": "code",
      "metadata": {
        "id": "sWZqa3BGjXjY"
      },
      "source": [
        "knn = cv.best_estimator_\n",
        "#Predicting the labels using the optimized hyperparameters\n",
        "tr_labelspredict = knn.predict(tr_features)\n"
      ],
      "execution_count": null,
      "outputs": []
    },
    {
      "cell_type": "code",
      "metadata": {
        "id": "oGeJedQwjnJe",
        "colab": {
          "base_uri": "https://localhost:8080/"
        },
        "outputId": "f3428c0c-10cd-48d4-8a13-af82c95c9393"
      },
      "source": [
        "# To view accuracy score, recall score, precision score and f1 score\n",
        "from sklearn.metrics import accuracy_score, recall_score, precision_score, f1_score\n",
        "\n",
        " #Train Scores\n",
        "\n",
        "acc_train = accuracy_score(y_train,tr_labelspredict)\n",
        "p_score_train = precision_score(y_train,tr_labelspredict)\n",
        "r_score_train = recall_score(y_train,tr_labelspredict)\n",
        "f1_score_train = f1_score(y_train,tr_labelspredict)\n",
        "\n",
        " #Test Scores\n",
        "\n",
        "val_labelspredict = cv.predict(X_val)\n",
        "acc_test = accuracy_score(y_val,val_labelspredict)\n",
        "p_score_test = precision_score(y_val,val_labelspredict)\n",
        "r_score_test = recall_score(y_val,val_labelspredict)\n",
        "f1_score_test = f1_score(y_val,val_labelspredict)\n",
        "\n",
        "print(f'The Accuracy score for the training set is:{acc_train}')\n",
        "print(f'The Precision score for the training set is:{p_score_train}')\n",
        "print(f'The Recall score for the training set is:{r_score_train}')\n",
        "print(f'The F1 score for the training set is:{f1_score_train}')\n",
        "print('--------------------------------------------------------------')\n",
        "print(f'The Accuracy score for the validation set is:{acc_test}')\n",
        "print(f'The Precision score for the validation set is:{p_score_test}')\n",
        "print(f'The Recall score for the validation set is:{r_score_test}')\n",
        "print(f'The F1 score for the validation set is:{f1_score_test}')\n",
        "# train_results = [acc_train,p_score_train,r_score_train,f1_score_train]\n",
        "# test_results = [acc_test,p_score_test,r_score_test,f1_score_test]\n"
      ],
      "execution_count": null,
      "outputs": [
        {
          "output_type": "stream",
          "text": [
            "The Accuracy score for the training set is:1.0\n",
            "The Precision score for the training set is:1.0\n",
            "The Recall score for the training set is:1.0\n",
            "The F1 score for the training set is:1.0\n",
            "--------------------------------------------------------------\n",
            "The Accuracy score for the validation set is:0.9820969136659158\n",
            "The Precision score for the validation set is:0.9673773545849721\n",
            "The Recall score for the validation set is:0.997843493114124\n",
            "The F1 score for the validation set is:0.9823742708497556\n"
          ],
          "name": "stdout"
        }
      ]
    },
    {
      "cell_type": "code",
      "metadata": {
        "colab": {
          "base_uri": "https://localhost:8080/",
          "height": 296
        },
        "id": "YLFkfVhpFHfM",
        "outputId": "491294f8-956d-427c-fd91-a02e36d4f5b1"
      },
      "source": [
        "# Plot confusion matrix of training data(Matrix board from left to right: TN,FN,FP,TP)\n",
        "from sklearn.metrics import confusion_matrix\n",
        "from sklearn.metrics import plot_confusion_matrix\n",
        "cm = confusion_matrix(y_train,tr_labelspredict)\n",
        "plot_confusion_matrix(knn, X_train, y_train)"
      ],
      "execution_count": null,
      "outputs": [
        {
          "output_type": "execute_result",
          "data": {
            "text/plain": [
              "<sklearn.metrics._plot.confusion_matrix.ConfusionMatrixDisplay at 0x7ff5e9ecad30>"
            ]
          },
          "metadata": {
            "tags": []
          },
          "execution_count": 15
        },
        {
          "output_type": "display_data",
          "data": {
            "image/png": "[encoded data removed]",
            "text/plain": [
              "<Figure size 432x288 with 2 Axes>"
            ]
          },
          "metadata": {
            "tags": [],
            "needs_background": "light"
          }
        }
      ]
    },
    {
      "cell_type": "markdown",
      "metadata": {
        "id": "6BoZOsU-QQQl"
      },
      "source": [
        "![cm new.png](data:image/png;base64,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)"
      ]
    },
    {
      "cell_type": "markdown",
      "metadata": {
        "id": "k0ZxdRiSPLid"
      },
      "source": [
        ""
      ]
    }
  ]
}