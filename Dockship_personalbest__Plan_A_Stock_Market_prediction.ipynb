{
  "nbformat": 4,
  "nbformat_minor": 0,
  "metadata": {
    "kernelspec": {
      "display_name": "Python 3",
      "language": "python",
      "name": "python3"
    },
    "language_info": {
      "codemirror_mode": {
        "name": "ipython",
        "version": 3
      },
      "file_extension": ".py",
      "mimetype": "text/x-python",
      "name": "python",
      "nbconvert_exporter": "python",
      "pygments_lexer": "ipython3",
      "version": "3.7.1"
    },
    "colab": {
      "name": "Dockship_personalbest _Plan A_Stock Market prediction.ipynb",
      "provenance": [],
      "collapsed_sections": [],
      "include_colab_link": true
    }
  },
  "cells": [
    {
      "cell_type": "markdown",
      "metadata": {
        "id": "view-in-github",
        "colab_type": "text"
      },
      "source": [
        "<a href=\"https://colab.research.google.com/github/mazon1/ML-Test/blob/master/Dockship_personalbest__Plan_A_Stock_Market_prediction.ipynb\" target=\"_parent\"><img src=\"https://colab.research.google.com/assets/colab-badge.svg\" alt=\"Open In Colab\"/></a>"
      ]
    },
    {
      "cell_type": "code",
      "metadata": {
        "colab": {
          "base_uri": "https://localhost:8080/",
          "height": 377
        },
        "id": "A-PEavSvK9Gf",
        "outputId": "d24dbb41-a347-4771-c5c2-ccc8e55a218a"
      },
      "source": [
        "#import packages\n",
        "import pandas as pd\n",
        "import numpy as np\n",
        "\n",
        "#to plot within notebook\n",
        "import matplotlib.pyplot as plt\n",
        "%matplotlib inline\n",
        "\n",
        "#setting figure size\n",
        "from matplotlib.pylab import rcParams\n",
        "rcParams['figure.figsize'] = 20,10\n",
        "\n",
        "#for normalizing data\n",
        "from sklearn.preprocessing import MinMaxScaler\n",
        "scaler = MinMaxScaler(feature_range=(0, 1))\n",
        "\n",
        "# import google drive\n",
        "from google.colab import drive\n",
        "drive.mount('/content/drive/')\n",
        "\n",
        "# Change directory to google drive- Just upload the file right into the drive you want(Uchennamachine) for easy access\n",
        "%cd /content/drive/My Drive/\n",
        "\n",
        "#read the file\n",
        "df = pd.read_csv('dockshipnew_train.csv')\n",
        "dftest =  pd.read_csv('dockshipnew_test.csv')\n",
        "\n",
        "#print the head\n",
        "df.head()\n",
        "\n",
        "\n"
      ],
      "execution_count": null,
      "outputs": [
        {
          "output_type": "stream",
          "text": [
            "Drive already mounted at /content/drive/; to attempt to forcibly remount, call drive.mount(\"/content/drive/\", force_remount=True).\n",
            "/content/drive/My Drive\n"
          ],
          "name": "stdout"
        },
        {
          "output_type": "execute_result",
          "data": {
            "text/html": [
              "<div>\n",
              "<style scoped>\n",
              "    .dataframe tbody tr th:only-of-type {\n",
              "        vertical-align: middle;\n",
              "    }\n",
              "\n",
              "    .dataframe tbody tr th {\n",
              "        vertical-align: top;\n",
              "    }\n",
              "\n",
              "    .dataframe thead th {\n",
              "        text-align: right;\n",
              "    }\n",
              "</style>\n",
              "<table border=\"1\" class=\"dataframe\">\n",
              "  <thead>\n",
              "    <tr style=\"text-align: right;\">\n",
              "      <th></th>\n",
              "      <th>Date</th>\n",
              "      <th>Open-Stock-1</th>\n",
              "      <th>High-Stock-1</th>\n",
              "      <th>Low-Stock-1</th>\n",
              "      <th>Close-Stock-1</th>\n",
              "      <th>VWAP-Stock-1</th>\n",
              "      <th>Volume-Stock-1</th>\n",
              "      <th>Turnover-Stock-1</th>\n",
              "      <th>Open-Stock-2</th>\n",
              "      <th>High-Stock-2</th>\n",
              "      <th>Low-Stock-2</th>\n",
              "      <th>Close-Stock-2</th>\n",
              "      <th>VWAP-Stock-2</th>\n",
              "      <th>Volume-Stock-2</th>\n",
              "      <th>Turnover-Stock-2</th>\n",
              "      <th>Open-Stock-3</th>\n",
              "      <th>High-Stock-3</th>\n",
              "      <th>Low-Stock-3</th>\n",
              "      <th>Close-Stock-3</th>\n",
              "      <th>VWAP-Stock-3</th>\n",
              "      <th>Volume-Stock-3</th>\n",
              "      <th>Turnover-Stock-3</th>\n",
              "      <th>Open-Stock-4</th>\n",
              "      <th>High-Stock-4</th>\n",
              "      <th>Low-Stock-4</th>\n",
              "      <th>Close-Stock-4</th>\n",
              "      <th>VWAP-Stock-4</th>\n",
              "      <th>Volume-Stock-4</th>\n",
              "      <th>Turnover-Stock-4</th>\n",
              "      <th>Open-Stock-5</th>\n",
              "      <th>High-Stock-5</th>\n",
              "      <th>Low-Stock-5</th>\n",
              "      <th>Close-Stock-5</th>\n",
              "      <th>VWAP-Stock-5</th>\n",
              "      <th>Volume-Stock-5</th>\n",
              "      <th>Turnover-Stock-5</th>\n",
              "    </tr>\n",
              "  </thead>\n",
              "  <tbody>\n",
              "    <tr>\n",
              "      <th>0</th>\n",
              "      <td>2010-06-01</td>\n",
              "      <td>1889.7</td>\n",
              "      <td>1890.00</td>\n",
              "      <td>1838.00</td>\n",
              "      <td>1855.10</td>\n",
              "      <td>1855.75</td>\n",
              "      <td>568273</td>\n",
              "      <td>105457457545000</td>\n",
              "      <td>285.40</td>\n",
              "      <td>285.95</td>\n",
              "      <td>281.50</td>\n",
              "      <td>283.00</td>\n",
              "      <td>283.72</td>\n",
              "      <td>3191773</td>\n",
              "      <td>90557243170000</td>\n",
              "      <td>2095.00</td>\n",
              "      <td>2097.8</td>\n",
              "      <td>2045.00</td>\n",
              "      <td>2077.25</td>\n",
              "      <td>2088.95</td>\n",
              "      <td>70547</td>\n",
              "      <td>14736933230000</td>\n",
              "      <td>851.65</td>\n",
              "      <td>864.80</td>\n",
              "      <td>833.1</td>\n",
              "      <td>837.95</td>\n",
              "      <td>844.44</td>\n",
              "      <td>3878011</td>\n",
              "      <td>327474904340000</td>\n",
              "      <td>1235.0</td>\n",
              "      <td>1238.00</td>\n",
              "      <td>1177.0</td>\n",
              "      <td>1181.70</td>\n",
              "      <td>1197.29</td>\n",
              "      <td>1786082</td>\n",
              "      <td>213845404410000</td>\n",
              "    </tr>\n",
              "    <tr>\n",
              "      <th>1</th>\n",
              "      <td>2010-06-02</td>\n",
              "      <td>1848.0</td>\n",
              "      <td>1862.75</td>\n",
              "      <td>1828.00</td>\n",
              "      <td>1853.05</td>\n",
              "      <td>1842.82</td>\n",
              "      <td>945167</td>\n",
              "      <td>174177161135000</td>\n",
              "      <td>284.00</td>\n",
              "      <td>284.80</td>\n",
              "      <td>279.25</td>\n",
              "      <td>281.30</td>\n",
              "      <td>281.05</td>\n",
              "      <td>2704797</td>\n",
              "      <td>76017076445000</td>\n",
              "      <td>2061.45</td>\n",
              "      <td>2098.0</td>\n",
              "      <td>2023.00</td>\n",
              "      <td>2079.85</td>\n",
              "      <td>2059.52</td>\n",
              "      <td>55547</td>\n",
              "      <td>11440017990000</td>\n",
              "      <td>844.70</td>\n",
              "      <td>849.90</td>\n",
              "      <td>823.0</td>\n",
              "      <td>842.30</td>\n",
              "      <td>838.31</td>\n",
              "      <td>3320996</td>\n",
              "      <td>278403743240000</td>\n",
              "      <td>1195.0</td>\n",
              "      <td>1206.95</td>\n",
              "      <td>1168.5</td>\n",
              "      <td>1201.15</td>\n",
              "      <td>1189.87</td>\n",
              "      <td>1307410</td>\n",
              "      <td>155564994855000</td>\n",
              "    </tr>\n",
              "    <tr>\n",
              "      <th>2</th>\n",
              "      <td>2010-06-03</td>\n",
              "      <td>1864.1</td>\n",
              "      <td>1910.00</td>\n",
              "      <td>1864.10</td>\n",
              "      <td>1905.60</td>\n",
              "      <td>1893.91</td>\n",
              "      <td>679689</td>\n",
              "      <td>128727119355000</td>\n",
              "      <td>283.00</td>\n",
              "      <td>286.85</td>\n",
              "      <td>282.50</td>\n",
              "      <td>285.50</td>\n",
              "      <td>285.34</td>\n",
              "      <td>2489752</td>\n",
              "      <td>71043460510000</td>\n",
              "      <td>2131.50</td>\n",
              "      <td>2131.5</td>\n",
              "      <td>2091.05</td>\n",
              "      <td>2114.90</td>\n",
              "      <td>2107.84</td>\n",
              "      <td>55130</td>\n",
              "      <td>11620529360000</td>\n",
              "      <td>851.40</td>\n",
              "      <td>859.05</td>\n",
              "      <td>848.2</td>\n",
              "      <td>854.10</td>\n",
              "      <td>853.51</td>\n",
              "      <td>2494522</td>\n",
              "      <td>212910342645000</td>\n",
              "      <td>1211.0</td>\n",
              "      <td>1248.00</td>\n",
              "      <td>1211.0</td>\n",
              "      <td>1242.30</td>\n",
              "      <td>1231.63</td>\n",
              "      <td>1482919</td>\n",
              "      <td>182640434320000</td>\n",
              "    </tr>\n",
              "    <tr>\n",
              "      <th>3</th>\n",
              "      <td>2010-06-04</td>\n",
              "      <td>1906.0</td>\n",
              "      <td>1909.80</td>\n",
              "      <td>1880.10</td>\n",
              "      <td>1885.70</td>\n",
              "      <td>1889.21</td>\n",
              "      <td>509435</td>\n",
              "      <td>96242800140000</td>\n",
              "      <td>288.85</td>\n",
              "      <td>291.80</td>\n",
              "      <td>277.00</td>\n",
              "      <td>290.85</td>\n",
              "      <td>289.81</td>\n",
              "      <td>3188813</td>\n",
              "      <td>92414802585000</td>\n",
              "      <td>2114.90</td>\n",
              "      <td>2156.0</td>\n",
              "      <td>2095.50</td>\n",
              "      <td>2146.75</td>\n",
              "      <td>2145.36</td>\n",
              "      <td>29302</td>\n",
              "      <td>6286330280000</td>\n",
              "      <td>854.10</td>\n",
              "      <td>868.60</td>\n",
              "      <td>854.1</td>\n",
              "      <td>865.85</td>\n",
              "      <td>862.85</td>\n",
              "      <td>2963920</td>\n",
              "      <td>255740999120000</td>\n",
              "      <td>1240.0</td>\n",
              "      <td>1258.00</td>\n",
              "      <td>1240.0</td>\n",
              "      <td>1245.45</td>\n",
              "      <td>1249.72</td>\n",
              "      <td>1454459</td>\n",
              "      <td>181767075850000</td>\n",
              "    </tr>\n",
              "    <tr>\n",
              "      <th>4</th>\n",
              "      <td>2010-06-07</td>\n",
              "      <td>1867.0</td>\n",
              "      <td>1894.85</td>\n",
              "      <td>1808.35</td>\n",
              "      <td>1876.65</td>\n",
              "      <td>1873.32</td>\n",
              "      <td>961913</td>\n",
              "      <td>180196832650000</td>\n",
              "      <td>285.00</td>\n",
              "      <td>289.10</td>\n",
              "      <td>285.00</td>\n",
              "      <td>287.70</td>\n",
              "      <td>287.01</td>\n",
              "      <td>2198836</td>\n",
              "      <td>63109395135000</td>\n",
              "      <td>2132.35</td>\n",
              "      <td>2209.0</td>\n",
              "      <td>2112.00</td>\n",
              "      <td>2185.25</td>\n",
              "      <td>2180.52</td>\n",
              "      <td>78919</td>\n",
              "      <td>17208425860000</td>\n",
              "      <td>712.00</td>\n",
              "      <td>850.00</td>\n",
              "      <td>712.0</td>\n",
              "      <td>841.95</td>\n",
              "      <td>839.89</td>\n",
              "      <td>3471483</td>\n",
              "      <td>291567400640000</td>\n",
              "      <td>1218.6</td>\n",
              "      <td>1225.00</td>\n",
              "      <td>1196.0</td>\n",
              "      <td>1214.80</td>\n",
              "      <td>1209.27</td>\n",
              "      <td>1424594</td>\n",
              "      <td>172272511430000</td>\n",
              "    </tr>\n",
              "  </tbody>\n",
              "</table>\n",
              "</div>"
            ],
            "text/plain": [
              "         Date  Open-Stock-1  ...  Volume-Stock-5  Turnover-Stock-5\n",
              "0  2010-06-01        1889.7  ...         1786082   213845404410000\n",
              "1  2010-06-02        1848.0  ...         1307410   155564994855000\n",
              "2  2010-06-03        1864.1  ...         1482919   182640434320000\n",
              "3  2010-06-04        1906.0  ...         1454459   181767075850000\n",
              "4  2010-06-07        1867.0  ...         1424594   172272511430000\n",
              "\n",
              "[5 rows x 36 columns]"
            ]
          },
          "metadata": {
            "tags": []
          },
          "execution_count": 193
        }
      ]
    },
    {
      "cell_type": "code",
      "metadata": {
        "colab": {
          "base_uri": "https://localhost:8080/"
        },
        "id": "roi2jslIxO-g",
        "outputId": "1d095d23-074c-45ca-872d-ba1b8cabde3e"
      },
      "source": [
        "# looking at the first five rows of the data\n",
        "print(df.head())\n",
        "print('\\n Shape of the data:')\n",
        "print(df.shape)"
      ],
      "execution_count": null,
      "outputs": [
        {
          "output_type": "stream",
          "text": [
            "         Date  Open-Stock-1  ...  Volume-Stock-5  Turnover-Stock-5\n",
            "0  2010-06-01        1889.7  ...         1786082   213845404410000\n",
            "1  2010-06-02        1848.0  ...         1307410   155564994855000\n",
            "2  2010-06-03        1864.1  ...         1482919   182640434320000\n",
            "3  2010-06-04        1906.0  ...         1454459   181767075850000\n",
            "4  2010-06-07        1867.0  ...         1424594   172272511430000\n",
            "\n",
            "[5 rows x 36 columns]\n",
            "\n",
            " Shape of the data:\n",
            "(299, 36)\n"
          ],
          "name": "stdout"
        }
      ]
    },
    {
      "cell_type": "code",
      "metadata": {
        "colab": {
          "base_uri": "https://localhost:8080/",
          "height": 258
        },
        "id": "gGUKUQfMXn0k",
        "outputId": "62349c38-5ee5-489a-8ed7-90b9a0073cc7"
      },
      "source": [
        "#Converting the date to ordinal format. Model wasn't predicting with ML models without this change\n",
        "import datetime as dt\n",
        "\n",
        "df['Date'] = pd.to_datetime(df['Date'])\n",
        "df['Date']=df['Date'].map(dt.datetime.toordinal)\n",
        "df.head()"
      ],
      "execution_count": null,
      "outputs": [
        {
          "output_type": "execute_result",
          "data": {
            "text/html": [
              "<div>\n",
              "<style scoped>\n",
              "    .dataframe tbody tr th:only-of-type {\n",
              "        vertical-align: middle;\n",
              "    }\n",
              "\n",
              "    .dataframe tbody tr th {\n",
              "        vertical-align: top;\n",
              "    }\n",
              "\n",
              "    .dataframe thead th {\n",
              "        text-align: right;\n",
              "    }\n",
              "</style>\n",
              "<table border=\"1\" class=\"dataframe\">\n",
              "  <thead>\n",
              "    <tr style=\"text-align: right;\">\n",
              "      <th></th>\n",
              "      <th>Date</th>\n",
              "      <th>Open-Stock-1</th>\n",
              "      <th>High-Stock-1</th>\n",
              "      <th>Low-Stock-1</th>\n",
              "      <th>Close-Stock-1</th>\n",
              "      <th>VWAP-Stock-1</th>\n",
              "      <th>Volume-Stock-1</th>\n",
              "      <th>Turnover-Stock-1</th>\n",
              "      <th>Open-Stock-2</th>\n",
              "      <th>High-Stock-2</th>\n",
              "      <th>Low-Stock-2</th>\n",
              "      <th>Close-Stock-2</th>\n",
              "      <th>VWAP-Stock-2</th>\n",
              "      <th>Volume-Stock-2</th>\n",
              "      <th>Turnover-Stock-2</th>\n",
              "      <th>Open-Stock-3</th>\n",
              "      <th>High-Stock-3</th>\n",
              "      <th>Low-Stock-3</th>\n",
              "      <th>Close-Stock-3</th>\n",
              "      <th>VWAP-Stock-3</th>\n",
              "      <th>Volume-Stock-3</th>\n",
              "      <th>Turnover-Stock-3</th>\n",
              "      <th>Open-Stock-4</th>\n",
              "      <th>High-Stock-4</th>\n",
              "      <th>Low-Stock-4</th>\n",
              "      <th>Close-Stock-4</th>\n",
              "      <th>VWAP-Stock-4</th>\n",
              "      <th>Volume-Stock-4</th>\n",
              "      <th>Turnover-Stock-4</th>\n",
              "      <th>Open-Stock-5</th>\n",
              "      <th>High-Stock-5</th>\n",
              "      <th>Low-Stock-5</th>\n",
              "      <th>Close-Stock-5</th>\n",
              "      <th>VWAP-Stock-5</th>\n",
              "      <th>Volume-Stock-5</th>\n",
              "      <th>Turnover-Stock-5</th>\n",
              "    </tr>\n",
              "  </thead>\n",
              "  <tbody>\n",
              "    <tr>\n",
              "      <th>0</th>\n",
              "      <td>733924</td>\n",
              "      <td>1889.7</td>\n",
              "      <td>1890.00</td>\n",
              "      <td>1838.00</td>\n",
              "      <td>1855.10</td>\n",
              "      <td>1855.75</td>\n",
              "      <td>568273</td>\n",
              "      <td>105457457545000</td>\n",
              "      <td>285.40</td>\n",
              "      <td>285.95</td>\n",
              "      <td>281.50</td>\n",
              "      <td>283.00</td>\n",
              "      <td>283.72</td>\n",
              "      <td>3191773</td>\n",
              "      <td>90557243170000</td>\n",
              "      <td>2095.00</td>\n",
              "      <td>2097.8</td>\n",
              "      <td>2045.00</td>\n",
              "      <td>2077.25</td>\n",
              "      <td>2088.95</td>\n",
              "      <td>70547</td>\n",
              "      <td>14736933230000</td>\n",
              "      <td>851.65</td>\n",
              "      <td>864.80</td>\n",
              "      <td>833.1</td>\n",
              "      <td>837.95</td>\n",
              "      <td>844.44</td>\n",
              "      <td>3878011</td>\n",
              "      <td>327474904340000</td>\n",
              "      <td>1235.0</td>\n",
              "      <td>1238.00</td>\n",
              "      <td>1177.0</td>\n",
              "      <td>1181.70</td>\n",
              "      <td>1197.29</td>\n",
              "      <td>1786082</td>\n",
              "      <td>213845404410000</td>\n",
              "    </tr>\n",
              "    <tr>\n",
              "      <th>1</th>\n",
              "      <td>733925</td>\n",
              "      <td>1848.0</td>\n",
              "      <td>1862.75</td>\n",
              "      <td>1828.00</td>\n",
              "      <td>1853.05</td>\n",
              "      <td>1842.82</td>\n",
              "      <td>945167</td>\n",
              "      <td>174177161135000</td>\n",
              "      <td>284.00</td>\n",
              "      <td>284.80</td>\n",
              "      <td>279.25</td>\n",
              "      <td>281.30</td>\n",
              "      <td>281.05</td>\n",
              "      <td>2704797</td>\n",
              "      <td>76017076445000</td>\n",
              "      <td>2061.45</td>\n",
              "      <td>2098.0</td>\n",
              "      <td>2023.00</td>\n",
              "      <td>2079.85</td>\n",
              "      <td>2059.52</td>\n",
              "      <td>55547</td>\n",
              "      <td>11440017990000</td>\n",
              "      <td>844.70</td>\n",
              "      <td>849.90</td>\n",
              "      <td>823.0</td>\n",
              "      <td>842.30</td>\n",
              "      <td>838.31</td>\n",
              "      <td>3320996</td>\n",
              "      <td>278403743240000</td>\n",
              "      <td>1195.0</td>\n",
              "      <td>1206.95</td>\n",
              "      <td>1168.5</td>\n",
              "      <td>1201.15</td>\n",
              "      <td>1189.87</td>\n",
              "      <td>1307410</td>\n",
              "      <td>155564994855000</td>\n",
              "    </tr>\n",
              "    <tr>\n",
              "      <th>2</th>\n",
              "      <td>733926</td>\n",
              "      <td>1864.1</td>\n",
              "      <td>1910.00</td>\n",
              "      <td>1864.10</td>\n",
              "      <td>1905.60</td>\n",
              "      <td>1893.91</td>\n",
              "      <td>679689</td>\n",
              "      <td>128727119355000</td>\n",
              "      <td>283.00</td>\n",
              "      <td>286.85</td>\n",
              "      <td>282.50</td>\n",
              "      <td>285.50</td>\n",
              "      <td>285.34</td>\n",
              "      <td>2489752</td>\n",
              "      <td>71043460510000</td>\n",
              "      <td>2131.50</td>\n",
              "      <td>2131.5</td>\n",
              "      <td>2091.05</td>\n",
              "      <td>2114.90</td>\n",
              "      <td>2107.84</td>\n",
              "      <td>55130</td>\n",
              "      <td>11620529360000</td>\n",
              "      <td>851.40</td>\n",
              "      <td>859.05</td>\n",
              "      <td>848.2</td>\n",
              "      <td>854.10</td>\n",
              "      <td>853.51</td>\n",
              "      <td>2494522</td>\n",
              "      <td>212910342645000</td>\n",
              "      <td>1211.0</td>\n",
              "      <td>1248.00</td>\n",
              "      <td>1211.0</td>\n",
              "      <td>1242.30</td>\n",
              "      <td>1231.63</td>\n",
              "      <td>1482919</td>\n",
              "      <td>182640434320000</td>\n",
              "    </tr>\n",
              "    <tr>\n",
              "      <th>3</th>\n",
              "      <td>733927</td>\n",
              "      <td>1906.0</td>\n",
              "      <td>1909.80</td>\n",
              "      <td>1880.10</td>\n",
              "      <td>1885.70</td>\n",
              "      <td>1889.21</td>\n",
              "      <td>509435</td>\n",
              "      <td>96242800140000</td>\n",
              "      <td>288.85</td>\n",
              "      <td>291.80</td>\n",
              "      <td>277.00</td>\n",
              "      <td>290.85</td>\n",
              "      <td>289.81</td>\n",
              "      <td>3188813</td>\n",
              "      <td>92414802585000</td>\n",
              "      <td>2114.90</td>\n",
              "      <td>2156.0</td>\n",
              "      <td>2095.50</td>\n",
              "      <td>2146.75</td>\n",
              "      <td>2145.36</td>\n",
              "      <td>29302</td>\n",
              "      <td>6286330280000</td>\n",
              "      <td>854.10</td>\n",
              "      <td>868.60</td>\n",
              "      <td>854.1</td>\n",
              "      <td>865.85</td>\n",
              "      <td>862.85</td>\n",
              "      <td>2963920</td>\n",
              "      <td>255740999120000</td>\n",
              "      <td>1240.0</td>\n",
              "      <td>1258.00</td>\n",
              "      <td>1240.0</td>\n",
              "      <td>1245.45</td>\n",
              "      <td>1249.72</td>\n",
              "      <td>1454459</td>\n",
              "      <td>181767075850000</td>\n",
              "    </tr>\n",
              "    <tr>\n",
              "      <th>4</th>\n",
              "      <td>733930</td>\n",
              "      <td>1867.0</td>\n",
              "      <td>1894.85</td>\n",
              "      <td>1808.35</td>\n",
              "      <td>1876.65</td>\n",
              "      <td>1873.32</td>\n",
              "      <td>961913</td>\n",
              "      <td>180196832650000</td>\n",
              "      <td>285.00</td>\n",
              "      <td>289.10</td>\n",
              "      <td>285.00</td>\n",
              "      <td>287.70</td>\n",
              "      <td>287.01</td>\n",
              "      <td>2198836</td>\n",
              "      <td>63109395135000</td>\n",
              "      <td>2132.35</td>\n",
              "      <td>2209.0</td>\n",
              "      <td>2112.00</td>\n",
              "      <td>2185.25</td>\n",
              "      <td>2180.52</td>\n",
              "      <td>78919</td>\n",
              "      <td>17208425860000</td>\n",
              "      <td>712.00</td>\n",
              "      <td>850.00</td>\n",
              "      <td>712.0</td>\n",
              "      <td>841.95</td>\n",
              "      <td>839.89</td>\n",
              "      <td>3471483</td>\n",
              "      <td>291567400640000</td>\n",
              "      <td>1218.6</td>\n",
              "      <td>1225.00</td>\n",
              "      <td>1196.0</td>\n",
              "      <td>1214.80</td>\n",
              "      <td>1209.27</td>\n",
              "      <td>1424594</td>\n",
              "      <td>172272511430000</td>\n",
              "    </tr>\n",
              "  </tbody>\n",
              "</table>\n",
              "</div>"
            ],
            "text/plain": [
              "     Date  Open-Stock-1  ...  Volume-Stock-5  Turnover-Stock-5\n",
              "0  733924        1889.7  ...         1786082   213845404410000\n",
              "1  733925        1848.0  ...         1307410   155564994855000\n",
              "2  733926        1864.1  ...         1482919   182640434320000\n",
              "3  733927        1906.0  ...         1454459   181767075850000\n",
              "4  733930        1867.0  ...         1424594   172272511430000\n",
              "\n",
              "[5 rows x 36 columns]"
            ]
          },
          "metadata": {
            "tags": []
          },
          "execution_count": 195
        }
      ]
    },
    {
      "cell_type": "code",
      "metadata": {
        "id": "4KeA--9sxWea"
      },
      "source": [
        "# # setting the index as date\n",
        "# df['Date'] = pd.to_datetime(df.Date,format='%Y-%m-%d')\n",
        "# df.index = df['Date']"
      ],
      "execution_count": null,
      "outputs": []
    },
    {
      "cell_type": "markdown",
      "metadata": {
        "id": "u6q8MIr1rWKj"
      },
      "source": [
        "There are multiple variables in the dataset – date, open, high, low, last, close, total_trade_quantity, and turnover.\n",
        "\n",
        "The columns Open and Close represent the starting and final price at which the stock is traded on a particular day.\n",
        "High, Low and Last represent the maximum, minimum, and last price of the share for the day.\n",
        "\n",
        "Another important thing to note is that the market is closed on weekends and public holidays.Notice the above table again, some date values are missing – 2010-06-05 and 2010-06-06 and fall on a weekend. "
      ]
    },
    {
      "cell_type": "code",
      "metadata": {
        "colab": {
          "base_uri": "https://localhost:8080/",
          "height": 428
        },
        "id": "ul57sGjrL6dq",
        "outputId": "5631b809-98e0-4dc1-c5b0-c1f6d1313a55"
      },
      "source": [
        "dftest.head()"
      ],
      "execution_count": null,
      "outputs": [
        {
          "output_type": "execute_result",
          "data": {
            "text/html": [
              "<div>\n",
              "<style scoped>\n",
              "    .dataframe tbody tr th:only-of-type {\n",
              "        vertical-align: middle;\n",
              "    }\n",
              "\n",
              "    .dataframe tbody tr th {\n",
              "        vertical-align: top;\n",
              "    }\n",
              "\n",
              "    .dataframe thead th {\n",
              "        text-align: right;\n",
              "    }\n",
              "</style>\n",
              "<table border=\"1\" class=\"dataframe\">\n",
              "  <thead>\n",
              "    <tr style=\"text-align: right;\">\n",
              "      <th></th>\n",
              "      <th>Date</th>\n",
              "      <th>Open-Stock-1</th>\n",
              "      <th>High-Stock-1</th>\n",
              "      <th>Low-Stock-1</th>\n",
              "      <th>VWAP-Stock-1</th>\n",
              "      <th>Volume-Stock-1</th>\n",
              "      <th>Turnover-Stock-1</th>\n",
              "      <th>Open-Stock-2</th>\n",
              "      <th>High-Stock-2</th>\n",
              "      <th>Low-Stock-2</th>\n",
              "      <th>VWAP-Stock-2</th>\n",
              "      <th>Volume-Stock-2</th>\n",
              "      <th>Turnover-Stock-2</th>\n",
              "      <th>Open-Stock-3</th>\n",
              "      <th>High-Stock-3</th>\n",
              "      <th>Low-Stock-3</th>\n",
              "      <th>VWAP-Stock-3</th>\n",
              "      <th>Volume-Stock-3</th>\n",
              "      <th>Turnover-Stock-3</th>\n",
              "      <th>Open-Stock-4</th>\n",
              "      <th>High-Stock-4</th>\n",
              "      <th>Low-Stock-4</th>\n",
              "      <th>VWAP-Stock-4</th>\n",
              "      <th>Volume-Stock-4</th>\n",
              "      <th>Turnover-Stock-4</th>\n",
              "      <th>Open-Stock-5</th>\n",
              "      <th>High-Stock-5</th>\n",
              "      <th>Low-Stock-5</th>\n",
              "      <th>VWAP-Stock-5</th>\n",
              "      <th>Volume-Stock-5</th>\n",
              "      <th>Turnover-Stock-5</th>\n",
              "    </tr>\n",
              "  </thead>\n",
              "  <tbody>\n",
              "    <tr>\n",
              "      <th>0</th>\n",
              "      <td>2011-08-04</td>\n",
              "      <td>484.1</td>\n",
              "      <td>488.90</td>\n",
              "      <td>475.00</td>\n",
              "      <td>481.00</td>\n",
              "      <td>1829606</td>\n",
              "      <td>88003633160000</td>\n",
              "      <td>204.90</td>\n",
              "      <td>206.75</td>\n",
              "      <td>199.20</td>\n",
              "      <td>202.98</td>\n",
              "      <td>10501999</td>\n",
              "      <td>213174133870000</td>\n",
              "      <td>3011.15</td>\n",
              "      <td>3119.95</td>\n",
              "      <td>3011.15</td>\n",
              "      <td>3078.97</td>\n",
              "      <td>53783</td>\n",
              "      <td>16559616060000</td>\n",
              "      <td>1008.50</td>\n",
              "      <td>1015.0</td>\n",
              "      <td>990.00</td>\n",
              "      <td>1003.31</td>\n",
              "      <td>2716435</td>\n",
              "      <td>272542181190000</td>\n",
              "      <td>1303.6</td>\n",
              "      <td>1312.8</td>\n",
              "      <td>1281.00</td>\n",
              "      <td>1297.04</td>\n",
              "      <td>1569675</td>\n",
              "      <td>203593328285000</td>\n",
              "    </tr>\n",
              "    <tr>\n",
              "      <th>1</th>\n",
              "      <td>2011-08-05</td>\n",
              "      <td>465.0</td>\n",
              "      <td>475.80</td>\n",
              "      <td>457.10</td>\n",
              "      <td>469.56</td>\n",
              "      <td>3156094</td>\n",
              "      <td>148196817355000</td>\n",
              "      <td>195.00</td>\n",
              "      <td>198.00</td>\n",
              "      <td>190.50</td>\n",
              "      <td>194.86</td>\n",
              "      <td>13424736</td>\n",
              "      <td>261588793565000</td>\n",
              "      <td>3091.65</td>\n",
              "      <td>3095.00</td>\n",
              "      <td>3012.00</td>\n",
              "      <td>3061.60</td>\n",
              "      <td>129372</td>\n",
              "      <td>39608524605000</td>\n",
              "      <td>970.00</td>\n",
              "      <td>979.7</td>\n",
              "      <td>950.00</td>\n",
              "      <td>961.50</td>\n",
              "      <td>4644498</td>\n",
              "      <td>446567961345000</td>\n",
              "      <td>1245.0</td>\n",
              "      <td>1252.5</td>\n",
              "      <td>1200.00</td>\n",
              "      <td>1229.09</td>\n",
              "      <td>3125692</td>\n",
              "      <td>384176649890000</td>\n",
              "    </tr>\n",
              "    <tr>\n",
              "      <th>2</th>\n",
              "      <td>2011-08-08</td>\n",
              "      <td>463.0</td>\n",
              "      <td>480.00</td>\n",
              "      <td>458.05</td>\n",
              "      <td>465.04</td>\n",
              "      <td>4308373</td>\n",
              "      <td>200357861965000</td>\n",
              "      <td>193.90</td>\n",
              "      <td>197.80</td>\n",
              "      <td>189.65</td>\n",
              "      <td>194.89</td>\n",
              "      <td>9002509</td>\n",
              "      <td>175445729750000</td>\n",
              "      <td>3015.05</td>\n",
              "      <td>3109.00</td>\n",
              "      <td>3010.00</td>\n",
              "      <td>3069.09</td>\n",
              "      <td>46725</td>\n",
              "      <td>14340318455000</td>\n",
              "      <td>940.05</td>\n",
              "      <td>975.0</td>\n",
              "      <td>933.40</td>\n",
              "      <td>953.24</td>\n",
              "      <td>3450619</td>\n",
              "      <td>328925252905000</td>\n",
              "      <td>1205.2</td>\n",
              "      <td>1265.8</td>\n",
              "      <td>1200.55</td>\n",
              "      <td>1232.93</td>\n",
              "      <td>1660178</td>\n",
              "      <td>204687918340000</td>\n",
              "    </tr>\n",
              "    <tr>\n",
              "      <th>3</th>\n",
              "      <td>2011-08-09</td>\n",
              "      <td>450.0</td>\n",
              "      <td>473.55</td>\n",
              "      <td>449.85</td>\n",
              "      <td>460.88</td>\n",
              "      <td>4490924</td>\n",
              "      <td>206978212685000</td>\n",
              "      <td>190.25</td>\n",
              "      <td>202.10</td>\n",
              "      <td>190.10</td>\n",
              "      <td>197.61</td>\n",
              "      <td>19202643</td>\n",
              "      <td>379464261110000</td>\n",
              "      <td>3070.00</td>\n",
              "      <td>3164.00</td>\n",
              "      <td>2988.00</td>\n",
              "      <td>3113.84</td>\n",
              "      <td>88749</td>\n",
              "      <td>27635029505000</td>\n",
              "      <td>915.00</td>\n",
              "      <td>967.6</td>\n",
              "      <td>910.45</td>\n",
              "      <td>938.80</td>\n",
              "      <td>5346085</td>\n",
              "      <td>501890604795000</td>\n",
              "      <td>1190.5</td>\n",
              "      <td>1238.3</td>\n",
              "      <td>1180.90</td>\n",
              "      <td>1206.06</td>\n",
              "      <td>3618186</td>\n",
              "      <td>436376441205000</td>\n",
              "    </tr>\n",
              "    <tr>\n",
              "      <th>4</th>\n",
              "      <td>2011-08-10</td>\n",
              "      <td>494.8</td>\n",
              "      <td>494.80</td>\n",
              "      <td>473.40</td>\n",
              "      <td>478.06</td>\n",
              "      <td>3267226</td>\n",
              "      <td>156192368225000</td>\n",
              "      <td>202.00</td>\n",
              "      <td>202.85</td>\n",
              "      <td>196.00</td>\n",
              "      <td>199.07</td>\n",
              "      <td>9274996</td>\n",
              "      <td>184640866420000</td>\n",
              "      <td>3125.00</td>\n",
              "      <td>3195.00</td>\n",
              "      <td>3125.00</td>\n",
              "      <td>3170.39</td>\n",
              "      <td>52720</td>\n",
              "      <td>16714302965000</td>\n",
              "      <td>963.95</td>\n",
              "      <td>971.2</td>\n",
              "      <td>957.70</td>\n",
              "      <td>964.75</td>\n",
              "      <td>3379659</td>\n",
              "      <td>326053305165000</td>\n",
              "      <td>1242.0</td>\n",
              "      <td>1253.7</td>\n",
              "      <td>1225.30</td>\n",
              "      <td>1242.10</td>\n",
              "      <td>1903396</td>\n",
              "      <td>236421421150000</td>\n",
              "    </tr>\n",
              "  </tbody>\n",
              "</table>\n",
              "</div>"
            ],
            "text/plain": [
              "         Date  Open-Stock-1  ...  Volume-Stock-5  Turnover-Stock-5\n",
              "0  2011-08-04         484.1  ...         1569675   203593328285000\n",
              "1  2011-08-05         465.0  ...         3125692   384176649890000\n",
              "2  2011-08-08         463.0  ...         1660178   204687918340000\n",
              "3  2011-08-09         450.0  ...         3618186   436376441205000\n",
              "4  2011-08-10         494.8  ...         1903396   236421421150000\n",
              "\n",
              "[5 rows x 31 columns]"
            ]
          },
          "metadata": {
            "tags": []
          },
          "execution_count": 197
        }
      ]
    },
    {
      "cell_type": "code",
      "metadata": {
        "colab": {
          "base_uri": "https://localhost:8080/",
          "height": 258
        },
        "id": "e57KlPAKElQU",
        "outputId": "afe27bea-6ad7-49af-8af7-e05d02d71276"
      },
      "source": [
        "#convert Test Data dates to ordinal format\n",
        "#Converting the date to ordinal format. Model wasn't predicting with ML models without this change\n",
        "\n",
        "\n",
        "dftest['Date'] = pd.to_datetime(dftest['Date'])\n",
        "dftest['Date']=dftest['Date'].map(dt.datetime.toordinal)\n",
        "dftest.head()\n"
      ],
      "execution_count": null,
      "outputs": [
        {
          "output_type": "execute_result",
          "data": {
            "text/html": [
              "<div>\n",
              "<style scoped>\n",
              "    .dataframe tbody tr th:only-of-type {\n",
              "        vertical-align: middle;\n",
              "    }\n",
              "\n",
              "    .dataframe tbody tr th {\n",
              "        vertical-align: top;\n",
              "    }\n",
              "\n",
              "    .dataframe thead th {\n",
              "        text-align: right;\n",
              "    }\n",
              "</style>\n",
              "<table border=\"1\" class=\"dataframe\">\n",
              "  <thead>\n",
              "    <tr style=\"text-align: right;\">\n",
              "      <th></th>\n",
              "      <th>Date</th>\n",
              "      <th>Open-Stock-1</th>\n",
              "      <th>High-Stock-1</th>\n",
              "      <th>Low-Stock-1</th>\n",
              "      <th>VWAP-Stock-1</th>\n",
              "      <th>Volume-Stock-1</th>\n",
              "      <th>Turnover-Stock-1</th>\n",
              "      <th>Open-Stock-2</th>\n",
              "      <th>High-Stock-2</th>\n",
              "      <th>Low-Stock-2</th>\n",
              "      <th>VWAP-Stock-2</th>\n",
              "      <th>Volume-Stock-2</th>\n",
              "      <th>Turnover-Stock-2</th>\n",
              "      <th>Open-Stock-3</th>\n",
              "      <th>High-Stock-3</th>\n",
              "      <th>Low-Stock-3</th>\n",
              "      <th>VWAP-Stock-3</th>\n",
              "      <th>Volume-Stock-3</th>\n",
              "      <th>Turnover-Stock-3</th>\n",
              "      <th>Open-Stock-4</th>\n",
              "      <th>High-Stock-4</th>\n",
              "      <th>Low-Stock-4</th>\n",
              "      <th>VWAP-Stock-4</th>\n",
              "      <th>Volume-Stock-4</th>\n",
              "      <th>Turnover-Stock-4</th>\n",
              "      <th>Open-Stock-5</th>\n",
              "      <th>High-Stock-5</th>\n",
              "      <th>Low-Stock-5</th>\n",
              "      <th>VWAP-Stock-5</th>\n",
              "      <th>Volume-Stock-5</th>\n",
              "      <th>Turnover-Stock-5</th>\n",
              "    </tr>\n",
              "  </thead>\n",
              "  <tbody>\n",
              "    <tr>\n",
              "      <th>0</th>\n",
              "      <td>734353</td>\n",
              "      <td>484.1</td>\n",
              "      <td>488.90</td>\n",
              "      <td>475.00</td>\n",
              "      <td>481.00</td>\n",
              "      <td>1829606</td>\n",
              "      <td>88003633160000</td>\n",
              "      <td>204.90</td>\n",
              "      <td>206.75</td>\n",
              "      <td>199.20</td>\n",
              "      <td>202.98</td>\n",
              "      <td>10501999</td>\n",
              "      <td>213174133870000</td>\n",
              "      <td>3011.15</td>\n",
              "      <td>3119.95</td>\n",
              "      <td>3011.15</td>\n",
              "      <td>3078.97</td>\n",
              "      <td>53783</td>\n",
              "      <td>16559616060000</td>\n",
              "      <td>1008.50</td>\n",
              "      <td>1015.0</td>\n",
              "      <td>990.00</td>\n",
              "      <td>1003.31</td>\n",
              "      <td>2716435</td>\n",
              "      <td>272542181190000</td>\n",
              "      <td>1303.6</td>\n",
              "      <td>1312.8</td>\n",
              "      <td>1281.00</td>\n",
              "      <td>1297.04</td>\n",
              "      <td>1569675</td>\n",
              "      <td>203593328285000</td>\n",
              "    </tr>\n",
              "    <tr>\n",
              "      <th>1</th>\n",
              "      <td>734354</td>\n",
              "      <td>465.0</td>\n",
              "      <td>475.80</td>\n",
              "      <td>457.10</td>\n",
              "      <td>469.56</td>\n",
              "      <td>3156094</td>\n",
              "      <td>148196817355000</td>\n",
              "      <td>195.00</td>\n",
              "      <td>198.00</td>\n",
              "      <td>190.50</td>\n",
              "      <td>194.86</td>\n",
              "      <td>13424736</td>\n",
              "      <td>261588793565000</td>\n",
              "      <td>3091.65</td>\n",
              "      <td>3095.00</td>\n",
              "      <td>3012.00</td>\n",
              "      <td>3061.60</td>\n",
              "      <td>129372</td>\n",
              "      <td>39608524605000</td>\n",
              "      <td>970.00</td>\n",
              "      <td>979.7</td>\n",
              "      <td>950.00</td>\n",
              "      <td>961.50</td>\n",
              "      <td>4644498</td>\n",
              "      <td>446567961345000</td>\n",
              "      <td>1245.0</td>\n",
              "      <td>1252.5</td>\n",
              "      <td>1200.00</td>\n",
              "      <td>1229.09</td>\n",
              "      <td>3125692</td>\n",
              "      <td>384176649890000</td>\n",
              "    </tr>\n",
              "    <tr>\n",
              "      <th>2</th>\n",
              "      <td>734357</td>\n",
              "      <td>463.0</td>\n",
              "      <td>480.00</td>\n",
              "      <td>458.05</td>\n",
              "      <td>465.04</td>\n",
              "      <td>4308373</td>\n",
              "      <td>200357861965000</td>\n",
              "      <td>193.90</td>\n",
              "      <td>197.80</td>\n",
              "      <td>189.65</td>\n",
              "      <td>194.89</td>\n",
              "      <td>9002509</td>\n",
              "      <td>175445729750000</td>\n",
              "      <td>3015.05</td>\n",
              "      <td>3109.00</td>\n",
              "      <td>3010.00</td>\n",
              "      <td>3069.09</td>\n",
              "      <td>46725</td>\n",
              "      <td>14340318455000</td>\n",
              "      <td>940.05</td>\n",
              "      <td>975.0</td>\n",
              "      <td>933.40</td>\n",
              "      <td>953.24</td>\n",
              "      <td>3450619</td>\n",
              "      <td>328925252905000</td>\n",
              "      <td>1205.2</td>\n",
              "      <td>1265.8</td>\n",
              "      <td>1200.55</td>\n",
              "      <td>1232.93</td>\n",
              "      <td>1660178</td>\n",
              "      <td>204687918340000</td>\n",
              "    </tr>\n",
              "    <tr>\n",
              "      <th>3</th>\n",
              "      <td>734358</td>\n",
              "      <td>450.0</td>\n",
              "      <td>473.55</td>\n",
              "      <td>449.85</td>\n",
              "      <td>460.88</td>\n",
              "      <td>4490924</td>\n",
              "      <td>206978212685000</td>\n",
              "      <td>190.25</td>\n",
              "      <td>202.10</td>\n",
              "      <td>190.10</td>\n",
              "      <td>197.61</td>\n",
              "      <td>19202643</td>\n",
              "      <td>379464261110000</td>\n",
              "      <td>3070.00</td>\n",
              "      <td>3164.00</td>\n",
              "      <td>2988.00</td>\n",
              "      <td>3113.84</td>\n",
              "      <td>88749</td>\n",
              "      <td>27635029505000</td>\n",
              "      <td>915.00</td>\n",
              "      <td>967.6</td>\n",
              "      <td>910.45</td>\n",
              "      <td>938.80</td>\n",
              "      <td>5346085</td>\n",
              "      <td>501890604795000</td>\n",
              "      <td>1190.5</td>\n",
              "      <td>1238.3</td>\n",
              "      <td>1180.90</td>\n",
              "      <td>1206.06</td>\n",
              "      <td>3618186</td>\n",
              "      <td>436376441205000</td>\n",
              "    </tr>\n",
              "    <tr>\n",
              "      <th>4</th>\n",
              "      <td>734359</td>\n",
              "      <td>494.8</td>\n",
              "      <td>494.80</td>\n",
              "      <td>473.40</td>\n",
              "      <td>478.06</td>\n",
              "      <td>3267226</td>\n",
              "      <td>156192368225000</td>\n",
              "      <td>202.00</td>\n",
              "      <td>202.85</td>\n",
              "      <td>196.00</td>\n",
              "      <td>199.07</td>\n",
              "      <td>9274996</td>\n",
              "      <td>184640866420000</td>\n",
              "      <td>3125.00</td>\n",
              "      <td>3195.00</td>\n",
              "      <td>3125.00</td>\n",
              "      <td>3170.39</td>\n",
              "      <td>52720</td>\n",
              "      <td>16714302965000</td>\n",
              "      <td>963.95</td>\n",
              "      <td>971.2</td>\n",
              "      <td>957.70</td>\n",
              "      <td>964.75</td>\n",
              "      <td>3379659</td>\n",
              "      <td>326053305165000</td>\n",
              "      <td>1242.0</td>\n",
              "      <td>1253.7</td>\n",
              "      <td>1225.30</td>\n",
              "      <td>1242.10</td>\n",
              "      <td>1903396</td>\n",
              "      <td>236421421150000</td>\n",
              "    </tr>\n",
              "  </tbody>\n",
              "</table>\n",
              "</div>"
            ],
            "text/plain": [
              "     Date  Open-Stock-1  ...  Volume-Stock-5  Turnover-Stock-5\n",
              "0  734353         484.1  ...         1569675   203593328285000\n",
              "1  734354         465.0  ...         3125692   384176649890000\n",
              "2  734357         463.0  ...         1660178   204687918340000\n",
              "3  734358         450.0  ...         3618186   436376441205000\n",
              "4  734359         494.8  ...         1903396   236421421150000\n",
              "\n",
              "[5 rows x 31 columns]"
            ]
          },
          "metadata": {
            "tags": []
          },
          "execution_count": 198
        }
      ]
    },
    {
      "cell_type": "markdown",
      "metadata": {
        "id": "Uz3DQmkUthHr"
      },
      "source": [
        "# Seperate Train Data Set into 5 stock 5 prices"
      ]
    },
    {
      "cell_type": "code",
      "metadata": {
        "id": "A2G-i7YMtjRO"
      },
      "source": [
        "df1=df[['Date','Open-Stock-1','High-Stock-1','Low-Stock-1','Close-Stock-1','VWAP-Stock-1','Volume-Stock-1','Turnover-Stock-1']]\n",
        "df2=df[['Date','Open-Stock-2','High-Stock-2','Low-Stock-2','Close-Stock-2','VWAP-Stock-2','Volume-Stock-2','Turnover-Stock-2']]\n",
        "df3=df[['Date','Open-Stock-3','High-Stock-3','Low-Stock-3','Close-Stock-3','VWAP-Stock-3','Volume-Stock-3','Turnover-Stock-3']]\n",
        "df4=df[['Date','Open-Stock-4','High-Stock-4','Low-Stock-4','Close-Stock-4','VWAP-Stock-4','Volume-Stock-4','Turnover-Stock-4']]\n",
        "df5=df[['Date','Open-Stock-5','High-Stock-5','Low-Stock-5','Close-Stock-5','VWAP-Stock-5','Volume-Stock-5','Turnover-Stock-5']]\n",
        "\n",
        "dftest1=dftest[['Date','Open-Stock-1','High-Stock-1','Low-Stock-1','VWAP-Stock-1','Volume-Stock-1','Turnover-Stock-1']]\n",
        "dftest2=dftest[['Date','Open-Stock-2','High-Stock-2','Low-Stock-2','VWAP-Stock-2','Volume-Stock-2','Turnover-Stock-2']]\n",
        "dftest3=dftest[['Date','Open-Stock-3','High-Stock-3','Low-Stock-3','VWAP-Stock-3','Volume-Stock-3','Turnover-Stock-3']]\n",
        "dftest4=dftest[['Date','Open-Stock-4','High-Stock-4','Low-Stock-4','VWAP-Stock-4','Volume-Stock-4','Turnover-Stock-4']]\n",
        "dftest5=dftest[['Date','Open-Stock-5','High-Stock-5','Low-Stock-5','VWAP-Stock-5','Volume-Stock-5','Turnover-Stock-5']]"
      ],
      "execution_count": null,
      "outputs": []
    },
    {
      "cell_type": "code",
      "metadata": {
        "id": "l2YQhkM-u0xm"
      },
      "source": [
        "#Seperate Labels\n",
        "# Extract labels for each stock training data\n",
        "dflabel1=df[['Close-Stock-1']]\n",
        "dflabel2=df[['Close-Stock-2']]\n",
        "dflabel3=df[['Close-Stock-3']]\n",
        "dflabel4=df[['Close-Stock-4']]\n",
        "dflabel5=df[['Close-Stock-5']]"
      ],
      "execution_count": null,
      "outputs": []
    },
    {
      "cell_type": "markdown",
      "metadata": {
        "id": "YnXlwRuj0u2q"
      },
      "source": [
        "# Train-Test Split"
      ]
    },
    {
      "cell_type": "code",
      "metadata": {
        "id": "4U_XmXGAx6S5"
      },
      "source": [
        "# #creating dataframe with date and the target variable\n",
        "# data1 = df1.sort_index(ascending=True, axis=0)\n",
        "# new_data1 = pd.DataFrame(index=range(0,len(df1)),columns=['Date', 'Close-Stock-1'])\n",
        "# for i in range(0,len(data1)):\n",
        "#   new_data1['Date'][i] = data1['Date'][i]\n",
        "#   new_data1['Close-Stock-1'][i] = data1['Close-Stock-1'][i]"
      ],
      "execution_count": null,
      "outputs": []
    },
    {
      "cell_type": "code",
      "metadata": {
        "id": "3ehu56-ezmdD"
      },
      "source": [
        "# NOTE: While splitting the data into train and validation set, we cannot use random splitting since that will destroy the time component. \n",
        "#So here we have set the first 80% into training set and last 20% into validation set.\n",
        "\n",
        "# # splitting into train and validation\n",
        "# train = new_data[:987]\n",
        "# valid = new_data[987:]\n"
      ],
      "execution_count": null,
      "outputs": []
    },
    {
      "cell_type": "markdown",
      "metadata": {
        "id": "HHVRJ4VCBGAh"
      },
      "source": [
        "# Splitting Training Dataset"
      ]
    },
    {
      "cell_type": "code",
      "metadata": {
        "id": "9tJxJfP-0008"
      },
      "source": [
        "from sklearn.model_selection import train_test_split\n",
        "X1 = df1\n",
        "y1 = dflabel1\n",
        "\n",
        "X2 = df2\n",
        "y2 = dflabel2\n",
        "\n",
        "X3 = df3\n",
        "y3 = dflabel3\n",
        "\n",
        "X4 = df4\n",
        "y4 = dflabel4\n",
        "\n",
        "X5 = df5\n",
        "y5 = dflabel5\n",
        "\n",
        "#While splitting the data into train and validation set, we cannot use random splitting since that will destroy the time component. \n",
        "#So here we have set the first 80% into training set and last 20% into validation set. This is actually can be solved with a simple shuffle=False arg:\n",
        "\n",
        "X1_train, X1_val, y1_train, y1_val = train_test_split(X1, y1, test_size = 0.2, random_state = 42,shuffle=False)\n",
        "# for the other stocks\n",
        "X2_train, X2_val, y2_train, y2_val = train_test_split(X2, y2, test_size = 0.2, random_state = 42,shuffle=False)\n",
        "X3_train, X3_val, y3_train, y3_val = train_test_split(X3, y3, test_size = 0.2, random_state = 42,shuffle=False)\n",
        "X4_train, X4_val, y4_train, y4_val = train_test_split(X4, y4, test_size = 0.2, random_state = 42,shuffle=False)\n",
        "X5_train, X5_val, y5_train, y5_val = train_test_split(X5, y5, test_size = 0.2, random_state = 42,shuffle=False)\n",
        "#had to remove ,stratify=y from the code for splitting for this to work"
      ],
      "execution_count": null,
      "outputs": []
    },
    {
      "cell_type": "code",
      "metadata": {
        "colab": {
          "base_uri": "https://localhost:8080/"
        },
        "id": "68q-hdD214JX",
        "outputId": "b25e9a89-d5db-411b-b2fc-ce7a1f7a5fc7"
      },
      "source": [
        "#confirming that the split was done (80% to 20%)\n",
        "for dataset in [y1_train, y1_val]:\n",
        "    print(round(len(dataset) / len(y1), 2))"
      ],
      "execution_count": null,
      "outputs": [
        {
          "output_type": "stream",
          "text": [
            "0.8\n",
            "0.2\n"
          ],
          "name": "stdout"
        }
      ]
    },
    {
      "cell_type": "code",
      "metadata": {
        "colab": {
          "base_uri": "https://localhost:8080/",
          "height": 204
        },
        "id": "shoIspFn2L0a",
        "outputId": "d7958abd-c7ed-46ba-f379-9da388c37d68"
      },
      "source": [
        "#Display X_train to confirm split was not random\n",
        "X1_train.head()"
      ],
      "execution_count": null,
      "outputs": [
        {
          "output_type": "execute_result",
          "data": {
            "text/html": [
              "<div>\n",
              "<style scoped>\n",
              "    .dataframe tbody tr th:only-of-type {\n",
              "        vertical-align: middle;\n",
              "    }\n",
              "\n",
              "    .dataframe tbody tr th {\n",
              "        vertical-align: top;\n",
              "    }\n",
              "\n",
              "    .dataframe thead th {\n",
              "        text-align: right;\n",
              "    }\n",
              "</style>\n",
              "<table border=\"1\" class=\"dataframe\">\n",
              "  <thead>\n",
              "    <tr style=\"text-align: right;\">\n",
              "      <th></th>\n",
              "      <th>Date</th>\n",
              "      <th>Open-Stock-1</th>\n",
              "      <th>High-Stock-1</th>\n",
              "      <th>Low-Stock-1</th>\n",
              "      <th>Close-Stock-1</th>\n",
              "      <th>VWAP-Stock-1</th>\n",
              "      <th>Volume-Stock-1</th>\n",
              "      <th>Turnover-Stock-1</th>\n",
              "    </tr>\n",
              "  </thead>\n",
              "  <tbody>\n",
              "    <tr>\n",
              "      <th>0</th>\n",
              "      <td>733924</td>\n",
              "      <td>1889.7</td>\n",
              "      <td>1890.00</td>\n",
              "      <td>1838.00</td>\n",
              "      <td>1855.10</td>\n",
              "      <td>1855.75</td>\n",
              "      <td>568273</td>\n",
              "      <td>105457457545000</td>\n",
              "    </tr>\n",
              "    <tr>\n",
              "      <th>1</th>\n",
              "      <td>733925</td>\n",
              "      <td>1848.0</td>\n",
              "      <td>1862.75</td>\n",
              "      <td>1828.00</td>\n",
              "      <td>1853.05</td>\n",
              "      <td>1842.82</td>\n",
              "      <td>945167</td>\n",
              "      <td>174177161135000</td>\n",
              "    </tr>\n",
              "    <tr>\n",
              "      <th>2</th>\n",
              "      <td>733926</td>\n",
              "      <td>1864.1</td>\n",
              "      <td>1910.00</td>\n",
              "      <td>1864.10</td>\n",
              "      <td>1905.60</td>\n",
              "      <td>1893.91</td>\n",
              "      <td>679689</td>\n",
              "      <td>128727119355000</td>\n",
              "    </tr>\n",
              "    <tr>\n",
              "      <th>3</th>\n",
              "      <td>733927</td>\n",
              "      <td>1906.0</td>\n",
              "      <td>1909.80</td>\n",
              "      <td>1880.10</td>\n",
              "      <td>1885.70</td>\n",
              "      <td>1889.21</td>\n",
              "      <td>509435</td>\n",
              "      <td>96242800140000</td>\n",
              "    </tr>\n",
              "    <tr>\n",
              "      <th>4</th>\n",
              "      <td>733930</td>\n",
              "      <td>1867.0</td>\n",
              "      <td>1894.85</td>\n",
              "      <td>1808.35</td>\n",
              "      <td>1876.65</td>\n",
              "      <td>1873.32</td>\n",
              "      <td>961913</td>\n",
              "      <td>180196832650000</td>\n",
              "    </tr>\n",
              "  </tbody>\n",
              "</table>\n",
              "</div>"
            ],
            "text/plain": [
              "     Date  Open-Stock-1  ...  Volume-Stock-1  Turnover-Stock-1\n",
              "0  733924        1889.7  ...          568273   105457457545000\n",
              "1  733925        1848.0  ...          945167   174177161135000\n",
              "2  733926        1864.1  ...          679689   128727119355000\n",
              "3  733927        1906.0  ...          509435    96242800140000\n",
              "4  733930        1867.0  ...          961913   180196832650000\n",
              "\n",
              "[5 rows x 8 columns]"
            ]
          },
          "metadata": {
            "tags": []
          },
          "execution_count": 205
        }
      ]
    },
    {
      "cell_type": "code",
      "metadata": {
        "id": "lledebcRWWDO"
      },
      "source": [
        "# #Converting the date to ordinal format.XTRAIN ONLY!!!! Model wasn't predicting with ML models without this change\n",
        "# import datetime as dt\n",
        "\n",
        "# X_train['Date'] = pd.to_datetime(X_train['Date'])\n",
        "# X_train['Date']=X_train['Date'].map(dt.datetime.toordinal)\n",
        "# X_train.head()"
      ],
      "execution_count": null,
      "outputs": []
    },
    {
      "cell_type": "code",
      "metadata": {
        "colab": {
          "base_uri": "https://localhost:8080/"
        },
        "id": "omiSfHKE2h1g",
        "outputId": "1c029555-6607-4442-c69a-d9ea7fb0d89e"
      },
      "source": [
        "# shapes of training set\n",
        "print('\\n Shape of training set:')\n",
        "print(X1_train.shape)\n",
        "print(X2_train.shape)\n",
        "print(X3_train.shape)\n",
        "print(X4_train.shape)\n",
        "print(X5_train.shape)"
      ],
      "execution_count": null,
      "outputs": [
        {
          "output_type": "stream",
          "text": [
            "\n",
            " Shape of training set:\n",
            "(239, 8)\n",
            "(239, 8)\n",
            "(239, 8)\n",
            "(239, 8)\n",
            "(239, 8)\n"
          ],
          "name": "stdout"
        }
      ]
    },
    {
      "cell_type": "code",
      "metadata": {
        "colab": {
          "base_uri": "https://localhost:8080/"
        },
        "id": "AuTpmmXB2-Bu",
        "outputId": "fc435e2f-297a-4187-f05e-b0d44bb84be2"
      },
      "source": [
        "# shapes of validation set\n",
        "print('\\n Shape of validation set:')\n",
        "print(X1_val.shape)"
      ],
      "execution_count": null,
      "outputs": [
        {
          "output_type": "stream",
          "text": [
            "\n",
            " Shape of validation set:\n",
            "(60, 8)\n"
          ],
          "name": "stdout"
        }
      ]
    },
    {
      "cell_type": "markdown",
      "metadata": {
        "id": "OMm0CTCtvkHr"
      },
      "source": [
        "Moving Average\n",
        "Introduction\n",
        "‘Average’ is easily one of the most common things we use in our day-to-day lives. For instance, calculating the average marks to determine overall performance, or finding the average temperature of the past few days to get an idea about today’s temperature – these all are routine tasks we do on a regular basis. So this is a good starting point to use on our dataset for making predictions.\n",
        "\n",
        "The predicted closing price for each day will be the average of a set of previously observed values. Instead of using the simple average, we will be using the moving average technique which uses the latest set of values for each prediction. In other words, for each subsequent step, the predicted values are taken into consideration while removing the oldest observed value from the set. Here is a simple figure that will help you understand this with more clarity.\n",
        "https://www.analyticsvidhya.com/blog/2018/10/predicting-stock-price-machine-learningnd-deep-learning-techniques-python/?#\n",
        "\n",
        "\n",
        "We will implement this technique on our dataset. The first step is to create a dataframe that contains only the Date and Close price columns, then split it into train and validation sets to verify our predictions."
      ]
    },
    {
      "cell_type": "code",
      "metadata": {
        "id": "Q5dTuyqd3EMt"
      },
      "source": [
        "# In the next step, we will create predictions for the validation set and check the RMSE using the actual values.\n",
        "# making predictions\n",
        "preds1 = []\n",
        "for i in range(0,X1_val.shape[0]):\n",
        "    a = X1_train['Close-Stock-1'][len(X1_train)-239+i:].sum() + sum(preds1)\n",
        "    b = a/239\n",
        "    preds1.append(b)\n",
        "\n",
        "\n",
        "# for the other stocks:\n",
        "preds2 = []\n",
        "for i in range(0,X2_val.shape[0]):\n",
        "    a = X2_train['Close-Stock-2'][len(X2_train)-239+i:].sum() + sum(preds2)\n",
        "    b = a/239\n",
        "    preds2.append(b)\n",
        "\n",
        "\n",
        "preds3 = []\n",
        "for i in range(0,X3_val.shape[0]):\n",
        "    a = X3_train['Close-Stock-3'][len(X3_train)-239+i:].sum() + sum(preds3)\n",
        "    b = a/239\n",
        "    preds3.append(b)\n",
        "\n",
        "\n",
        "preds4 = []\n",
        "for i in range(0,X4_val.shape[0]):\n",
        "    a = X4_train['Close-Stock-4'][len(X4_train)-239+i:].sum() + sum(preds4)\n",
        "    b = a/239\n",
        "    preds4.append(b)\n",
        "\n",
        "preds5 = []\n",
        "for i in range(0,X5_val.shape[0]):\n",
        "    a = X5_train['Close-Stock-5'][len(X5_train)-239+i:].sum() + sum(preds5)\n",
        "    b = a/239\n",
        "    preds5.append(b)"
      ],
      "execution_count": null,
      "outputs": []
    },
    {
      "cell_type": "code",
      "metadata": {
        "colab": {
          "base_uri": "https://localhost:8080/"
        },
        "id": "sw1kbluq4ihh",
        "outputId": "927d5e07-459a-4297-ce82-4f218044deec"
      },
      "source": [
        "# checking the results (RMSE value)\n",
        "rms=np.sqrt(np.mean(np.power((np.array(X1_val['Close-Stock-1'])-preds1),2)))\n",
        "print('\\n RMSE value on validation set:')\n",
        "print(rms)\n",
        "\n",
        "rms=np.sqrt(np.mean(np.power((np.array(X2_val['Close-Stock-2'])-preds2),2)))\n",
        "print('\\n RMSE value on validation set:')\n",
        "print(rms)\n",
        "\n",
        "rms=np.sqrt(np.mean(np.power((np.array(X3_val['Close-Stock-3'])-preds3),2)))\n",
        "print('\\n RMSE value on validation set:')\n",
        "print(rms)\n",
        "\n",
        "rms=np.sqrt(np.mean(np.power((np.array(X4_val['Close-Stock-4'])-preds4),2)))\n",
        "print('\\n RMSE value on validation set:')\n",
        "print(rms)\n",
        "\n",
        "rms=np.sqrt(np.mean(np.power((np.array(X5_val['Close-Stock-5'])-preds5),2)))\n",
        "print('\\n RMSE value on validation set:')\n",
        "print(rms)"
      ],
      "execution_count": null,
      "outputs": [
        {
          "output_type": "stream",
          "text": [
            "\n",
            " RMSE value on validation set:\n",
            "890.1505559529701\n",
            "\n",
            " RMSE value on validation set:\n",
            "19.36922226367521\n",
            "\n",
            " RMSE value on validation set:\n",
            "446.8482087743509\n",
            "\n",
            " RMSE value on validation set:\n",
            "29.092651403292866\n",
            "\n",
            " RMSE value on validation set:\n",
            "105.47084569881373\n"
          ],
          "name": "stdout"
        }
      ]
    },
    {
      "cell_type": "markdown",
      "metadata": {
        "id": "IGhZC3AO48Nv"
      },
      "source": [
        "Just checking the RMSE does not help us in understanding how the model performed. Let’s visualize this to get a more intuitive understanding. So here is a plot of the predicted values along with the actual values."
      ]
    },
    {
      "cell_type": "code",
      "metadata": {
        "colab": {
          "base_uri": "https://localhost:8080/",
          "height": 830
        },
        "id": "5JMFzjU847zx",
        "outputId": "3713823e-db97-49bc-db21-702fdd13180b"
      },
      "source": [
        "#plot\n",
        "X1_val['Predictions'] = 0\n",
        "X1_val['Predictions'] = preds1\n",
        "plt.plot(X1_train['Close-Stock-1'])\n",
        "plt.plot(X1_val[['Close-Stock-1', 'Predictions']])"
      ],
      "execution_count": null,
      "outputs": [
        {
          "output_type": "stream",
          "text": [
            "/usr/local/lib/python3.6/dist-packages/ipykernel_launcher.py:2: SettingWithCopyWarning: \n",
            "A value is trying to be set on a copy of a slice from a DataFrame.\n",
            "Try using .loc[row_indexer,col_indexer] = value instead\n",
            "\n",
            "See the caveats in the documentation: https://pandas.pydata.org/pandas-docs/stable/user_guide/indexing.html#returning-a-view-versus-a-copy\n",
            "  \n",
            "/usr/local/lib/python3.6/dist-packages/ipykernel_launcher.py:3: SettingWithCopyWarning: \n",
            "A value is trying to be set on a copy of a slice from a DataFrame.\n",
            "Try using .loc[row_indexer,col_indexer] = value instead\n",
            "\n",
            "See the caveats in the documentation: https://pandas.pydata.org/pandas-docs/stable/user_guide/indexing.html#returning-a-view-versus-a-copy\n",
            "  This is separate from the ipykernel package so we can avoid doing imports until\n"
          ],
          "name": "stderr"
        },
        {
          "output_type": "execute_result",
          "data": {
            "text/plain": [
              "[<matplotlib.lines.Line2D at 0x7f61de104390>,\n",
              " <matplotlib.lines.Line2D at 0x7f61de104470>]"
            ]
          },
          "metadata": {
            "tags": []
          },
          "execution_count": 211
        },
        {
          "output_type": "display_data",
          "data": {
            "image/png": "[encoded data removed]",
            "text/plain": [
              "<Figure size 1440x720 with 1 Axes>"
            ]
          },
          "metadata": {
            "tags": [],
            "needs_background": "light"
          }
        }
      ]
    },
    {
      "cell_type": "markdown",
      "metadata": {
        "id": "T1TN1bOg5mdp"
      },
      "source": [
        "# Inference\n",
        "The RMSE value is close to 890 but the results are not very promising (as you can gather from the plot). The predicted values are of the same range as the observed values in the train set (there is an increasing trend initially and then a slow decrease).\n",
        "\n",
        "In the next section, we will look at two commonly used machine learning techniques – Linear Regression and kNN, and see how they perform on our stock market data."
      ]
    },
    {
      "cell_type": "markdown",
      "metadata": {
        "id": "fLP5cOl2U7je"
      },
      "source": [
        "# Linear Regression"
      ]
    },
    {
      "cell_type": "code",
      "metadata": {
        "colab": {
          "base_uri": "https://localhost:8080/",
          "height": 204
        },
        "id": "RvKcnHTLVJuE",
        "outputId": "784ad342-24e4-4076-a9b4-1ce22e383908"
      },
      "source": [
        "X1_train.head()"
      ],
      "execution_count": null,
      "outputs": [
        {
          "output_type": "execute_result",
          "data": {
            "text/html": [
              "<div>\n",
              "<style scoped>\n",
              "    .dataframe tbody tr th:only-of-type {\n",
              "        vertical-align: middle;\n",
              "    }\n",
              "\n",
              "    .dataframe tbody tr th {\n",
              "        vertical-align: top;\n",
              "    }\n",
              "\n",
              "    .dataframe thead th {\n",
              "        text-align: right;\n",
              "    }\n",
              "</style>\n",
              "<table border=\"1\" class=\"dataframe\">\n",
              "  <thead>\n",
              "    <tr style=\"text-align: right;\">\n",
              "      <th></th>\n",
              "      <th>Date</th>\n",
              "      <th>Open-Stock-1</th>\n",
              "      <th>High-Stock-1</th>\n",
              "      <th>Low-Stock-1</th>\n",
              "      <th>Close-Stock-1</th>\n",
              "      <th>VWAP-Stock-1</th>\n",
              "      <th>Volume-Stock-1</th>\n",
              "      <th>Turnover-Stock-1</th>\n",
              "    </tr>\n",
              "  </thead>\n",
              "  <tbody>\n",
              "    <tr>\n",
              "      <th>0</th>\n",
              "      <td>733924</td>\n",
              "      <td>1889.7</td>\n",
              "      <td>1890.00</td>\n",
              "      <td>1838.00</td>\n",
              "      <td>1855.10</td>\n",
              "      <td>1855.75</td>\n",
              "      <td>568273</td>\n",
              "      <td>105457457545000</td>\n",
              "    </tr>\n",
              "    <tr>\n",
              "      <th>1</th>\n",
              "      <td>733925</td>\n",
              "      <td>1848.0</td>\n",
              "      <td>1862.75</td>\n",
              "      <td>1828.00</td>\n",
              "      <td>1853.05</td>\n",
              "      <td>1842.82</td>\n",
              "      <td>945167</td>\n",
              "      <td>174177161135000</td>\n",
              "    </tr>\n",
              "    <tr>\n",
              "      <th>2</th>\n",
              "      <td>733926</td>\n",
              "      <td>1864.1</td>\n",
              "      <td>1910.00</td>\n",
              "      <td>1864.10</td>\n",
              "      <td>1905.60</td>\n",
              "      <td>1893.91</td>\n",
              "      <td>679689</td>\n",
              "      <td>128727119355000</td>\n",
              "    </tr>\n",
              "    <tr>\n",
              "      <th>3</th>\n",
              "      <td>733927</td>\n",
              "      <td>1906.0</td>\n",
              "      <td>1909.80</td>\n",
              "      <td>1880.10</td>\n",
              "      <td>1885.70</td>\n",
              "      <td>1889.21</td>\n",
              "      <td>509435</td>\n",
              "      <td>96242800140000</td>\n",
              "    </tr>\n",
              "    <tr>\n",
              "      <th>4</th>\n",
              "      <td>733930</td>\n",
              "      <td>1867.0</td>\n",
              "      <td>1894.85</td>\n",
              "      <td>1808.35</td>\n",
              "      <td>1876.65</td>\n",
              "      <td>1873.32</td>\n",
              "      <td>961913</td>\n",
              "      <td>180196832650000</td>\n",
              "    </tr>\n",
              "  </tbody>\n",
              "</table>\n",
              "</div>"
            ],
            "text/plain": [
              "     Date  Open-Stock-1  ...  Volume-Stock-1  Turnover-Stock-1\n",
              "0  733924        1889.7  ...          568273   105457457545000\n",
              "1  733925        1848.0  ...          945167   174177161135000\n",
              "2  733926        1864.1  ...          679689   128727119355000\n",
              "3  733927        1906.0  ...          509435    96242800140000\n",
              "4  733930        1867.0  ...          961913   180196832650000\n",
              "\n",
              "[5 rows x 8 columns]"
            ]
          },
          "metadata": {
            "tags": []
          },
          "execution_count": 212
        }
      ]
    },
    {
      "cell_type": "code",
      "metadata": {
        "id": "jw7l8FK1U-Fb"
      },
      "source": [
        "X1_train = X1_train.drop('Close-Stock-1', axis=1)\n",
        "y1_train = y1_train['Close-Stock-1']\n",
        "X1_val = X1_val.drop('Close-Stock-1', axis=1)\n",
        "y1_val = y1_val['Close-Stock-1']\n",
        "\n",
        "\n",
        "X2_train = X2_train.drop('Close-Stock-2', axis=1)\n",
        "y2_train = y2_train['Close-Stock-2']\n",
        "X2_val = X2_val.drop('Close-Stock-2', axis=1)\n",
        "y2_val = y2_val['Close-Stock-2']\n",
        "\n",
        "X3_train = X3_train.drop('Close-Stock-3', axis=1)\n",
        "y3_train = y3_train['Close-Stock-3']\n",
        "X3_val = X3_val.drop('Close-Stock-3', axis=1)\n",
        "y3_val = y3_val['Close-Stock-3']\n",
        "\n",
        "X4_train = X4_train.drop('Close-Stock-4', axis=1)\n",
        "y4_train = y4_train['Close-Stock-4']\n",
        "X4_val = X4_val.drop('Close-Stock-4', axis=1)\n",
        "y4_val = y4_val['Close-Stock-4']\n",
        "\n",
        "X5_train = X5_train.drop('Close-Stock-5', axis=1)\n",
        "y5_train = y5_train['Close-Stock-5']\n",
        "X5_val = X5_val.drop('Close-Stock-5', axis=1)\n",
        "y5_val = y5_val['Close-Stock-5']\n",
        "\n",
        "\n"
      ],
      "execution_count": null,
      "outputs": []
    },
    {
      "cell_type": "code",
      "metadata": {
        "colab": {
          "base_uri": "https://localhost:8080/"
        },
        "id": "pZhWyj5s_8ai",
        "outputId": "3709d2ec-613c-49c8-a401-318f1f44bd8d"
      },
      "source": [
        "\n",
        "#implement linear regression\n",
        "from sklearn.linear_model import LinearRegression\n",
        "model = LinearRegression()\n",
        "model.fit(X1_train,y1_train)\n",
        "\n",
        "#For the others\n",
        "model.fit(X2_train,y2_train)\n",
        "model.fit(X3_train,y3_train)\n",
        "model.fit(X4_train,y4_train)\n",
        "model.fit(X5_train,y5_train)"
      ],
      "execution_count": null,
      "outputs": [
        {
          "output_type": "execute_result",
          "data": {
            "text/plain": [
              "LinearRegression(copy_X=True, fit_intercept=True, n_jobs=None, normalize=False)"
            ]
          },
          "metadata": {
            "tags": []
          },
          "execution_count": 214
        }
      ]
    },
    {
      "cell_type": "markdown",
      "metadata": {
        "id": "kMcO7d5cBTCl"
      },
      "source": [
        "# Metric scoring for RMSE"
      ]
    },
    {
      "cell_type": "code",
      "metadata": {
        "id": "HegAH4WqBVtj"
      },
      "source": [
        "from sklearn.metrics import r2_score, mean_squared_error, mean_absolute_error\n",
        "from math import sqrt\n"
      ],
      "execution_count": null,
      "outputs": []
    },
    {
      "cell_type": "markdown",
      "metadata": {
        "id": "4qN6cCVZAgIu"
      },
      "source": [
        "# Predict on Training Data"
      ]
    },
    {
      "cell_type": "code",
      "metadata": {
        "id": "QrmgxtXuBXaH",
        "colab": {
          "base_uri": "https://localhost:8080/",
          "height": 527
        },
        "outputId": "ea8ec234-468f-4a16-eda5-361fef99a3d0"
      },
      "source": [
        "#for stock 1\n",
        "yhat1_train = model.predict(X1_train)\n",
        "root_mean_squared_error = sqrt(mean_squared_error(y1_train, yhat1_train))\n",
        "\n",
        "print('\\n Metric Sores for stock #1_NOTE: RMSE is on line 2:')\n",
        "display(mean_squared_error(y1_train, yhat1_train))\n",
        "display(root_mean_squared_error)\n",
        "display(mean_absolute_error(y1_train, yhat1_train))\n",
        "display(r2_score(y1_train, yhat1_train))\n",
        "\n",
        "#for stock 2\n",
        "yhat2_train = model.predict(X2_train)\n",
        "root_mean_squared_error = sqrt(mean_squared_error(y2_train, yhat2_train))\n",
        "\n",
        "print('\\n Metric Sores for stock #2_NOTE: RMSE is on line 2:')\n",
        "display(mean_squared_error(y2_train, yhat2_train))\n",
        "display(root_mean_squared_error)\n",
        "display(mean_absolute_error(y2_train, yhat2_train))\n",
        "display(r2_score(y2_train, yhat2_train))\n",
        "\n",
        "#for stock 3\n",
        "yhat3_train = model.predict(X3_train)\n",
        "root_mean_squared_error = sqrt(mean_squared_error(y3_train, yhat3_train))\n",
        "\n",
        "print('\\n Metric Sores for stock #3_NOTE: RMSE is on line 2:')\n",
        "display(mean_squared_error(y3_train, yhat3_train))\n",
        "display(root_mean_squared_error)\n",
        "display(mean_absolute_error(y3_train, yhat3_train))\n",
        "display(r2_score(y3_train, yhat3_train))\n",
        "\n",
        "#for stock 4\n",
        "yhat4_train = model.predict(X4_train)\n",
        "root_mean_squared_error = sqrt(mean_squared_error(y4_train, yhat4_train))\n",
        "\n",
        "print('\\n Metric Sores for stock #4_NOTE: RMSE is on line 2:')\n",
        "display(mean_squared_error(y4_train, yhat4_train))\n",
        "display(root_mean_squared_error)\n",
        "display(mean_absolute_error(y4_train, yhat4_train))\n",
        "display(r2_score(y4_train, yhat4_train))\n",
        "\n",
        "#for stock 5\n",
        "yhat5_train = model.predict(X5_train)\n",
        "root_mean_squared_error = sqrt(mean_squared_error(y5_train, yhat5_train))\n",
        "\n",
        "print('\\n Metric Sores for stock #5_NOTE: RMSE is on line 2:')\n",
        "display(mean_squared_error(y5_train, yhat5_train))\n",
        "display(root_mean_squared_error)\n",
        "display(mean_absolute_error(y5_train, yhat5_train))\n",
        "display(r2_score(y5_train, yhat5_train))"
      ],
      "execution_count": null,
      "outputs": [
        {
          "output_type": "stream",
          "text": [
            "\n",
            " Metric Sores for stock #1_NOTE: RMSE is on line 2:\n"
          ],
          "name": "stdout"
        },
        {
          "output_type": "display_data",
          "data": {
            "text/plain": [
              "234.36279783253465"
            ]
          },
          "metadata": {
            "tags": []
          }
        },
        {
          "output_type": "display_data",
          "data": {
            "text/plain": [
              "15.308912366087103"
            ]
          },
          "metadata": {
            "tags": []
          }
        },
        {
          "output_type": "display_data",
          "data": {
            "text/plain": [
              "11.863780849164511"
            ]
          },
          "metadata": {
            "tags": []
          }
        },
        {
          "output_type": "display_data",
          "data": {
            "text/plain": [
              "0.9906038527643235"
            ]
          },
          "metadata": {
            "tags": []
          }
        },
        {
          "output_type": "stream",
          "text": [
            "\n",
            " Metric Sores for stock #2_NOTE: RMSE is on line 2:\n"
          ],
          "name": "stdout"
        },
        {
          "output_type": "display_data",
          "data": {
            "text/plain": [
              "11712.18065304306"
            ]
          },
          "metadata": {
            "tags": []
          }
        },
        {
          "output_type": "display_data",
          "data": {
            "text/plain": [
              "108.22282870560656"
            ]
          },
          "metadata": {
            "tags": []
          }
        },
        {
          "output_type": "display_data",
          "data": {
            "text/plain": [
              "85.35086824093771"
            ]
          },
          "metadata": {
            "tags": []
          }
        },
        {
          "output_type": "display_data",
          "data": {
            "text/plain": [
              "-3.672136248951494"
            ]
          },
          "metadata": {
            "tags": []
          }
        },
        {
          "output_type": "stream",
          "text": [
            "\n",
            " Metric Sores for stock #3_NOTE: RMSE is on line 2:\n"
          ],
          "name": "stdout"
        },
        {
          "output_type": "display_data",
          "data": {
            "text/plain": [
              "509.65977504273536"
            ]
          },
          "metadata": {
            "tags": []
          }
        },
        {
          "output_type": "display_data",
          "data": {
            "text/plain": [
              "22.57564561740672"
            ]
          },
          "metadata": {
            "tags": []
          }
        },
        {
          "output_type": "display_data",
          "data": {
            "text/plain": [
              "18.731276184828584"
            ]
          },
          "metadata": {
            "tags": []
          }
        },
        {
          "output_type": "display_data",
          "data": {
            "text/plain": [
              "0.9803423307744418"
            ]
          },
          "metadata": {
            "tags": []
          }
        },
        {
          "output_type": "stream",
          "text": [
            "\n",
            " Metric Sores for stock #4_NOTE: RMSE is on line 2:\n"
          ],
          "name": "stdout"
        },
        {
          "output_type": "display_data",
          "data": {
            "text/plain": [
              "336.12025288575666"
            ]
          },
          "metadata": {
            "tags": []
          }
        },
        {
          "output_type": "display_data",
          "data": {
            "text/plain": [
              "18.333582652764754"
            ]
          },
          "metadata": {
            "tags": []
          }
        },
        {
          "output_type": "display_data",
          "data": {
            "text/plain": [
              "14.117167746494397"
            ]
          },
          "metadata": {
            "tags": []
          }
        },
        {
          "output_type": "display_data",
          "data": {
            "text/plain": [
              "0.9690826102519371"
            ]
          },
          "metadata": {
            "tags": []
          }
        },
        {
          "output_type": "stream",
          "text": [
            "\n",
            " Metric Sores for stock #5_NOTE: RMSE is on line 2:\n"
          ],
          "name": "stdout"
        },
        {
          "output_type": "display_data",
          "data": {
            "text/plain": [
              "77.28174076952652"
            ]
          },
          "metadata": {
            "tags": []
          }
        },
        {
          "output_type": "display_data",
          "data": {
            "text/plain": [
              "8.7910033994719"
            ]
          },
          "metadata": {
            "tags": []
          }
        },
        {
          "output_type": "display_data",
          "data": {
            "text/plain": [
              "6.537250839105304"
            ]
          },
          "metadata": {
            "tags": []
          }
        },
        {
          "output_type": "display_data",
          "data": {
            "text/plain": [
              "0.99260492225495"
            ]
          },
          "metadata": {
            "tags": []
          }
        }
      ]
    },
    {
      "cell_type": "markdown",
      "metadata": {
        "id": "C3Rr36BSCty_"
      },
      "source": [
        "Inference: RMSE of 12 - relatively $12 since the data was not scaled."
      ]
    },
    {
      "cell_type": "markdown",
      "metadata": {
        "id": "AzNDOyaVAlgm"
      },
      "source": [
        "# Predict on Test Data"
      ]
    },
    {
      "cell_type": "code",
      "metadata": {
        "id": "iCWL92qSAvCp"
      },
      "source": [
        "#for stock 1\n",
        "yhat1_test1 = model.predict(dftest1)\n",
        "\n",
        "#for stock 2\n",
        "yhat2_test2 = model.predict(dftest2)\n",
        "\n",
        "#for stock 3\n",
        "yhat3_test3 = model.predict(dftest3)\n",
        "\n",
        "#for stock 4\n",
        "yhat4_test4 = model.predict(dftest4)\n",
        "\n",
        "#for stock 5\n",
        "yhat5_test5 = model.predict(dftest5)\n"
      ],
      "execution_count": null,
      "outputs": []
    },
    {
      "cell_type": "markdown",
      "metadata": {
        "id": "MiW5VFQU6d4h"
      },
      "source": [
        "# Creating Dataframe for Prediction of the 5 stocks using Linear Regression"
      ]
    },
    {
      "cell_type": "code",
      "metadata": {
        "id": "23NB16P6_TVG",
        "colab": {
          "base_uri": "https://localhost:8080/"
        },
        "outputId": "2a16c051-57b5-4943-992a-c02ec4585e7f"
      },
      "source": [
        "print(yhat1_test1)"
      ],
      "execution_count": null,
      "outputs": [
        {
          "output_type": "stream",
          "text": [
            "[473.39948197 445.60756027 427.03315158 422.14341133 448.98770878\n",
            " 470.45239492 446.58586162 437.49938893 443.19518987 407.98429918\n",
            " 413.93168425 433.27944524 417.43263825 431.18904148 384.34617679\n",
            " 431.1695805  433.0662714  432.93103637 437.65977952 445.32002753\n",
            " 425.46148074 455.76292969 471.3986438  460.58921582 460.59402515\n",
            " 462.87392105 464.69451417 466.60059136 463.6479491  471.66135207\n",
            " 467.5637449  469.07288096 457.50979966 362.48888344 368.9911477\n",
            " 421.28671615 421.96433883 379.85539363 424.33196516 410.65306942\n",
            " 414.93466732 406.40443891 405.26757727 390.22411677 444.20373512\n",
            " 418.35527672 449.32266683 466.19477298 470.55085088 466.61729892\n",
            " 450.24425305 465.07195482 474.10734649 474.4246732  199.91762089\n",
            " 482.01479167 441.2319652  462.04441441 458.53464636 469.98299156\n",
            " 458.9182827  476.58798058 471.47487897 467.65677403 453.8570905\n",
            " 453.31174332 452.97029714 459.22434127 443.3888046  433.5532572\n",
            " 428.81502087 410.02785731 350.08927599 339.11438519 380.35830341\n",
            " 419.67472796 404.53310837 365.8231652  426.44672155 442.42128637\n",
            " 449.04141    445.55633768 429.59961717 416.71963201 411.89137617\n",
            " 401.61712726 370.17381426 357.01185712 341.24980819 307.87004784\n",
            " 363.1540447  393.67947065 409.31788116 434.32760253 445.14496092\n",
            " 434.8086766  426.89437075]\n"
          ],
          "name": "stdout"
        }
      ]
    },
    {
      "cell_type": "markdown",
      "metadata": {
        "id": "R1CpQXvaF4D5"
      },
      "source": [
        "## Create dataframe of the prediction on Test Data"
      ]
    },
    {
      "cell_type": "code",
      "metadata": {
        "colab": {
          "base_uri": "https://localhost:8080/",
          "height": 428
        },
        "id": "1DXeV_ypHCcP",
        "outputId": "72e89d6b-b3eb-4133-8adc-71aa704ab61b"
      },
      "source": [
        "#convert Test Data dates from ordinal format back to regular format\n",
        "\n",
        "\n",
        "\n",
        "# dftest['Date'] = pd.to_datetime(dftest['Date'])\n",
        "dftest['Date']=dftest['Date'].map(dt.datetime.fromordinal)\n",
        "dftest.head()"
      ],
      "execution_count": null,
      "outputs": [
        {
          "output_type": "execute_result",
          "data": {
            "text/html": [
              "<div>\n",
              "<style scoped>\n",
              "    .dataframe tbody tr th:only-of-type {\n",
              "        vertical-align: middle;\n",
              "    }\n",
              "\n",
              "    .dataframe tbody tr th {\n",
              "        vertical-align: top;\n",
              "    }\n",
              "\n",
              "    .dataframe thead th {\n",
              "        text-align: right;\n",
              "    }\n",
              "</style>\n",
              "<table border=\"1\" class=\"dataframe\">\n",
              "  <thead>\n",
              "    <tr style=\"text-align: right;\">\n",
              "      <th></th>\n",
              "      <th>Date</th>\n",
              "      <th>Open-Stock-1</th>\n",
              "      <th>High-Stock-1</th>\n",
              "      <th>Low-Stock-1</th>\n",
              "      <th>VWAP-Stock-1</th>\n",
              "      <th>Volume-Stock-1</th>\n",
              "      <th>Turnover-Stock-1</th>\n",
              "      <th>Open-Stock-2</th>\n",
              "      <th>High-Stock-2</th>\n",
              "      <th>Low-Stock-2</th>\n",
              "      <th>VWAP-Stock-2</th>\n",
              "      <th>Volume-Stock-2</th>\n",
              "      <th>Turnover-Stock-2</th>\n",
              "      <th>Open-Stock-3</th>\n",
              "      <th>High-Stock-3</th>\n",
              "      <th>Low-Stock-3</th>\n",
              "      <th>VWAP-Stock-3</th>\n",
              "      <th>Volume-Stock-3</th>\n",
              "      <th>Turnover-Stock-3</th>\n",
              "      <th>Open-Stock-4</th>\n",
              "      <th>High-Stock-4</th>\n",
              "      <th>Low-Stock-4</th>\n",
              "      <th>VWAP-Stock-4</th>\n",
              "      <th>Volume-Stock-4</th>\n",
              "      <th>Turnover-Stock-4</th>\n",
              "      <th>Open-Stock-5</th>\n",
              "      <th>High-Stock-5</th>\n",
              "      <th>Low-Stock-5</th>\n",
              "      <th>VWAP-Stock-5</th>\n",
              "      <th>Volume-Stock-5</th>\n",
              "      <th>Turnover-Stock-5</th>\n",
              "    </tr>\n",
              "  </thead>\n",
              "  <tbody>\n",
              "    <tr>\n",
              "      <th>0</th>\n",
              "      <td>2011-08-04</td>\n",
              "      <td>484.1</td>\n",
              "      <td>488.90</td>\n",
              "      <td>475.00</td>\n",
              "      <td>481.00</td>\n",
              "      <td>1829606</td>\n",
              "      <td>88003633160000</td>\n",
              "      <td>204.90</td>\n",
              "      <td>206.75</td>\n",
              "      <td>199.20</td>\n",
              "      <td>202.98</td>\n",
              "      <td>10501999</td>\n",
              "      <td>213174133870000</td>\n",
              "      <td>3011.15</td>\n",
              "      <td>3119.95</td>\n",
              "      <td>3011.15</td>\n",
              "      <td>3078.97</td>\n",
              "      <td>53783</td>\n",
              "      <td>16559616060000</td>\n",
              "      <td>1008.50</td>\n",
              "      <td>1015.0</td>\n",
              "      <td>990.00</td>\n",
              "      <td>1003.31</td>\n",
              "      <td>2716435</td>\n",
              "      <td>272542181190000</td>\n",
              "      <td>1303.6</td>\n",
              "      <td>1312.8</td>\n",
              "      <td>1281.00</td>\n",
              "      <td>1297.04</td>\n",
              "      <td>1569675</td>\n",
              "      <td>203593328285000</td>\n",
              "    </tr>\n",
              "    <tr>\n",
              "      <th>1</th>\n",
              "      <td>2011-08-05</td>\n",
              "      <td>465.0</td>\n",
              "      <td>475.80</td>\n",
              "      <td>457.10</td>\n",
              "      <td>469.56</td>\n",
              "      <td>3156094</td>\n",
              "      <td>148196817355000</td>\n",
              "      <td>195.00</td>\n",
              "      <td>198.00</td>\n",
              "      <td>190.50</td>\n",
              "      <td>194.86</td>\n",
              "      <td>13424736</td>\n",
              "      <td>261588793565000</td>\n",
              "      <td>3091.65</td>\n",
              "      <td>3095.00</td>\n",
              "      <td>3012.00</td>\n",
              "      <td>3061.60</td>\n",
              "      <td>129372</td>\n",
              "      <td>39608524605000</td>\n",
              "      <td>970.00</td>\n",
              "      <td>979.7</td>\n",
              "      <td>950.00</td>\n",
              "      <td>961.50</td>\n",
              "      <td>4644498</td>\n",
              "      <td>446567961345000</td>\n",
              "      <td>1245.0</td>\n",
              "      <td>1252.5</td>\n",
              "      <td>1200.00</td>\n",
              "      <td>1229.09</td>\n",
              "      <td>3125692</td>\n",
              "      <td>384176649890000</td>\n",
              "    </tr>\n",
              "    <tr>\n",
              "      <th>2</th>\n",
              "      <td>2011-08-08</td>\n",
              "      <td>463.0</td>\n",
              "      <td>480.00</td>\n",
              "      <td>458.05</td>\n",
              "      <td>465.04</td>\n",
              "      <td>4308373</td>\n",
              "      <td>200357861965000</td>\n",
              "      <td>193.90</td>\n",
              "      <td>197.80</td>\n",
              "      <td>189.65</td>\n",
              "      <td>194.89</td>\n",
              "      <td>9002509</td>\n",
              "      <td>175445729750000</td>\n",
              "      <td>3015.05</td>\n",
              "      <td>3109.00</td>\n",
              "      <td>3010.00</td>\n",
              "      <td>3069.09</td>\n",
              "      <td>46725</td>\n",
              "      <td>14340318455000</td>\n",
              "      <td>940.05</td>\n",
              "      <td>975.0</td>\n",
              "      <td>933.40</td>\n",
              "      <td>953.24</td>\n",
              "      <td>3450619</td>\n",
              "      <td>328925252905000</td>\n",
              "      <td>1205.2</td>\n",
              "      <td>1265.8</td>\n",
              "      <td>1200.55</td>\n",
              "      <td>1232.93</td>\n",
              "      <td>1660178</td>\n",
              "      <td>204687918340000</td>\n",
              "    </tr>\n",
              "    <tr>\n",
              "      <th>3</th>\n",
              "      <td>2011-08-09</td>\n",
              "      <td>450.0</td>\n",
              "      <td>473.55</td>\n",
              "      <td>449.85</td>\n",
              "      <td>460.88</td>\n",
              "      <td>4490924</td>\n",
              "      <td>206978212685000</td>\n",
              "      <td>190.25</td>\n",
              "      <td>202.10</td>\n",
              "      <td>190.10</td>\n",
              "      <td>197.61</td>\n",
              "      <td>19202643</td>\n",
              "      <td>379464261110000</td>\n",
              "      <td>3070.00</td>\n",
              "      <td>3164.00</td>\n",
              "      <td>2988.00</td>\n",
              "      <td>3113.84</td>\n",
              "      <td>88749</td>\n",
              "      <td>27635029505000</td>\n",
              "      <td>915.00</td>\n",
              "      <td>967.6</td>\n",
              "      <td>910.45</td>\n",
              "      <td>938.80</td>\n",
              "      <td>5346085</td>\n",
              "      <td>501890604795000</td>\n",
              "      <td>1190.5</td>\n",
              "      <td>1238.3</td>\n",
              "      <td>1180.90</td>\n",
              "      <td>1206.06</td>\n",
              "      <td>3618186</td>\n",
              "      <td>436376441205000</td>\n",
              "    </tr>\n",
              "    <tr>\n",
              "      <th>4</th>\n",
              "      <td>2011-08-10</td>\n",
              "      <td>494.8</td>\n",
              "      <td>494.80</td>\n",
              "      <td>473.40</td>\n",
              "      <td>478.06</td>\n",
              "      <td>3267226</td>\n",
              "      <td>156192368225000</td>\n",
              "      <td>202.00</td>\n",
              "      <td>202.85</td>\n",
              "      <td>196.00</td>\n",
              "      <td>199.07</td>\n",
              "      <td>9274996</td>\n",
              "      <td>184640866420000</td>\n",
              "      <td>3125.00</td>\n",
              "      <td>3195.00</td>\n",
              "      <td>3125.00</td>\n",
              "      <td>3170.39</td>\n",
              "      <td>52720</td>\n",
              "      <td>16714302965000</td>\n",
              "      <td>963.95</td>\n",
              "      <td>971.2</td>\n",
              "      <td>957.70</td>\n",
              "      <td>964.75</td>\n",
              "      <td>3379659</td>\n",
              "      <td>326053305165000</td>\n",
              "      <td>1242.0</td>\n",
              "      <td>1253.7</td>\n",
              "      <td>1225.30</td>\n",
              "      <td>1242.10</td>\n",
              "      <td>1903396</td>\n",
              "      <td>236421421150000</td>\n",
              "    </tr>\n",
              "  </tbody>\n",
              "</table>\n",
              "</div>"
            ],
            "text/plain": [
              "        Date  Open-Stock-1  ...  Volume-Stock-5  Turnover-Stock-5\n",
              "0 2011-08-04         484.1  ...         1569675   203593328285000\n",
              "1 2011-08-05         465.0  ...         3125692   384176649890000\n",
              "2 2011-08-08         463.0  ...         1660178   204687918340000\n",
              "3 2011-08-09         450.0  ...         3618186   436376441205000\n",
              "4 2011-08-10         494.8  ...         1903396   236421421150000\n",
              "\n",
              "[5 rows x 31 columns]"
            ]
          },
          "metadata": {
            "tags": []
          },
          "execution_count": 219
        }
      ]
    },
    {
      "cell_type": "code",
      "metadata": {
        "colab": {
          "base_uri": "https://localhost:8080/",
          "height": 204
        },
        "id": "tMqO7wVD_NlE",
        "outputId": "d9ab6e16-f425-40b6-c511-2b47dd2b9809"
      },
      "source": [
        "d = {'Date': dftest['Date'], 'Close-Stock-1': yhat1_test1, 'Close-Stock-2':yhat2_test2, 'Close-Stock-3': yhat3_test3, 'Close-Stock-4': yhat4_test4, 'Close-Stock-5':yhat5_test5}\n",
        "LRpredict=pd.DataFrame(data=d)\n",
        "#.dt.strftime('%d-%m-%Y') changes the date format to what I want. I could use ('%d/%m/%Y') or ('%Y-%m-%d') or ('%Y/%m/%d')\n",
        "LRpredict['Date']=LRpredict['Date'].dt.strftime('%Y-%m-%d')\n",
        "LRpredict.to_csv('LRpredictdockship.csv', index=False)\n",
        "LRpredict.head()"
      ],
      "execution_count": null,
      "outputs": [
        {
          "output_type": "execute_result",
          "data": {
            "text/html": [
              "<div>\n",
              "<style scoped>\n",
              "    .dataframe tbody tr th:only-of-type {\n",
              "        vertical-align: middle;\n",
              "    }\n",
              "\n",
              "    .dataframe tbody tr th {\n",
              "        vertical-align: top;\n",
              "    }\n",
              "\n",
              "    .dataframe thead th {\n",
              "        text-align: right;\n",
              "    }\n",
              "</style>\n",
              "<table border=\"1\" class=\"dataframe\">\n",
              "  <thead>\n",
              "    <tr style=\"text-align: right;\">\n",
              "      <th></th>\n",
              "      <th>Date</th>\n",
              "      <th>Close-Stock-1</th>\n",
              "      <th>Close-Stock-2</th>\n",
              "      <th>Close-Stock-3</th>\n",
              "      <th>Close-Stock-4</th>\n",
              "      <th>Close-Stock-5</th>\n",
              "    </tr>\n",
              "  </thead>\n",
              "  <tbody>\n",
              "    <tr>\n",
              "      <th>0</th>\n",
              "      <td>2011-08-04</td>\n",
              "      <td>473.399482</td>\n",
              "      <td>47.617989</td>\n",
              "      <td>3067.469912</td>\n",
              "      <td>992.068511</td>\n",
              "      <td>1293.351167</td>\n",
              "    </tr>\n",
              "    <tr>\n",
              "      <th>1</th>\n",
              "      <td>2011-08-05</td>\n",
              "      <td>445.607560</td>\n",
              "      <td>-10.710032</td>\n",
              "      <td>3022.047843</td>\n",
              "      <td>936.946789</td>\n",
              "      <td>1217.380165</td>\n",
              "    </tr>\n",
              "    <tr>\n",
              "      <th>2</th>\n",
              "      <td>2011-08-08</td>\n",
              "      <td>427.033152</td>\n",
              "      <td>64.563955</td>\n",
              "      <td>3054.089068</td>\n",
              "      <td>942.999196</td>\n",
              "      <td>1240.904143</td>\n",
              "    </tr>\n",
              "    <tr>\n",
              "      <th>3</th>\n",
              "      <td>2011-08-09</td>\n",
              "      <td>422.143411</td>\n",
              "      <td>-103.127623</td>\n",
              "      <td>3090.022786</td>\n",
              "      <td>918.494182</td>\n",
              "      <td>1204.058543</td>\n",
              "    </tr>\n",
              "    <tr>\n",
              "      <th>4</th>\n",
              "      <td>2011-08-10</td>\n",
              "      <td>448.987709</td>\n",
              "      <td>63.731689</td>\n",
              "      <td>3149.621686</td>\n",
              "      <td>950.013663</td>\n",
              "      <td>1238.532111</td>\n",
              "    </tr>\n",
              "  </tbody>\n",
              "</table>\n",
              "</div>"
            ],
            "text/plain": [
              "         Date  Close-Stock-1  ...  Close-Stock-4  Close-Stock-5\n",
              "0  2011-08-04     473.399482  ...     992.068511    1293.351167\n",
              "1  2011-08-05     445.607560  ...     936.946789    1217.380165\n",
              "2  2011-08-08     427.033152  ...     942.999196    1240.904143\n",
              "3  2011-08-09     422.143411  ...     918.494182    1204.058543\n",
              "4  2011-08-10     448.987709  ...     950.013663    1238.532111\n",
              "\n",
              "[5 rows x 6 columns]"
            ]
          },
          "metadata": {
            "tags": []
          },
          "execution_count": 220
        }
      ]
    },
    {
      "cell_type": "markdown",
      "metadata": {
        "id": "U1d2jx78JC3E"
      },
      "source": [
        "# Download file for Submission"
      ]
    },
    {
      "cell_type": "code",
      "metadata": {
        "colab": {
          "base_uri": "https://localhost:8080/",
          "height": 17
        },
        "id": "6vYibefVI8QE",
        "outputId": "6de7d664-3ae9-4339-87e3-11fbdd2f2b63"
      },
      "source": [
        "from google.colab import files\n",
        "files.download('LRpredictdockship.csv')"
      ],
      "execution_count": null,
      "outputs": [
        {
          "output_type": "display_data",
          "data": {
            "application/javascript": [
              "\n",
              "    async function download(id, filename, size) {\n",
              "      if (!google.colab.kernel.accessAllowed) {\n",
              "        return;\n",
              "      }\n",
              "      const div = document.createElement('div');\n",
              "      const label = document.createElement('label');\n",
              "      label.textContent = `Downloading \"${filename}\": `;\n",
              "      div.appendChild(label);\n",
              "      const progress = document.createElement('progress');\n",
              "      progress.max = size;\n",
              "      div.appendChild(progress);\n",
              "      document.body.appendChild(div);\n",
              "\n",
              "      const buffers = [];\n",
              "      let downloaded = 0;\n",
              "\n",
              "      const channel = await google.colab.kernel.comms.open(id);\n",
              "      // Send a message to notify the kernel that we're ready.\n",
              "      channel.send({})\n",
              "\n",
              "      for await (const message of channel.messages) {\n",
              "        // Send a message to notify the kernel that we're ready.\n",
              "        channel.send({})\n",
              "        if (message.buffers) {\n",
              "          for (const buffer of message.buffers) {\n",
              "            buffers.push(buffer);\n",
              "            downloaded += buffer.byteLength;\n",
              "            progress.value = downloaded;\n",
              "          }\n",
              "        }\n",
              "      }\n",
              "      const blob = new Blob(buffers, {type: 'application/binary'});\n",
              "      const a = document.createElement('a');\n",
              "      a.href = window.URL.createObjectURL(blob);\n",
              "      a.download = filename;\n",
              "      div.appendChild(a);\n",
              "      a.click();\n",
              "      div.remove();\n",
              "    }\n",
              "  "
            ],
            "text/plain": [
              "<IPython.core.display.Javascript object>"
            ]
          },
          "metadata": {
            "tags": []
          }
        },
        {
          "output_type": "display_data",
          "data": {
            "application/javascript": [
              "download(\"download_a7651c28-ae5d-44a2-ab1f-33533b034cb1\", \"LRpredictdockship.csv\", 10052)"
            ],
            "text/plain": [
              "<IPython.core.display.Javascript object>"
            ]
          },
          "metadata": {
            "tags": []
          }
        }
      ]
    },
    {
      "cell_type": "markdown",
      "metadata": {
        "id": "F-apTZb-vd4m"
      },
      "source": [
        "# k-NN Regressor"
      ]
    },
    {
      "cell_type": "code",
      "metadata": {
        "id": "4OdvjD1gvifW"
      },
      "source": [
        "#importing libraries\n",
        "from sklearn import neighbors\n",
        "from sklearn.model_selection import GridSearchCV\n",
        "from sklearn.preprocessing import MinMaxScaler\n",
        "scaler = MinMaxScaler(feature_range=(0, 1))"
      ],
      "execution_count": null,
      "outputs": []
    },
    {
      "cell_type": "code",
      "metadata": {
        "id": "8a4WtNOvvrkH"
      },
      "source": [
        "#scaling data\n",
        "X1_train_scaled = scaler.fit_transform(X1_train)\n",
        "X1_train = pd.DataFrame(X1_train_scaled)\n",
        "X1_val_scaled = scaler.fit_transform(X1_val)\n",
        "X1_val = pd.DataFrame(X1_val_scaled)"
      ],
      "execution_count": null,
      "outputs": []
    },
    {
      "cell_type": "code",
      "metadata": {
        "id": "mL2WoR_VxM6i"
      },
      "source": [
        "#using gridsearch to find the best parameter\n",
        "params = {'n_neighbors':[2,3,4,5,6,7,8,9]}\n",
        "knn = neighbors.KNeighborsRegressor()\n",
        "model = GridSearchCV(knn, params, cv=5)"
      ],
      "execution_count": null,
      "outputs": []
    },
    {
      "cell_type": "code",
      "metadata": {
        "colab": {
          "base_uri": "https://localhost:8080/"
        },
        "id": "CSYpDT42xd6p",
        "outputId": "fba1ff9b-c522-438c-a9a2-91e0322062dc"
      },
      "source": [
        "#fit the model and make predictions\n",
        "model.fit(X1_train_scaled,y1_train)\n"
      ],
      "execution_count": null,
      "outputs": [
        {
          "output_type": "execute_result",
          "data": {
            "text/plain": [
              "GridSearchCV(cv=5, error_score=nan,\n",
              "             estimator=KNeighborsRegressor(algorithm='auto', leaf_size=30,\n",
              "                                           metric='minkowski',\n",
              "                                           metric_params=None, n_jobs=None,\n",
              "                                           n_neighbors=5, p=2,\n",
              "                                           weights='uniform'),\n",
              "             iid='deprecated', n_jobs=None,\n",
              "             param_grid={'n_neighbors': [2, 3, 4, 5, 6, 7, 8, 9]},\n",
              "             pre_dispatch='2*n_jobs', refit=True, return_train_score=False,\n",
              "             scoring=None, verbose=0)"
            ]
          },
          "metadata": {
            "tags": []
          },
          "execution_count": 225
        }
      ]
    },
    {
      "cell_type": "markdown",
      "metadata": {
        "id": "5WzgULAMzLd4"
      },
      "source": [
        "# Metric scoring for RMSE"
      ]
    },
    {
      "cell_type": "code",
      "metadata": {
        "id": "q2eQB28YzLd5"
      },
      "source": [
        "from sklearn.metrics import r2_score, mean_squared_error, mean_absolute_error\n",
        "from math import sqrt"
      ],
      "execution_count": null,
      "outputs": []
    },
    {
      "cell_type": "code",
      "metadata": {
        "colab": {
          "base_uri": "https://localhost:8080/",
          "height": 85
        },
        "id": "g-n44Ob7zLd5",
        "outputId": "72979158-6849-4492-f795-f0fa2b1167ad"
      },
      "source": [
        "yhat1_train = model.predict(X1_train_scaled)\n",
        "root_mean_squared_error = sqrt(mean_squared_error(y1_train, yhat1_train))\n",
        "\n",
        "display(mean_squared_error(y1_train, yhat1_train))\n",
        "display(root_mean_squared_error)\n",
        "display(mean_absolute_error(y1_train, yhat1_train))\n",
        "display(r2_score(y1_train, yhat1_train))"
      ],
      "execution_count": null,
      "outputs": [
        {
          "output_type": "display_data",
          "data": {
            "text/plain": [
              "575.3085795406038"
            ]
          },
          "metadata": {
            "tags": []
          }
        },
        {
          "output_type": "display_data",
          "data": {
            "text/plain": [
              "23.9855910817433"
            ]
          },
          "metadata": {
            "tags": []
          }
        },
        {
          "output_type": "display_data",
          "data": {
            "text/plain": [
              "18.76090854751945"
            ]
          },
          "metadata": {
            "tags": []
          }
        },
        {
          "output_type": "display_data",
          "data": {
            "text/plain": [
              "0.9769345469105806"
            ]
          },
          "metadata": {
            "tags": []
          }
        }
      ]
    },
    {
      "cell_type": "markdown",
      "metadata": {
        "id": "AggemCGCzkvb"
      },
      "source": [
        "kNN perormed a bit worse with RMSE of 18.76"
      ]
    }
  ]
}