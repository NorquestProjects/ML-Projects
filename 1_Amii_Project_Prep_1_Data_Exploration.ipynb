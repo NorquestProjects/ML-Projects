{
  "nbformat": 4,
  "nbformat_minor": 0,
  "metadata": {
    "kernelspec": {
      "display_name": "Python 3",
      "language": "python",
      "name": "python3"
    },
    "language_info": {
      "codemirror_mode": {
        "name": "ipython",
        "version": 3
      },
      "file_extension": ".py",
      "mimetype": "text/x-python",
      "name": "python",
      "nbconvert_exporter": "python",
      "pygments_lexer": "ipython3",
      "version": "3.6.2"
    },
    "colab": {
      "name": "1. Amii Project Prep 1_Data Exploration.ipynb",
      "provenance": [],
      "collapsed_sections": [],
      "include_colab_link": true
    }
  },
  "cells": [
    {
      "cell_type": "markdown",
      "metadata": {
        "id": "view-in-github",
        "colab_type": "text"
      },
      "source": [
        "<a href=\"https://colab.research.google.com/github/mazon1/ML-Test/blob/master/1_Amii_Project_Prep_1_Data_Exploration.ipynb\" target=\"_parent\"><img src=\"https://colab.research.google.com/assets/colab-badge.svg\" alt=\"Open In Colab\"/></a>"
      ]
    },
    {
      "cell_type": "markdown",
      "metadata": {
        "id": "X2bbm9rK3hd8"
      },
      "source": [
        "### Read In Data"
      ]
    },
    {
      "cell_type": "code",
      "metadata": {
        "id": "CEoFLjzw3hd9",
        "colab": {
          "base_uri": "https://localhost:8080/",
          "height": 275
        },
        "outputId": "8725088f-c89f-426a-e63c-f904b52fdc24"
      },
      "source": [
        "# Read in the data from the data folder\n",
        "import pandas as pd\n",
        "\n",
        "# import google drive\n",
        "from google.colab import drive\n",
        "drive.mount('/content/drive/')\n",
        "\n",
        "# Change directory to google drive- Just upload the file right into the drive you want(Uchennamachine) for easy access\n",
        "%cd /content/drive/My Drive/\n",
        "\n",
        "df = pd.read_csv(\"nasa_data.csv\")\n",
        "\n",
        "#define titanic - you'd need this going forward\n",
        "nasa = pd.read_csv('nasa_data.csv')\n",
        "nasa.head()\n"
      ],
      "execution_count": null,
      "outputs": [
        {
          "output_type": "stream",
          "text": [
            "Mounted at /content/drive/\n",
            "/content/drive/My Drive\n"
          ],
          "name": "stdout"
        },
        {
          "output_type": "execute_result",
          "data": {
            "text/html": [
              "<div>\n",
              "<style scoped>\n",
              "    .dataframe tbody tr th:only-of-type {\n",
              "        vertical-align: middle;\n",
              "    }\n",
              "\n",
              "    .dataframe tbody tr th {\n",
              "        vertical-align: top;\n",
              "    }\n",
              "\n",
              "    .dataframe thead th {\n",
              "        text-align: right;\n",
              "    }\n",
              "</style>\n",
              "<table border=\"1\" class=\"dataframe\">\n",
              "  <thead>\n",
              "    <tr style=\"text-align: right;\">\n",
              "      <th></th>\n",
              "      <th>unit_number</th>\n",
              "      <th>time_in_cycles</th>\n",
              "      <th>Altitud</th>\n",
              "      <th>Mach Number</th>\n",
              "      <th>TRA</th>\n",
              "      <th>T2</th>\n",
              "      <th>T24</th>\n",
              "      <th>T30</th>\n",
              "      <th>T50</th>\n",
              "      <th>P2</th>\n",
              "      <th>P15</th>\n",
              "      <th>P30</th>\n",
              "      <th>Nf</th>\n",
              "      <th>Nc</th>\n",
              "      <th>epr</th>\n",
              "      <th>Ps30</th>\n",
              "      <th>phi</th>\n",
              "      <th>NRf</th>\n",
              "      <th>NRc</th>\n",
              "      <th>BPR</th>\n",
              "      <th>farB</th>\n",
              "      <th>htBleed</th>\n",
              "      <th>Nf_dmd</th>\n",
              "      <th>PCNfR_dmd</th>\n",
              "      <th>W31</th>\n",
              "      <th>W32</th>\n",
              "      <th>condition</th>\n",
              "      <th>max_cycles</th>\n",
              "      <th>target</th>\n",
              "    </tr>\n",
              "  </thead>\n",
              "  <tbody>\n",
              "    <tr>\n",
              "      <th>0</th>\n",
              "      <td>1</td>\n",
              "      <td>1</td>\n",
              "      <td>-0.0007</td>\n",
              "      <td>-0.0004</td>\n",
              "      <td>100.0</td>\n",
              "      <td>518.67</td>\n",
              "      <td>641.82</td>\n",
              "      <td>1589.70</td>\n",
              "      <td>1400.60</td>\n",
              "      <td>14.62</td>\n",
              "      <td>21.61</td>\n",
              "      <td>554.36</td>\n",
              "      <td>2388.06</td>\n",
              "      <td>9046.19</td>\n",
              "      <td>1.3</td>\n",
              "      <td>47.47</td>\n",
              "      <td>521.66</td>\n",
              "      <td>2388.02</td>\n",
              "      <td>8138.62</td>\n",
              "      <td>8.4195</td>\n",
              "      <td>0.03</td>\n",
              "      <td>392</td>\n",
              "      <td>2388</td>\n",
              "      <td>100.0</td>\n",
              "      <td>39.06</td>\n",
              "      <td>23.4190</td>\n",
              "      <td>1</td>\n",
              "      <td>192</td>\n",
              "      <td>191</td>\n",
              "    </tr>\n",
              "    <tr>\n",
              "      <th>1</th>\n",
              "      <td>1</td>\n",
              "      <td>2</td>\n",
              "      <td>0.0019</td>\n",
              "      <td>-0.0003</td>\n",
              "      <td>100.0</td>\n",
              "      <td>518.67</td>\n",
              "      <td>642.15</td>\n",
              "      <td>1591.82</td>\n",
              "      <td>1403.14</td>\n",
              "      <td>14.62</td>\n",
              "      <td>21.61</td>\n",
              "      <td>553.75</td>\n",
              "      <td>2388.04</td>\n",
              "      <td>9044.07</td>\n",
              "      <td>1.3</td>\n",
              "      <td>47.49</td>\n",
              "      <td>522.28</td>\n",
              "      <td>2388.07</td>\n",
              "      <td>8131.49</td>\n",
              "      <td>8.4318</td>\n",
              "      <td>0.03</td>\n",
              "      <td>392</td>\n",
              "      <td>2388</td>\n",
              "      <td>100.0</td>\n",
              "      <td>39.00</td>\n",
              "      <td>23.4236</td>\n",
              "      <td>1</td>\n",
              "      <td>192</td>\n",
              "      <td>190</td>\n",
              "    </tr>\n",
              "    <tr>\n",
              "      <th>2</th>\n",
              "      <td>1</td>\n",
              "      <td>3</td>\n",
              "      <td>-0.0043</td>\n",
              "      <td>0.0003</td>\n",
              "      <td>100.0</td>\n",
              "      <td>518.67</td>\n",
              "      <td>642.35</td>\n",
              "      <td>1587.99</td>\n",
              "      <td>1404.20</td>\n",
              "      <td>14.62</td>\n",
              "      <td>21.61</td>\n",
              "      <td>554.26</td>\n",
              "      <td>2388.08</td>\n",
              "      <td>9052.94</td>\n",
              "      <td>1.3</td>\n",
              "      <td>47.27</td>\n",
              "      <td>522.42</td>\n",
              "      <td>2388.03</td>\n",
              "      <td>8133.23</td>\n",
              "      <td>8.4178</td>\n",
              "      <td>0.03</td>\n",
              "      <td>390</td>\n",
              "      <td>2388</td>\n",
              "      <td>100.0</td>\n",
              "      <td>38.95</td>\n",
              "      <td>23.3442</td>\n",
              "      <td>1</td>\n",
              "      <td>192</td>\n",
              "      <td>189</td>\n",
              "    </tr>\n",
              "    <tr>\n",
              "      <th>3</th>\n",
              "      <td>1</td>\n",
              "      <td>4</td>\n",
              "      <td>0.0007</td>\n",
              "      <td>0.0000</td>\n",
              "      <td>100.0</td>\n",
              "      <td>518.67</td>\n",
              "      <td>642.35</td>\n",
              "      <td>1582.79</td>\n",
              "      <td>1401.87</td>\n",
              "      <td>14.62</td>\n",
              "      <td>21.61</td>\n",
              "      <td>554.45</td>\n",
              "      <td>2388.11</td>\n",
              "      <td>9049.48</td>\n",
              "      <td>1.3</td>\n",
              "      <td>47.13</td>\n",
              "      <td>522.86</td>\n",
              "      <td>2388.08</td>\n",
              "      <td>8133.83</td>\n",
              "      <td>8.3682</td>\n",
              "      <td>0.03</td>\n",
              "      <td>392</td>\n",
              "      <td>2388</td>\n",
              "      <td>100.0</td>\n",
              "      <td>38.88</td>\n",
              "      <td>23.3739</td>\n",
              "      <td>1</td>\n",
              "      <td>192</td>\n",
              "      <td>188</td>\n",
              "    </tr>\n",
              "    <tr>\n",
              "      <th>4</th>\n",
              "      <td>1</td>\n",
              "      <td>5</td>\n",
              "      <td>-0.0019</td>\n",
              "      <td>-0.0002</td>\n",
              "      <td>100.0</td>\n",
              "      <td>518.67</td>\n",
              "      <td>642.37</td>\n",
              "      <td>1582.85</td>\n",
              "      <td>1406.22</td>\n",
              "      <td>14.62</td>\n",
              "      <td>21.61</td>\n",
              "      <td>554.00</td>\n",
              "      <td>2388.06</td>\n",
              "      <td>9055.15</td>\n",
              "      <td>1.3</td>\n",
              "      <td>47.28</td>\n",
              "      <td>522.19</td>\n",
              "      <td>2388.04</td>\n",
              "      <td>8133.80</td>\n",
              "      <td>8.4294</td>\n",
              "      <td>0.03</td>\n",
              "      <td>393</td>\n",
              "      <td>2388</td>\n",
              "      <td>100.0</td>\n",
              "      <td>38.90</td>\n",
              "      <td>23.4044</td>\n",
              "      <td>1</td>\n",
              "      <td>192</td>\n",
              "      <td>187</td>\n",
              "    </tr>\n",
              "  </tbody>\n",
              "</table>\n",
              "</div>"
            ],
            "text/plain": [
              "   unit_number  time_in_cycles  Altitud  ...  condition  max_cycles  target\n",
              "0            1               1  -0.0007  ...          1         192     191\n",
              "1            1               2   0.0019  ...          1         192     190\n",
              "2            1               3  -0.0043  ...          1         192     189\n",
              "3            1               4   0.0007  ...          1         192     188\n",
              "4            1               5  -0.0019  ...          1         192     187\n",
              "\n",
              "[5 rows x 29 columns]"
            ]
          },
          "metadata": {
            "tags": []
          },
          "execution_count": 1
        }
      ]
    },
    {
      "cell_type": "code",
      "metadata": {
        "id": "QD1FGrgMIhvi"
      },
      "source": [
        "import pandas as pd\n",
        "import numpy as np\n",
        "import plotly.express as px\n",
        "from sklearn.model_selection import train_test_split\n",
        "import plotly.graph_objects as go\n",
        "import seaborn as sns"
      ],
      "execution_count": null,
      "outputs": []
    },
    {
      "cell_type": "code",
      "metadata": {
        "id": "9jh7Vshh3hd9",
        "colab": {
          "base_uri": "https://localhost:8080/"
        },
        "outputId": "3323bfb4-bcbb-4d75-cb83-cad22ee609f6"
      },
      "source": [
        "# Check the number of rows and columns in the data\n",
        "nasa.shape"
      ],
      "execution_count": null,
      "outputs": [
        {
          "output_type": "execute_result",
          "data": {
            "text/plain": [
              "(160359, 29)"
            ]
          },
          "metadata": {
            "tags": []
          },
          "execution_count": 3
        }
      ]
    },
    {
      "cell_type": "code",
      "metadata": {
        "id": "RtdxAodk3hd9",
        "colab": {
          "base_uri": "https://localhost:8080/"
        },
        "outputId": "aa726309-1e1a-4ebf-fe32-82d697f93119"
      },
      "source": [
        "# Check the type of data stored in each column\n",
        "nasa.dtypes"
      ],
      "execution_count": null,
      "outputs": [
        {
          "output_type": "execute_result",
          "data": {
            "text/plain": [
              "unit_number         int64\n",
              "time_in_cycles      int64\n",
              "Altitud           float64\n",
              "Mach Number       float64\n",
              "TRA               float64\n",
              "T2                float64\n",
              "T24               float64\n",
              "T30               float64\n",
              "T50               float64\n",
              "P2                float64\n",
              "P15               float64\n",
              "P30               float64\n",
              "Nf                float64\n",
              "Nc                float64\n",
              "epr               float64\n",
              "Ps30              float64\n",
              "phi               float64\n",
              "NRf               float64\n",
              "NRc               float64\n",
              "BPR               float64\n",
              "farB              float64\n",
              "htBleed             int64\n",
              "Nf_dmd              int64\n",
              "PCNfR_dmd         float64\n",
              "W31               float64\n",
              "W32               float64\n",
              "condition           int64\n",
              "max_cycles          int64\n",
              "target              int64\n",
              "dtype: object"
            ]
          },
          "metadata": {
            "tags": []
          },
          "execution_count": 255
        }
      ]
    },
    {
      "cell_type": "code",
      "metadata": {
        "id": "VdeuQhzA3hd9",
        "colab": {
          "base_uri": "https://localhost:8080/"
        },
        "outputId": "973fce4e-fd70-4b90-a147-2a3f861c2437"
      },
      "source": [
        "# See the distribution of our target variable\n",
        "nasa['target'].value_counts()"
      ],
      "execution_count": null,
      "outputs": [
        {
          "output_type": "execute_result",
          "data": {
            "text/plain": [
              "60     709\n",
              "64     709\n",
              "74     709\n",
              "73     709\n",
              "72     709\n",
              "      ... \n",
              "529      1\n",
              "534      1\n",
              "533      1\n",
              "532      1\n",
              "540      1\n",
              "Name: target, Length: 543, dtype: int64"
            ]
          },
          "metadata": {
            "tags": []
          },
          "execution_count": 256
        }
      ]
    },
    {
      "cell_type": "code",
      "metadata": {
        "colab": {
          "base_uri": "https://localhost:8080/"
        },
        "id": "QjY8d1tTA6kX",
        "outputId": "27e8a0b0-cc78-4681-e4f1-6d2c56daa60b"
      },
      "source": [
        "# Check if there are any missing values\n",
        "nasa.isnull().sum()"
      ],
      "execution_count": null,
      "outputs": [
        {
          "output_type": "execute_result",
          "data": {
            "text/plain": [
              "unit_number       0\n",
              "time_in_cycles    0\n",
              "Altitud           0\n",
              "Mach Number       0\n",
              "TRA               0\n",
              "T2                0\n",
              "T24               0\n",
              "T30               0\n",
              "T50               0\n",
              "P2                0\n",
              "P15               0\n",
              "P30               0\n",
              "Nf                0\n",
              "Nc                0\n",
              "epr               0\n",
              "Ps30              0\n",
              "phi               0\n",
              "NRf               0\n",
              "NRc               0\n",
              "BPR               0\n",
              "farB              0\n",
              "htBleed           0\n",
              "Nf_dmd            0\n",
              "PCNfR_dmd         0\n",
              "W31               0\n",
              "W32               0\n",
              "condition         0\n",
              "max_cycles        0\n",
              "target            0\n",
              "dtype: int64"
            ]
          },
          "metadata": {
            "tags": []
          },
          "execution_count": 257
        }
      ]
    },
    {
      "cell_type": "code",
      "metadata": {
        "id": "gtt_MGGzHyhE"
      },
      "source": [
        "#defining a new target variable based on a minimum threshold of 25\n",
        "target = 25\n",
        "label_positive =nasa['target'] <= target \n",
        "nasa['label_target']=0\n",
        "nasa.loc[label_positive,'label_target'] = 1\n",
        "\n",
        "#Unit number not likely to be relevant to the process, also condition is just the data set #\n",
        "nasa.drop(columns=['max_cycles','target','unit_number','condition'],inplace = True)\n",
        "\n",
        "\n"
      ],
      "execution_count": null,
      "outputs": []
    },
    {
      "cell_type": "code",
      "metadata": {
        "id": "NaLJklqVJaE5"
      },
      "source": [
        "X = nasa.drop(['label_target'], axis=1)\n",
        "y = nasa['label_target']\n",
        "\n",
        "#splitting the data set (note we already have an actual test set, so this test set here is the validation set)\n",
        "X_train, X_test, y_train, y_test = train_test_split( X, y, test_size=0.33, random_state=42,stratify=y)"
      ],
      "execution_count": null,
      "outputs": []
    },
    {
      "cell_type": "code",
      "metadata": {
        "colab": {
          "base_uri": "https://localhost:8080/",
          "height": 241
        },
        "id": "V-fqNmpOJsXv",
        "outputId": "173002d4-972b-465f-8816-aa7192e2bb8a"
      },
      "source": [
        "X_train.head()"
      ],
      "execution_count": null,
      "outputs": [
        {
          "output_type": "execute_result",
          "data": {
            "text/html": [
              "<div>\n",
              "<style scoped>\n",
              "    .dataframe tbody tr th:only-of-type {\n",
              "        vertical-align: middle;\n",
              "    }\n",
              "\n",
              "    .dataframe tbody tr th {\n",
              "        vertical-align: top;\n",
              "    }\n",
              "\n",
              "    .dataframe thead th {\n",
              "        text-align: right;\n",
              "    }\n",
              "</style>\n",
              "<table border=\"1\" class=\"dataframe\">\n",
              "  <thead>\n",
              "    <tr style=\"text-align: right;\">\n",
              "      <th></th>\n",
              "      <th>time_in_cycles</th>\n",
              "      <th>Altitud</th>\n",
              "      <th>Mach Number</th>\n",
              "      <th>TRA</th>\n",
              "      <th>T2</th>\n",
              "      <th>T24</th>\n",
              "      <th>T30</th>\n",
              "      <th>T50</th>\n",
              "      <th>P2</th>\n",
              "      <th>P15</th>\n",
              "      <th>P30</th>\n",
              "      <th>Nf</th>\n",
              "      <th>Nc</th>\n",
              "      <th>epr</th>\n",
              "      <th>Ps30</th>\n",
              "      <th>phi</th>\n",
              "      <th>NRf</th>\n",
              "      <th>NRc</th>\n",
              "      <th>BPR</th>\n",
              "      <th>farB</th>\n",
              "      <th>htBleed</th>\n",
              "      <th>Nf_dmd</th>\n",
              "      <th>PCNfR_dmd</th>\n",
              "      <th>W31</th>\n",
              "      <th>W32</th>\n",
              "    </tr>\n",
              "  </thead>\n",
              "  <tbody>\n",
              "    <tr>\n",
              "      <th>159047</th>\n",
              "      <td>299</td>\n",
              "      <td>35.0020</td>\n",
              "      <td>0.8417</td>\n",
              "      <td>100.0</td>\n",
              "      <td>449.44</td>\n",
              "      <td>555.10</td>\n",
              "      <td>1369.15</td>\n",
              "      <td>1140.66</td>\n",
              "      <td>5.48</td>\n",
              "      <td>7.98</td>\n",
              "      <td>198.02</td>\n",
              "      <td>2223.46</td>\n",
              "      <td>8387.89</td>\n",
              "      <td>1.04</td>\n",
              "      <td>42.45</td>\n",
              "      <td>186.91</td>\n",
              "      <td>2388.57</td>\n",
              "      <td>8107.35</td>\n",
              "      <td>9.1173</td>\n",
              "      <td>0.02</td>\n",
              "      <td>336</td>\n",
              "      <td>2223</td>\n",
              "      <td>100.00</td>\n",
              "      <td>15.15</td>\n",
              "      <td>9.2185</td>\n",
              "    </tr>\n",
              "    <tr>\n",
              "      <th>32086</th>\n",
              "      <td>64</td>\n",
              "      <td>42.0064</td>\n",
              "      <td>0.8400</td>\n",
              "      <td>100.0</td>\n",
              "      <td>445.00</td>\n",
              "      <td>549.32</td>\n",
              "      <td>1352.52</td>\n",
              "      <td>1114.88</td>\n",
              "      <td>3.91</td>\n",
              "      <td>5.71</td>\n",
              "      <td>138.64</td>\n",
              "      <td>2211.92</td>\n",
              "      <td>8327.77</td>\n",
              "      <td>1.02</td>\n",
              "      <td>42.14</td>\n",
              "      <td>130.60</td>\n",
              "      <td>2387.94</td>\n",
              "      <td>8087.11</td>\n",
              "      <td>9.3617</td>\n",
              "      <td>0.02</td>\n",
              "      <td>329</td>\n",
              "      <td>2212</td>\n",
              "      <td>100.00</td>\n",
              "      <td>10.65</td>\n",
              "      <td>6.2992</td>\n",
              "    </tr>\n",
              "    <tr>\n",
              "      <th>155840</th>\n",
              "      <td>196</td>\n",
              "      <td>35.0050</td>\n",
              "      <td>0.8400</td>\n",
              "      <td>100.0</td>\n",
              "      <td>449.44</td>\n",
              "      <td>555.15</td>\n",
              "      <td>1363.23</td>\n",
              "      <td>1126.76</td>\n",
              "      <td>5.48</td>\n",
              "      <td>7.98</td>\n",
              "      <td>196.53</td>\n",
              "      <td>2223.24</td>\n",
              "      <td>8363.38</td>\n",
              "      <td>1.03</td>\n",
              "      <td>41.95</td>\n",
              "      <td>184.96</td>\n",
              "      <td>2388.39</td>\n",
              "      <td>8089.61</td>\n",
              "      <td>9.2291</td>\n",
              "      <td>0.02</td>\n",
              "      <td>334</td>\n",
              "      <td>2223</td>\n",
              "      <td>100.00</td>\n",
              "      <td>14.98</td>\n",
              "      <td>9.1078</td>\n",
              "    </tr>\n",
              "    <tr>\n",
              "      <th>134494</th>\n",
              "      <td>98</td>\n",
              "      <td>20.0057</td>\n",
              "      <td>0.7007</td>\n",
              "      <td>100.0</td>\n",
              "      <td>491.19</td>\n",
              "      <td>607.12</td>\n",
              "      <td>1479.43</td>\n",
              "      <td>1245.62</td>\n",
              "      <td>9.35</td>\n",
              "      <td>13.65</td>\n",
              "      <td>335.13</td>\n",
              "      <td>2323.97</td>\n",
              "      <td>8738.27</td>\n",
              "      <td>1.08</td>\n",
              "      <td>43.99</td>\n",
              "      <td>315.50</td>\n",
              "      <td>2388.14</td>\n",
              "      <td>8079.62</td>\n",
              "      <td>9.2126</td>\n",
              "      <td>0.02</td>\n",
              "      <td>364</td>\n",
              "      <td>2324</td>\n",
              "      <td>100.00</td>\n",
              "      <td>24.61</td>\n",
              "      <td>14.6590</td>\n",
              "    </tr>\n",
              "    <tr>\n",
              "      <th>126998</th>\n",
              "      <td>25</td>\n",
              "      <td>25.0076</td>\n",
              "      <td>0.6215</td>\n",
              "      <td>60.0</td>\n",
              "      <td>462.54</td>\n",
              "      <td>537.00</td>\n",
              "      <td>1261.28</td>\n",
              "      <td>1051.99</td>\n",
              "      <td>7.05</td>\n",
              "      <td>9.02</td>\n",
              "      <td>175.36</td>\n",
              "      <td>1915.08</td>\n",
              "      <td>7997.95</td>\n",
              "      <td>0.94</td>\n",
              "      <td>36.81</td>\n",
              "      <td>164.57</td>\n",
              "      <td>2027.95</td>\n",
              "      <td>7860.80</td>\n",
              "      <td>10.9176</td>\n",
              "      <td>0.02</td>\n",
              "      <td>308</td>\n",
              "      <td>1915</td>\n",
              "      <td>84.93</td>\n",
              "      <td>14.33</td>\n",
              "      <td>8.4650</td>\n",
              "    </tr>\n",
              "  </tbody>\n",
              "</table>\n",
              "</div>"
            ],
            "text/plain": [
              "        time_in_cycles  Altitud  Mach Number  ...  PCNfR_dmd    W31      W32\n",
              "159047             299  35.0020       0.8417  ...     100.00  15.15   9.2185\n",
              "32086               64  42.0064       0.8400  ...     100.00  10.65   6.2992\n",
              "155840             196  35.0050       0.8400  ...     100.00  14.98   9.1078\n",
              "134494              98  20.0057       0.7007  ...     100.00  24.61  14.6590\n",
              "126998              25  25.0076       0.6215  ...      84.93  14.33   8.4650\n",
              "\n",
              "[5 rows x 25 columns]"
            ]
          },
          "metadata": {
            "tags": []
          },
          "execution_count": 261
        }
      ]
    },
    {
      "cell_type": "code",
      "metadata": {
        "colab": {
          "base_uri": "https://localhost:8080/"
        },
        "id": "Mj6Xq3OYuvzh",
        "outputId": "40478eb0-0fe6-4cfd-c4e7-586a840e990d"
      },
      "source": [
        "#confirming that the split was done (67% to 33%)\n",
        "for dataset in [y_train, y_test]:\n",
        "    print(round(len(dataset) / len(y), 2))"
      ],
      "execution_count": null,
      "outputs": [
        {
          "output_type": "stream",
          "text": [
            "0.67\n",
            "0.33\n"
          ],
          "name": "stdout"
        }
      ]
    },
    {
      "cell_type": "markdown",
      "metadata": {
        "id": "JXUfj-b1iRoN"
      },
      "source": [
        "#Detecting Outliers\n"
      ]
    },
    {
      "cell_type": "code",
      "metadata": {
        "colab": {
          "base_uri": "https://localhost:8080/",
          "height": 317
        },
        "id": "1n_VpnDKME0X",
        "outputId": "0621ac78-10ea-477a-a944-c6c6f2a00ef7"
      },
      "source": [
        "# The entire data set is continuous (except the label_target) \n",
        "#Look at the general distribution of the features\n",
        "nasa.describe()"
      ],
      "execution_count": null,
      "outputs": [
        {
          "output_type": "execute_result",
          "data": {
            "text/html": [
              "<div>\n",
              "<style scoped>\n",
              "    .dataframe tbody tr th:only-of-type {\n",
              "        vertical-align: middle;\n",
              "    }\n",
              "\n",
              "    .dataframe tbody tr th {\n",
              "        vertical-align: top;\n",
              "    }\n",
              "\n",
              "    .dataframe thead th {\n",
              "        text-align: right;\n",
              "    }\n",
              "</style>\n",
              "<table border=\"1\" class=\"dataframe\">\n",
              "  <thead>\n",
              "    <tr style=\"text-align: right;\">\n",
              "      <th></th>\n",
              "      <th>time_in_cycles</th>\n",
              "      <th>Altitud</th>\n",
              "      <th>Mach Number</th>\n",
              "      <th>TRA</th>\n",
              "      <th>T2</th>\n",
              "      <th>T24</th>\n",
              "      <th>T30</th>\n",
              "      <th>T50</th>\n",
              "      <th>P2</th>\n",
              "      <th>P15</th>\n",
              "      <th>P30</th>\n",
              "      <th>Nf</th>\n",
              "      <th>Nc</th>\n",
              "      <th>epr</th>\n",
              "      <th>Ps30</th>\n",
              "      <th>phi</th>\n",
              "      <th>NRf</th>\n",
              "      <th>NRc</th>\n",
              "      <th>BPR</th>\n",
              "      <th>farB</th>\n",
              "      <th>htBleed</th>\n",
              "      <th>Nf_dmd</th>\n",
              "      <th>PCNfR_dmd</th>\n",
              "      <th>W31</th>\n",
              "      <th>W32</th>\n",
              "      <th>label_target</th>\n",
              "    </tr>\n",
              "  </thead>\n",
              "  <tbody>\n",
              "    <tr>\n",
              "      <th>count</th>\n",
              "      <td>160359.000000</td>\n",
              "      <td>160359.000000</td>\n",
              "      <td>160359.000000</td>\n",
              "      <td>160359.000000</td>\n",
              "      <td>160359.000000</td>\n",
              "      <td>160359.000000</td>\n",
              "      <td>160359.000000</td>\n",
              "      <td>160359.000000</td>\n",
              "      <td>160359.000000</td>\n",
              "      <td>160359.000000</td>\n",
              "      <td>160359.000000</td>\n",
              "      <td>160359.000000</td>\n",
              "      <td>160359.000000</td>\n",
              "      <td>160359.000000</td>\n",
              "      <td>160359.000000</td>\n",
              "      <td>160359.000000</td>\n",
              "      <td>160359.000000</td>\n",
              "      <td>160359.000000</td>\n",
              "      <td>160359.000000</td>\n",
              "      <td>160359.000000</td>\n",
              "      <td>160359.000000</td>\n",
              "      <td>160359.000000</td>\n",
              "      <td>160359.000000</td>\n",
              "      <td>160359.000000</td>\n",
              "      <td>160359.000000</td>\n",
              "      <td>160359.000000</td>\n",
              "    </tr>\n",
              "    <tr>\n",
              "      <th>mean</th>\n",
              "      <td>123.331338</td>\n",
              "      <td>17.211973</td>\n",
              "      <td>0.410004</td>\n",
              "      <td>95.724344</td>\n",
              "      <td>485.840890</td>\n",
              "      <td>597.361022</td>\n",
              "      <td>1467.035653</td>\n",
              "      <td>1260.956434</td>\n",
              "      <td>9.894999</td>\n",
              "      <td>14.424935</td>\n",
              "      <td>359.729968</td>\n",
              "      <td>2273.829707</td>\n",
              "      <td>8677.553696</td>\n",
              "      <td>1.153705</td>\n",
              "      <td>44.212049</td>\n",
              "      <td>338.789821</td>\n",
              "      <td>2349.645243</td>\n",
              "      <td>8088.950972</td>\n",
              "      <td>9.054747</td>\n",
              "      <td>0.025185</td>\n",
              "      <td>360.698801</td>\n",
              "      <td>2273.754039</td>\n",
              "      <td>98.389146</td>\n",
              "      <td>25.942709</td>\n",
              "      <td>15.565700</td>\n",
              "      <td>0.885045</td>\n",
              "    </tr>\n",
              "    <tr>\n",
              "      <th>std</th>\n",
              "      <td>83.538146</td>\n",
              "      <td>16.527988</td>\n",
              "      <td>0.367938</td>\n",
              "      <td>12.359044</td>\n",
              "      <td>30.420388</td>\n",
              "      <td>42.478516</td>\n",
              "      <td>118.175261</td>\n",
              "      <td>136.300073</td>\n",
              "      <td>4.265554</td>\n",
              "      <td>6.443922</td>\n",
              "      <td>174.133835</td>\n",
              "      <td>142.426613</td>\n",
              "      <td>374.657454</td>\n",
              "      <td>0.142103</td>\n",
              "      <td>3.426342</td>\n",
              "      <td>164.193480</td>\n",
              "      <td>111.167242</td>\n",
              "      <td>80.623257</td>\n",
              "      <td>0.751581</td>\n",
              "      <td>0.004997</td>\n",
              "      <td>31.021430</td>\n",
              "      <td>142.513114</td>\n",
              "      <td>4.656270</td>\n",
              "      <td>11.691422</td>\n",
              "      <td>7.015067</td>\n",
              "      <td>0.318968</td>\n",
              "    </tr>\n",
              "    <tr>\n",
              "      <th>min</th>\n",
              "      <td>1.000000</td>\n",
              "      <td>-0.008700</td>\n",
              "      <td>-0.000600</td>\n",
              "      <td>60.000000</td>\n",
              "      <td>445.000000</td>\n",
              "      <td>535.480000</td>\n",
              "      <td>1242.670000</td>\n",
              "      <td>1023.770000</td>\n",
              "      <td>3.910000</td>\n",
              "      <td>5.670000</td>\n",
              "      <td>136.170000</td>\n",
              "      <td>1914.720000</td>\n",
              "      <td>7984.510000</td>\n",
              "      <td>0.930000</td>\n",
              "      <td>36.040000</td>\n",
              "      <td>128.310000</td>\n",
              "      <td>2027.570000</td>\n",
              "      <td>7845.780000</td>\n",
              "      <td>8.156300</td>\n",
              "      <td>0.020000</td>\n",
              "      <td>302.000000</td>\n",
              "      <td>1915.000000</td>\n",
              "      <td>84.930000</td>\n",
              "      <td>10.160000</td>\n",
              "      <td>6.010500</td>\n",
              "      <td>0.000000</td>\n",
              "    </tr>\n",
              "    <tr>\n",
              "      <th>25%</th>\n",
              "      <td>57.000000</td>\n",
              "      <td>0.001300</td>\n",
              "      <td>0.000200</td>\n",
              "      <td>100.000000</td>\n",
              "      <td>449.440000</td>\n",
              "      <td>549.960000</td>\n",
              "      <td>1357.360000</td>\n",
              "      <td>1126.830000</td>\n",
              "      <td>5.480000</td>\n",
              "      <td>8.000000</td>\n",
              "      <td>175.710000</td>\n",
              "      <td>2212.120000</td>\n",
              "      <td>8334.770000</td>\n",
              "      <td>1.020000</td>\n",
              "      <td>42.010000</td>\n",
              "      <td>164.790000</td>\n",
              "      <td>2387.970000</td>\n",
              "      <td>8070.530000</td>\n",
              "      <td>8.439250</td>\n",
              "      <td>0.020000</td>\n",
              "      <td>332.000000</td>\n",
              "      <td>2212.000000</td>\n",
              "      <td>100.000000</td>\n",
              "      <td>14.330000</td>\n",
              "      <td>8.601300</td>\n",
              "      <td>1.000000</td>\n",
              "    </tr>\n",
              "    <tr>\n",
              "      <th>50%</th>\n",
              "      <td>114.000000</td>\n",
              "      <td>19.998100</td>\n",
              "      <td>0.620000</td>\n",
              "      <td>100.000000</td>\n",
              "      <td>489.050000</td>\n",
              "      <td>605.930000</td>\n",
              "      <td>1492.810000</td>\n",
              "      <td>1271.740000</td>\n",
              "      <td>9.350000</td>\n",
              "      <td>13.660000</td>\n",
              "      <td>341.690000</td>\n",
              "      <td>2319.370000</td>\n",
              "      <td>8764.200000</td>\n",
              "      <td>1.090000</td>\n",
              "      <td>44.930000</td>\n",
              "      <td>321.690000</td>\n",
              "      <td>2388.070000</td>\n",
              "      <td>8118.590000</td>\n",
              "      <td>9.030100</td>\n",
              "      <td>0.030000</td>\n",
              "      <td>367.000000</td>\n",
              "      <td>2319.000000</td>\n",
              "      <td>100.000000</td>\n",
              "      <td>24.920000</td>\n",
              "      <td>14.953500</td>\n",
              "      <td>1.000000</td>\n",
              "    </tr>\n",
              "    <tr>\n",
              "      <th>75%</th>\n",
              "      <td>173.000000</td>\n",
              "      <td>35.001500</td>\n",
              "      <td>0.840000</td>\n",
              "      <td>100.000000</td>\n",
              "      <td>518.670000</td>\n",
              "      <td>642.340000</td>\n",
              "      <td>1586.590000</td>\n",
              "      <td>1402.200000</td>\n",
              "      <td>14.620000</td>\n",
              "      <td>21.610000</td>\n",
              "      <td>553.290000</td>\n",
              "      <td>2388.050000</td>\n",
              "      <td>9055.850000</td>\n",
              "      <td>1.300000</td>\n",
              "      <td>47.340000</td>\n",
              "      <td>521.340000</td>\n",
              "      <td>2388.160000</td>\n",
              "      <td>8139.410000</td>\n",
              "      <td>9.344200</td>\n",
              "      <td>0.030000</td>\n",
              "      <td>392.000000</td>\n",
              "      <td>2388.000000</td>\n",
              "      <td>100.000000</td>\n",
              "      <td>38.820000</td>\n",
              "      <td>23.294600</td>\n",
              "      <td>1.000000</td>\n",
              "    </tr>\n",
              "    <tr>\n",
              "      <th>max</th>\n",
              "      <td>543.000000</td>\n",
              "      <td>42.008000</td>\n",
              "      <td>0.842000</td>\n",
              "      <td>100.000000</td>\n",
              "      <td>518.670000</td>\n",
              "      <td>645.110000</td>\n",
              "      <td>1616.910000</td>\n",
              "      <td>1441.490000</td>\n",
              "      <td>14.620000</td>\n",
              "      <td>21.610000</td>\n",
              "      <td>570.810000</td>\n",
              "      <td>2388.640000</td>\n",
              "      <td>9244.590000</td>\n",
              "      <td>1.320000</td>\n",
              "      <td>48.530000</td>\n",
              "      <td>537.490000</td>\n",
              "      <td>2390.490000</td>\n",
              "      <td>8293.720000</td>\n",
              "      <td>11.066900</td>\n",
              "      <td>0.030000</td>\n",
              "      <td>400.000000</td>\n",
              "      <td>2388.000000</td>\n",
              "      <td>100.000000</td>\n",
              "      <td>39.890000</td>\n",
              "      <td>23.950500</td>\n",
              "      <td>1.000000</td>\n",
              "    </tr>\n",
              "  </tbody>\n",
              "</table>\n",
              "</div>"
            ],
            "text/plain": [
              "       time_in_cycles        Altitud  ...            W32   label_target\n",
              "count   160359.000000  160359.000000  ...  160359.000000  160359.000000\n",
              "mean       123.331338      17.211973  ...      15.565700       0.885045\n",
              "std         83.538146      16.527988  ...       7.015067       0.318968\n",
              "min          1.000000      -0.008700  ...       6.010500       0.000000\n",
              "25%         57.000000       0.001300  ...       8.601300       1.000000\n",
              "50%        114.000000      19.998100  ...      14.953500       1.000000\n",
              "75%        173.000000      35.001500  ...      23.294600       1.000000\n",
              "max        543.000000      42.008000  ...      23.950500       1.000000\n",
              "\n",
              "[8 rows x 26 columns]"
            ]
          },
          "metadata": {
            "tags": []
          },
          "execution_count": 203
        }
      ]
    },
    {
      "cell_type": "code",
      "metadata": {
        "id": "v_g6U_usPBEt"
      },
      "source": [
        "# nasa['test']=nasa['unit_number'].apply(lambda x:1 if (x > mean['unit_number']+std['unit_number']*2) or ( x < mean['unit_number']-std['unit_number']*2)  else 0)\n",
        "# nasa.test.sum()\n",
        "\n",
        "std = nasa.describe().loc['std',:]\n",
        "mean = nasa.describe().loc['mean',:]\n",
        "\n",
        "out=pd.DataFrame()\n",
        "num_outliers=[]\n",
        "for col in nasa.columns:\n",
        "    outliers=nasa[col].apply(lambda x:1 if (x > mean[col]+std[col]*2) or ( x < mean[col]-std[col]*2)  else 0)\n",
        "    num_outliers.append(outliers.sum())\n",
        "    \n",
        "\n",
        "out = pd.DataFrame([num_outliers],columns=nasa.columns)"
      ],
      "execution_count": null,
      "outputs": []
    },
    {
      "cell_type": "code",
      "metadata": {
        "colab": {
          "base_uri": "https://localhost:8080/",
          "height": 855
        },
        "id": "aZJgeRwDRkGE",
        "outputId": "57b4f8ec-5b85-4892-b4b6-a60663472b0c"
      },
      "source": [
        "out.T"
      ],
      "execution_count": null,
      "outputs": [
        {
          "output_type": "execute_result",
          "data": {
            "text/html": [
              "<div>\n",
              "<style scoped>\n",
              "    .dataframe tbody tr th:only-of-type {\n",
              "        vertical-align: middle;\n",
              "    }\n",
              "\n",
              "    .dataframe tbody tr th {\n",
              "        vertical-align: top;\n",
              "    }\n",
              "\n",
              "    .dataframe thead th {\n",
              "        text-align: right;\n",
              "    }\n",
              "</style>\n",
              "<table border=\"1\" class=\"dataframe\">\n",
              "  <thead>\n",
              "    <tr style=\"text-align: right;\">\n",
              "      <th></th>\n",
              "      <th>0</th>\n",
              "    </tr>\n",
              "  </thead>\n",
              "  <tbody>\n",
              "    <tr>\n",
              "      <th>time_in_cycles</th>\n",
              "      <td>6316</td>\n",
              "    </tr>\n",
              "    <tr>\n",
              "      <th>Altitud</th>\n",
              "      <td>0</td>\n",
              "    </tr>\n",
              "    <tr>\n",
              "      <th>Mach Number</th>\n",
              "      <td>0</td>\n",
              "    </tr>\n",
              "    <tr>\n",
              "      <th>TRA</th>\n",
              "      <td>17141</td>\n",
              "    </tr>\n",
              "    <tr>\n",
              "      <th>T2</th>\n",
              "      <td>0</td>\n",
              "    </tr>\n",
              "    <tr>\n",
              "      <th>T24</th>\n",
              "      <td>0</td>\n",
              "    </tr>\n",
              "    <tr>\n",
              "      <th>T30</th>\n",
              "      <td>0</td>\n",
              "    </tr>\n",
              "    <tr>\n",
              "      <th>T50</th>\n",
              "      <td>0</td>\n",
              "    </tr>\n",
              "    <tr>\n",
              "      <th>P2</th>\n",
              "      <td>0</td>\n",
              "    </tr>\n",
              "    <tr>\n",
              "      <th>P15</th>\n",
              "      <td>0</td>\n",
              "    </tr>\n",
              "    <tr>\n",
              "      <th>P30</th>\n",
              "      <td>0</td>\n",
              "    </tr>\n",
              "    <tr>\n",
              "      <th>Nf</th>\n",
              "      <td>17141</td>\n",
              "    </tr>\n",
              "    <tr>\n",
              "      <th>Nc</th>\n",
              "      <td>0</td>\n",
              "    </tr>\n",
              "    <tr>\n",
              "      <th>epr</th>\n",
              "      <td>0</td>\n",
              "    </tr>\n",
              "    <tr>\n",
              "      <th>Ps30</th>\n",
              "      <td>17057</td>\n",
              "    </tr>\n",
              "    <tr>\n",
              "      <th>phi</th>\n",
              "      <td>0</td>\n",
              "    </tr>\n",
              "    <tr>\n",
              "      <th>NRf</th>\n",
              "      <td>17141</td>\n",
              "    </tr>\n",
              "    <tr>\n",
              "      <th>NRc</th>\n",
              "      <td>17090</td>\n",
              "    </tr>\n",
              "    <tr>\n",
              "      <th>BPR</th>\n",
              "      <td>17141</td>\n",
              "    </tr>\n",
              "    <tr>\n",
              "      <th>farB</th>\n",
              "      <td>0</td>\n",
              "    </tr>\n",
              "    <tr>\n",
              "      <th>htBleed</th>\n",
              "      <td>0</td>\n",
              "    </tr>\n",
              "    <tr>\n",
              "      <th>Nf_dmd</th>\n",
              "      <td>17141</td>\n",
              "    </tr>\n",
              "    <tr>\n",
              "      <th>PCNfR_dmd</th>\n",
              "      <td>17141</td>\n",
              "    </tr>\n",
              "    <tr>\n",
              "      <th>W31</th>\n",
              "      <td>0</td>\n",
              "    </tr>\n",
              "    <tr>\n",
              "      <th>W32</th>\n",
              "      <td>0</td>\n",
              "    </tr>\n",
              "    <tr>\n",
              "      <th>label_target</th>\n",
              "      <td>18434</td>\n",
              "    </tr>\n",
              "  </tbody>\n",
              "</table>\n",
              "</div>"
            ],
            "text/plain": [
              "                    0\n",
              "time_in_cycles   6316\n",
              "Altitud             0\n",
              "Mach Number         0\n",
              "TRA             17141\n",
              "T2                  0\n",
              "T24                 0\n",
              "T30                 0\n",
              "T50                 0\n",
              "P2                  0\n",
              "P15                 0\n",
              "P30                 0\n",
              "Nf              17141\n",
              "Nc                  0\n",
              "epr                 0\n",
              "Ps30            17057\n",
              "phi                 0\n",
              "NRf             17141\n",
              "NRc             17090\n",
              "BPR             17141\n",
              "farB                0\n",
              "htBleed             0\n",
              "Nf_dmd          17141\n",
              "PCNfR_dmd       17141\n",
              "W31                 0\n",
              "W32                 0\n",
              "label_target    18434"
            ]
          },
          "metadata": {
            "tags": []
          },
          "execution_count": 205
        }
      ]
    },
    {
      "cell_type": "markdown",
      "metadata": {
        "id": "6XDwZyc4Rv2T"
      },
      "source": [
        "Using this , The features with significant outliers would be: TRA,Nf,Ps30, NRf, NRc, BPR, Nf_dmd,PCNFR_dmd"
      ]
    },
    {
      "cell_type": "code",
      "metadata": {
        "colab": {
          "base_uri": "https://localhost:8080/",
          "height": 855
        },
        "id": "UgSPWmPbSwvg",
        "outputId": "cc75eb70-fa91-4d7f-9f62-63d53441447d"
      },
      "source": [
        "#Calculate Percentage of outliers \n",
        "out_pct = pd.DataFrame()\n",
        "pct_outliers = []\n",
        "\n",
        "for col in out:\n",
        "    outlier_pct = round(out[col][0]/nasa[col].count().sum(),4)\n",
        "    pct_outliers.append(outlier_pct*100)\n",
        "\n",
        "out_pct = pd.DataFrame([pct_outliers],columns=nasa.columns,index=['Percent_Outliers'])\n",
        "out_pct.T"
      ],
      "execution_count": null,
      "outputs": [
        {
          "output_type": "execute_result",
          "data": {
            "text/html": [
              "<div>\n",
              "<style scoped>\n",
              "    .dataframe tbody tr th:only-of-type {\n",
              "        vertical-align: middle;\n",
              "    }\n",
              "\n",
              "    .dataframe tbody tr th {\n",
              "        vertical-align: top;\n",
              "    }\n",
              "\n",
              "    .dataframe thead th {\n",
              "        text-align: right;\n",
              "    }\n",
              "</style>\n",
              "<table border=\"1\" class=\"dataframe\">\n",
              "  <thead>\n",
              "    <tr style=\"text-align: right;\">\n",
              "      <th></th>\n",
              "      <th>Percent_Outliers</th>\n",
              "    </tr>\n",
              "  </thead>\n",
              "  <tbody>\n",
              "    <tr>\n",
              "      <th>time_in_cycles</th>\n",
              "      <td>3.94</td>\n",
              "    </tr>\n",
              "    <tr>\n",
              "      <th>Altitud</th>\n",
              "      <td>0.00</td>\n",
              "    </tr>\n",
              "    <tr>\n",
              "      <th>Mach Number</th>\n",
              "      <td>0.00</td>\n",
              "    </tr>\n",
              "    <tr>\n",
              "      <th>TRA</th>\n",
              "      <td>10.69</td>\n",
              "    </tr>\n",
              "    <tr>\n",
              "      <th>T2</th>\n",
              "      <td>0.00</td>\n",
              "    </tr>\n",
              "    <tr>\n",
              "      <th>T24</th>\n",
              "      <td>0.00</td>\n",
              "    </tr>\n",
              "    <tr>\n",
              "      <th>T30</th>\n",
              "      <td>0.00</td>\n",
              "    </tr>\n",
              "    <tr>\n",
              "      <th>T50</th>\n",
              "      <td>0.00</td>\n",
              "    </tr>\n",
              "    <tr>\n",
              "      <th>P2</th>\n",
              "      <td>0.00</td>\n",
              "    </tr>\n",
              "    <tr>\n",
              "      <th>P15</th>\n",
              "      <td>0.00</td>\n",
              "    </tr>\n",
              "    <tr>\n",
              "      <th>P30</th>\n",
              "      <td>0.00</td>\n",
              "    </tr>\n",
              "    <tr>\n",
              "      <th>Nf</th>\n",
              "      <td>10.69</td>\n",
              "    </tr>\n",
              "    <tr>\n",
              "      <th>Nc</th>\n",
              "      <td>0.00</td>\n",
              "    </tr>\n",
              "    <tr>\n",
              "      <th>epr</th>\n",
              "      <td>0.00</td>\n",
              "    </tr>\n",
              "    <tr>\n",
              "      <th>Ps30</th>\n",
              "      <td>10.64</td>\n",
              "    </tr>\n",
              "    <tr>\n",
              "      <th>phi</th>\n",
              "      <td>0.00</td>\n",
              "    </tr>\n",
              "    <tr>\n",
              "      <th>NRf</th>\n",
              "      <td>10.69</td>\n",
              "    </tr>\n",
              "    <tr>\n",
              "      <th>NRc</th>\n",
              "      <td>10.66</td>\n",
              "    </tr>\n",
              "    <tr>\n",
              "      <th>BPR</th>\n",
              "      <td>10.69</td>\n",
              "    </tr>\n",
              "    <tr>\n",
              "      <th>farB</th>\n",
              "      <td>0.00</td>\n",
              "    </tr>\n",
              "    <tr>\n",
              "      <th>htBleed</th>\n",
              "      <td>0.00</td>\n",
              "    </tr>\n",
              "    <tr>\n",
              "      <th>Nf_dmd</th>\n",
              "      <td>10.69</td>\n",
              "    </tr>\n",
              "    <tr>\n",
              "      <th>PCNfR_dmd</th>\n",
              "      <td>10.69</td>\n",
              "    </tr>\n",
              "    <tr>\n",
              "      <th>W31</th>\n",
              "      <td>0.00</td>\n",
              "    </tr>\n",
              "    <tr>\n",
              "      <th>W32</th>\n",
              "      <td>0.00</td>\n",
              "    </tr>\n",
              "    <tr>\n",
              "      <th>label_target</th>\n",
              "      <td>11.50</td>\n",
              "    </tr>\n",
              "  </tbody>\n",
              "</table>\n",
              "</div>"
            ],
            "text/plain": [
              "                Percent_Outliers\n",
              "time_in_cycles              3.94\n",
              "Altitud                     0.00\n",
              "Mach Number                 0.00\n",
              "TRA                        10.69\n",
              "T2                          0.00\n",
              "T24                         0.00\n",
              "T30                         0.00\n",
              "T50                         0.00\n",
              "P2                          0.00\n",
              "P15                         0.00\n",
              "P30                         0.00\n",
              "Nf                         10.69\n",
              "Nc                          0.00\n",
              "epr                         0.00\n",
              "Ps30                       10.64\n",
              "phi                         0.00\n",
              "NRf                        10.69\n",
              "NRc                        10.66\n",
              "BPR                        10.69\n",
              "farB                        0.00\n",
              "htBleed                     0.00\n",
              "Nf_dmd                     10.69\n",
              "PCNfR_dmd                  10.69\n",
              "W31                         0.00\n",
              "W32                         0.00\n",
              "label_target               11.50"
            ]
          },
          "metadata": {
            "tags": []
          },
          "execution_count": 168
        }
      ]
    },
    {
      "cell_type": "code",
      "metadata": {
        "id": "ZsGVJrYauH0A"
      },
      "source": [
        "#to revisit outliers after further exploration"
      ],
      "execution_count": null,
      "outputs": []
    },
    {
      "cell_type": "code",
      "metadata": {
        "colab": {
          "base_uri": "https://localhost:8080/"
        },
        "id": "oCV60mR_aAzt",
        "outputId": "087da9d0-277f-402a-d1a8-c66291684fe4"
      },
      "source": [
        "# Explore the number of unique values for each feature\n",
        "for col in nasa.columns:\n",
        "    print('{}: {} unique values'.format(col, nasa[col].nunique()))"
      ],
      "execution_count": null,
      "outputs": [
        {
          "output_type": "stream",
          "text": [
            "time_in_cycles: 543 unique values\n",
            "Altitud: 670 unique values\n",
            "Mach Number: 111 unique values\n",
            "TRA: 2 unique values\n",
            "T2: 6 unique values\n",
            "T24: 1799 unique values\n",
            "T30: 15377 unique values\n",
            "T50: 20582 unique values\n",
            "P2: 6 unique values\n",
            "P15: 56 unique values\n",
            "P30: 6311 unique values\n",
            "Nf: 1163 unique values\n",
            "Nc: 34161 unique values\n",
            "epr: 21 unique values\n",
            "Ps30: 771 unique values\n",
            "phi: 5982 unique values\n",
            "NRf: 567 unique values\n",
            "NRc: 20090 unique values\n",
            "BPR: 13124 unique values\n",
            "farB: 2 unique values\n",
            "htBleed: 58 unique values\n",
            "Nf_dmd: 6 unique values\n",
            "PCNfR_dmd: 2 unique values\n",
            "W31: 676 unique values\n",
            "W32: 26659 unique values\n",
            "label_target: 2 unique values\n"
          ],
          "name": "stdout"
        }
      ]
    },
    {
      "cell_type": "code",
      "metadata": {
        "id": "ZhsFan3laEjg"
      },
      "source": [
        "#key features with uniqueness: TRA,farB and label target (2 unique features)\n",
        "#Also T2,P2,Nf_dmd (6 unique features)"
      ],
      "execution_count": null,
      "outputs": []
    },
    {
      "cell_type": "markdown",
      "metadata": {
        "id": "0cs9nbW7aXI0"
      },
      "source": [
        "# Test for correlation"
      ]
    },
    {
      "cell_type": "code",
      "metadata": {
        "colab": {
          "base_uri": "https://localhost:8080/",
          "height": 892
        },
        "id": "XoeV5MjgNZsu",
        "outputId": "abf57c2e-b60d-43b5-95df-391432a88e01"
      },
      "source": [
        "# Look at the correlation matrix\n",
        "nasa.corr()"
      ],
      "execution_count": null,
      "outputs": [
        {
          "output_type": "execute_result",
          "data": {
            "text/html": [
              "<div>\n",
              "<style scoped>\n",
              "    .dataframe tbody tr th:only-of-type {\n",
              "        vertical-align: middle;\n",
              "    }\n",
              "\n",
              "    .dataframe tbody tr th {\n",
              "        vertical-align: top;\n",
              "    }\n",
              "\n",
              "    .dataframe thead th {\n",
              "        text-align: right;\n",
              "    }\n",
              "</style>\n",
              "<table border=\"1\" class=\"dataframe\">\n",
              "  <thead>\n",
              "    <tr style=\"text-align: right;\">\n",
              "      <th></th>\n",
              "      <th>time_in_cycles</th>\n",
              "      <th>Altitud</th>\n",
              "      <th>Mach Number</th>\n",
              "      <th>TRA</th>\n",
              "      <th>T2</th>\n",
              "      <th>T24</th>\n",
              "      <th>T30</th>\n",
              "      <th>T50</th>\n",
              "      <th>P2</th>\n",
              "      <th>P15</th>\n",
              "      <th>P30</th>\n",
              "      <th>Nf</th>\n",
              "      <th>Nc</th>\n",
              "      <th>epr</th>\n",
              "      <th>Ps30</th>\n",
              "      <th>phi</th>\n",
              "      <th>NRf</th>\n",
              "      <th>NRc</th>\n",
              "      <th>BPR</th>\n",
              "      <th>farB</th>\n",
              "      <th>htBleed</th>\n",
              "      <th>Nf_dmd</th>\n",
              "      <th>PCNfR_dmd</th>\n",
              "      <th>W31</th>\n",
              "      <th>W32</th>\n",
              "      <th>label_target</th>\n",
              "    </tr>\n",
              "  </thead>\n",
              "  <tbody>\n",
              "    <tr>\n",
              "      <th>time_in_cycles</th>\n",
              "      <td>1.000000</td>\n",
              "      <td>-0.009588</td>\n",
              "      <td>-0.009960</td>\n",
              "      <td>0.000687</td>\n",
              "      <td>0.009526</td>\n",
              "      <td>0.012651</td>\n",
              "      <td>0.029766</td>\n",
              "      <td>0.036380</td>\n",
              "      <td>0.010034</td>\n",
              "      <td>0.009417</td>\n",
              "      <td>0.013459</td>\n",
              "      <td>0.005933</td>\n",
              "      <td>0.033241</td>\n",
              "      <td>0.017375</td>\n",
              "      <td>0.043362</td>\n",
              "      <td>0.013595</td>\n",
              "      <td>0.001481</td>\n",
              "      <td>0.098462</td>\n",
              "      <td>-0.017034</td>\n",
              "      <td>0.043034</td>\n",
              "      <td>0.029852</td>\n",
              "      <td>0.005334</td>\n",
              "      <td>0.000687</td>\n",
              "      <td>0.010540</td>\n",
              "      <td>0.010593</td>\n",
              "      <td>-0.389763</td>\n",
              "    </tr>\n",
              "    <tr>\n",
              "      <th>Altitud</th>\n",
              "      <td>-0.009588</td>\n",
              "      <td>1.000000</td>\n",
              "      <td>0.967487</td>\n",
              "      <td>-0.163079</td>\n",
              "      <td>-0.979797</td>\n",
              "      <td>-0.925472</td>\n",
              "      <td>-0.877521</td>\n",
              "      <td>-0.909480</td>\n",
              "      <td>-0.991539</td>\n",
              "      <td>-0.985378</td>\n",
              "      <td>-0.971758</td>\n",
              "      <td>-0.619974</td>\n",
              "      <td>-0.871095</td>\n",
              "      <td>-0.899679</td>\n",
              "      <td>-0.757426</td>\n",
              "      <td>-0.971526</td>\n",
              "      <td>-0.163065</td>\n",
              "      <td>-0.459088</td>\n",
              "      <td>0.642981</td>\n",
              "      <td>-0.901542</td>\n",
              "      <td>-0.879403</td>\n",
              "      <td>-0.619531</td>\n",
              "      <td>-0.163079</td>\n",
              "      <td>-0.977664</td>\n",
              "      <td>-0.977674</td>\n",
              "      <td>-0.000958</td>\n",
              "    </tr>\n",
              "    <tr>\n",
              "      <th>Mach Number</th>\n",
              "      <td>-0.009960</td>\n",
              "      <td>0.967487</td>\n",
              "      <td>1.000000</td>\n",
              "      <td>-0.197923</td>\n",
              "      <td>-0.939207</td>\n",
              "      <td>-0.898218</td>\n",
              "      <td>-0.867189</td>\n",
              "      <td>-0.912110</td>\n",
              "      <td>-0.965691</td>\n",
              "      <td>-0.963720</td>\n",
              "      <td>-0.958469</td>\n",
              "      <td>-0.624050</td>\n",
              "      <td>-0.863267</td>\n",
              "      <td>-0.934591</td>\n",
              "      <td>-0.774244</td>\n",
              "      <td>-0.958404</td>\n",
              "      <td>-0.197861</td>\n",
              "      <td>-0.527713</td>\n",
              "      <td>0.686817</td>\n",
              "      <td>-0.932897</td>\n",
              "      <td>-0.869323</td>\n",
              "      <td>-0.623632</td>\n",
              "      <td>-0.197923</td>\n",
              "      <td>-0.959658</td>\n",
              "      <td>-0.959656</td>\n",
              "      <td>-0.000594</td>\n",
              "    </tr>\n",
              "    <tr>\n",
              "      <th>TRA</th>\n",
              "      <td>0.000687</td>\n",
              "      <td>-0.163079</td>\n",
              "      <td>-0.197923</td>\n",
              "      <td>1.000000</td>\n",
              "      <td>0.264989</td>\n",
              "      <td>0.493244</td>\n",
              "      <td>0.601374</td>\n",
              "      <td>0.539436</td>\n",
              "      <td>0.230742</td>\n",
              "      <td>0.290031</td>\n",
              "      <td>0.365802</td>\n",
              "      <td>0.870596</td>\n",
              "      <td>0.612030</td>\n",
              "      <td>0.520732</td>\n",
              "      <td>0.754369</td>\n",
              "      <td>0.366734</td>\n",
              "      <td>0.999998</td>\n",
              "      <td>0.904365</td>\n",
              "      <td>-0.843670</td>\n",
              "      <td>0.359027</td>\n",
              "      <td>0.598086</td>\n",
              "      <td>0.870889</td>\n",
              "      <td>1.000000</td>\n",
              "      <td>0.344868</td>\n",
              "      <td>0.344814</td>\n",
              "      <td>-0.001989</td>\n",
              "    </tr>\n",
              "    <tr>\n",
              "      <th>T2</th>\n",
              "      <td>0.009526</td>\n",
              "      <td>-0.979797</td>\n",
              "      <td>-0.939207</td>\n",
              "      <td>0.264989</td>\n",
              "      <td>1.000000</td>\n",
              "      <td>0.969407</td>\n",
              "      <td>0.926589</td>\n",
              "      <td>0.943456</td>\n",
              "      <td>0.992550</td>\n",
              "      <td>0.992447</td>\n",
              "      <td>0.985351</td>\n",
              "      <td>0.705086</td>\n",
              "      <td>0.921489</td>\n",
              "      <td>0.901398</td>\n",
              "      <td>0.820482</td>\n",
              "      <td>0.985205</td>\n",
              "      <td>0.264958</td>\n",
              "      <td>0.523178</td>\n",
              "      <td>-0.698151</td>\n",
              "      <td>0.873423</td>\n",
              "      <td>0.928151</td>\n",
              "      <td>0.704665</td>\n",
              "      <td>0.264989</td>\n",
              "      <td>0.987856</td>\n",
              "      <td>0.987864</td>\n",
              "      <td>0.000917</td>\n",
              "    </tr>\n",
              "    <tr>\n",
              "      <th>T24</th>\n",
              "      <td>0.012651</td>\n",
              "      <td>-0.925472</td>\n",
              "      <td>-0.898218</td>\n",
              "      <td>0.493244</td>\n",
              "      <td>0.969407</td>\n",
              "      <td>1.000000</td>\n",
              "      <td>0.989141</td>\n",
              "      <td>0.988864</td>\n",
              "      <td>0.954472</td>\n",
              "      <td>0.969469</td>\n",
              "      <td>0.982334</td>\n",
              "      <td>0.857322</td>\n",
              "      <td>0.987073</td>\n",
              "      <td>0.945763</td>\n",
              "      <td>0.932675</td>\n",
              "      <td>0.982442</td>\n",
              "      <td>0.493222</td>\n",
              "      <td>0.702645</td>\n",
              "      <td>-0.844254</td>\n",
              "      <td>0.879724</td>\n",
              "      <td>0.989728</td>\n",
              "      <td>0.857009</td>\n",
              "      <td>0.493244</td>\n",
              "      <td>0.979178</td>\n",
              "      <td>0.979172</td>\n",
              "      <td>-0.005379</td>\n",
              "    </tr>\n",
              "    <tr>\n",
              "      <th>T30</th>\n",
              "      <td>0.029766</td>\n",
              "      <td>-0.877521</td>\n",
              "      <td>-0.867189</td>\n",
              "      <td>0.601374</td>\n",
              "      <td>0.926589</td>\n",
              "      <td>0.989141</td>\n",
              "      <td>1.000000</td>\n",
              "      <td>0.993401</td>\n",
              "      <td>0.911783</td>\n",
              "      <td>0.934604</td>\n",
              "      <td>0.958539</td>\n",
              "      <td>0.914962</td>\n",
              "      <td>0.998325</td>\n",
              "      <td>0.958726</td>\n",
              "      <td>0.973479</td>\n",
              "      <td>0.958803</td>\n",
              "      <td>0.601383</td>\n",
              "      <td>0.792588</td>\n",
              "      <td>-0.907534</td>\n",
              "      <td>0.878761</td>\n",
              "      <td>0.998944</td>\n",
              "      <td>0.914698</td>\n",
              "      <td>0.601374</td>\n",
              "      <td>0.952101</td>\n",
              "      <td>0.952087</td>\n",
              "      <td>-0.027544</td>\n",
              "    </tr>\n",
              "    <tr>\n",
              "      <th>T50</th>\n",
              "      <td>0.036380</td>\n",
              "      <td>-0.909480</td>\n",
              "      <td>-0.912110</td>\n",
              "      <td>0.539436</td>\n",
              "      <td>0.943456</td>\n",
              "      <td>0.988864</td>\n",
              "      <td>0.993401</td>\n",
              "      <td>1.000000</td>\n",
              "      <td>0.936864</td>\n",
              "      <td>0.955790</td>\n",
              "      <td>0.975306</td>\n",
              "      <td>0.877880</td>\n",
              "      <td>0.991848</td>\n",
              "      <td>0.977042</td>\n",
              "      <td>0.957909</td>\n",
              "      <td>0.975534</td>\n",
              "      <td>0.539443</td>\n",
              "      <td>0.764897</td>\n",
              "      <td>-0.886103</td>\n",
              "      <td>0.912335</td>\n",
              "      <td>0.993885</td>\n",
              "      <td>0.877577</td>\n",
              "      <td>0.539436</td>\n",
              "      <td>0.969753</td>\n",
              "      <td>0.969742</td>\n",
              "      <td>-0.038353</td>\n",
              "    </tr>\n",
              "    <tr>\n",
              "      <th>P2</th>\n",
              "      <td>0.010034</td>\n",
              "      <td>-0.991539</td>\n",
              "      <td>-0.965691</td>\n",
              "      <td>0.230742</td>\n",
              "      <td>0.992550</td>\n",
              "      <td>0.954472</td>\n",
              "      <td>0.911783</td>\n",
              "      <td>0.936864</td>\n",
              "      <td>1.000000</td>\n",
              "      <td>0.998092</td>\n",
              "      <td>0.989562</td>\n",
              "      <td>0.675870</td>\n",
              "      <td>0.906331</td>\n",
              "      <td>0.911788</td>\n",
              "      <td>0.803080</td>\n",
              "      <td>0.989408</td>\n",
              "      <td>0.230709</td>\n",
              "      <td>0.511161</td>\n",
              "      <td>-0.689424</td>\n",
              "      <td>0.892455</td>\n",
              "      <td>0.913622</td>\n",
              "      <td>0.675427</td>\n",
              "      <td>0.230742</td>\n",
              "      <td>0.992562</td>\n",
              "      <td>0.992570</td>\n",
              "      <td>0.000904</td>\n",
              "    </tr>\n",
              "    <tr>\n",
              "      <th>P15</th>\n",
              "      <td>0.009417</td>\n",
              "      <td>-0.985378</td>\n",
              "      <td>-0.963720</td>\n",
              "      <td>0.290031</td>\n",
              "      <td>0.992447</td>\n",
              "      <td>0.969469</td>\n",
              "      <td>0.934604</td>\n",
              "      <td>0.955790</td>\n",
              "      <td>0.998092</td>\n",
              "      <td>1.000000</td>\n",
              "      <td>0.996500</td>\n",
              "      <td>0.719400</td>\n",
              "      <td>0.929932</td>\n",
              "      <td>0.930701</td>\n",
              "      <td>0.837789</td>\n",
              "      <td>0.996411</td>\n",
              "      <td>0.289997</td>\n",
              "      <td>0.560980</td>\n",
              "      <td>-0.732014</td>\n",
              "      <td>0.901583</td>\n",
              "      <td>0.936218</td>\n",
              "      <td>0.718983</td>\n",
              "      <td>0.290031</td>\n",
              "      <td>0.998033</td>\n",
              "      <td>0.998038</td>\n",
              "      <td>0.000591</td>\n",
              "    </tr>\n",
              "    <tr>\n",
              "      <th>P30</th>\n",
              "      <td>0.013459</td>\n",
              "      <td>-0.971758</td>\n",
              "      <td>-0.958469</td>\n",
              "      <td>0.365802</td>\n",
              "      <td>0.985351</td>\n",
              "      <td>0.982334</td>\n",
              "      <td>0.958539</td>\n",
              "      <td>0.975306</td>\n",
              "      <td>0.989562</td>\n",
              "      <td>0.996500</td>\n",
              "      <td>1.000000</td>\n",
              "      <td>0.771459</td>\n",
              "      <td>0.955205</td>\n",
              "      <td>0.952925</td>\n",
              "      <td>0.878567</td>\n",
              "      <td>0.999995</td>\n",
              "      <td>0.365772</td>\n",
              "      <td>0.626133</td>\n",
              "      <td>-0.785956</td>\n",
              "      <td>0.911508</td>\n",
              "      <td>0.959859</td>\n",
              "      <td>0.771074</td>\n",
              "      <td>0.365802</td>\n",
              "      <td>0.999511</td>\n",
              "      <td>0.999511</td>\n",
              "      <td>-0.000295</td>\n",
              "    </tr>\n",
              "    <tr>\n",
              "      <th>Nf</th>\n",
              "      <td>0.005933</td>\n",
              "      <td>-0.619974</td>\n",
              "      <td>-0.624050</td>\n",
              "      <td>0.870596</td>\n",
              "      <td>0.705086</td>\n",
              "      <td>0.857322</td>\n",
              "      <td>0.914962</td>\n",
              "      <td>0.877880</td>\n",
              "      <td>0.675870</td>\n",
              "      <td>0.719400</td>\n",
              "      <td>0.771459</td>\n",
              "      <td>1.000000</td>\n",
              "      <td>0.920190</td>\n",
              "      <td>0.842603</td>\n",
              "      <td>0.973188</td>\n",
              "      <td>0.772068</td>\n",
              "      <td>0.870583</td>\n",
              "      <td>0.931727</td>\n",
              "      <td>-0.976317</td>\n",
              "      <td>0.709684</td>\n",
              "      <td>0.913329</td>\n",
              "      <td>0.999999</td>\n",
              "      <td>0.870596</td>\n",
              "      <td>0.757415</td>\n",
              "      <td>0.757380</td>\n",
              "      <td>-0.001512</td>\n",
              "    </tr>\n",
              "    <tr>\n",
              "      <th>Nc</th>\n",
              "      <td>0.033241</td>\n",
              "      <td>-0.871095</td>\n",
              "      <td>-0.863267</td>\n",
              "      <td>0.612030</td>\n",
              "      <td>0.921489</td>\n",
              "      <td>0.987073</td>\n",
              "      <td>0.998325</td>\n",
              "      <td>0.991848</td>\n",
              "      <td>0.906331</td>\n",
              "      <td>0.929932</td>\n",
              "      <td>0.955205</td>\n",
              "      <td>0.920190</td>\n",
              "      <td>1.000000</td>\n",
              "      <td>0.959142</td>\n",
              "      <td>0.975422</td>\n",
              "      <td>0.955481</td>\n",
              "      <td>0.612060</td>\n",
              "      <td>0.807054</td>\n",
              "      <td>-0.914808</td>\n",
              "      <td>0.876022</td>\n",
              "      <td>0.998370</td>\n",
              "      <td>0.919918</td>\n",
              "      <td>0.612030</td>\n",
              "      <td>0.948457</td>\n",
              "      <td>0.948441</td>\n",
              "      <td>-0.022191</td>\n",
              "    </tr>\n",
              "    <tr>\n",
              "      <th>epr</th>\n",
              "      <td>0.017375</td>\n",
              "      <td>-0.899679</td>\n",
              "      <td>-0.934591</td>\n",
              "      <td>0.520732</td>\n",
              "      <td>0.901398</td>\n",
              "      <td>0.945763</td>\n",
              "      <td>0.958726</td>\n",
              "      <td>0.977042</td>\n",
              "      <td>0.911788</td>\n",
              "      <td>0.930701</td>\n",
              "      <td>0.952925</td>\n",
              "      <td>0.842603</td>\n",
              "      <td>0.959142</td>\n",
              "      <td>1.000000</td>\n",
              "      <td>0.931965</td>\n",
              "      <td>0.953183</td>\n",
              "      <td>0.520714</td>\n",
              "      <td>0.777208</td>\n",
              "      <td>-0.892090</td>\n",
              "      <td>0.949057</td>\n",
              "      <td>0.959227</td>\n",
              "      <td>0.842352</td>\n",
              "      <td>0.520732</td>\n",
              "      <td>0.947809</td>\n",
              "      <td>0.947788</td>\n",
              "      <td>-0.004911</td>\n",
              "    </tr>\n",
              "    <tr>\n",
              "      <th>Ps30</th>\n",
              "      <td>0.043362</td>\n",
              "      <td>-0.757426</td>\n",
              "      <td>-0.774244</td>\n",
              "      <td>0.754369</td>\n",
              "      <td>0.820482</td>\n",
              "      <td>0.932675</td>\n",
              "      <td>0.973479</td>\n",
              "      <td>0.957909</td>\n",
              "      <td>0.803080</td>\n",
              "      <td>0.837789</td>\n",
              "      <td>0.878567</td>\n",
              "      <td>0.973188</td>\n",
              "      <td>0.975422</td>\n",
              "      <td>0.931965</td>\n",
              "      <td>1.000000</td>\n",
              "      <td>0.879072</td>\n",
              "      <td>0.754391</td>\n",
              "      <td>0.899750</td>\n",
              "      <td>-0.969625</td>\n",
              "      <td>0.827861</td>\n",
              "      <td>0.972795</td>\n",
              "      <td>0.973032</td>\n",
              "      <td>0.754369</td>\n",
              "      <td>0.866667</td>\n",
              "      <td>0.866641</td>\n",
              "      <td>-0.049641</td>\n",
              "    </tr>\n",
              "    <tr>\n",
              "      <th>phi</th>\n",
              "      <td>0.013595</td>\n",
              "      <td>-0.971526</td>\n",
              "      <td>-0.958404</td>\n",
              "      <td>0.366734</td>\n",
              "      <td>0.985205</td>\n",
              "      <td>0.982442</td>\n",
              "      <td>0.958803</td>\n",
              "      <td>0.975534</td>\n",
              "      <td>0.989408</td>\n",
              "      <td>0.996411</td>\n",
              "      <td>0.999995</td>\n",
              "      <td>0.772068</td>\n",
              "      <td>0.955481</td>\n",
              "      <td>0.953183</td>\n",
              "      <td>0.879072</td>\n",
              "      <td>1.000000</td>\n",
              "      <td>0.366703</td>\n",
              "      <td>0.626968</td>\n",
              "      <td>-0.786598</td>\n",
              "      <td>0.911624</td>\n",
              "      <td>0.960121</td>\n",
              "      <td>0.771684</td>\n",
              "      <td>0.366734</td>\n",
              "      <td>0.999479</td>\n",
              "      <td>0.999479</td>\n",
              "      <td>-0.000496</td>\n",
              "    </tr>\n",
              "    <tr>\n",
              "      <th>NRf</th>\n",
              "      <td>0.001481</td>\n",
              "      <td>-0.163065</td>\n",
              "      <td>-0.197861</td>\n",
              "      <td>0.999998</td>\n",
              "      <td>0.264958</td>\n",
              "      <td>0.493222</td>\n",
              "      <td>0.601383</td>\n",
              "      <td>0.539443</td>\n",
              "      <td>0.230709</td>\n",
              "      <td>0.289997</td>\n",
              "      <td>0.365772</td>\n",
              "      <td>0.870583</td>\n",
              "      <td>0.612060</td>\n",
              "      <td>0.520714</td>\n",
              "      <td>0.754391</td>\n",
              "      <td>0.366703</td>\n",
              "      <td>1.000000</td>\n",
              "      <td>0.904572</td>\n",
              "      <td>-0.843657</td>\n",
              "      <td>0.359070</td>\n",
              "      <td>0.598094</td>\n",
              "      <td>0.870873</td>\n",
              "      <td>0.999998</td>\n",
              "      <td>0.344837</td>\n",
              "      <td>0.344784</td>\n",
              "      <td>-0.002678</td>\n",
              "    </tr>\n",
              "    <tr>\n",
              "      <th>NRc</th>\n",
              "      <td>0.098462</td>\n",
              "      <td>-0.459088</td>\n",
              "      <td>-0.527713</td>\n",
              "      <td>0.904365</td>\n",
              "      <td>0.523178</td>\n",
              "      <td>0.702645</td>\n",
              "      <td>0.792588</td>\n",
              "      <td>0.764897</td>\n",
              "      <td>0.511161</td>\n",
              "      <td>0.560980</td>\n",
              "      <td>0.626133</td>\n",
              "      <td>0.931727</td>\n",
              "      <td>0.807054</td>\n",
              "      <td>0.777208</td>\n",
              "      <td>0.899750</td>\n",
              "      <td>0.626968</td>\n",
              "      <td>0.904572</td>\n",
              "      <td>1.000000</td>\n",
              "      <td>-0.956112</td>\n",
              "      <td>0.649175</td>\n",
              "      <td>0.790664</td>\n",
              "      <td>0.931666</td>\n",
              "      <td>0.904365</td>\n",
              "      <td>0.607376</td>\n",
              "      <td>0.607330</td>\n",
              "      <td>-0.076858</td>\n",
              "    </tr>\n",
              "    <tr>\n",
              "      <th>BPR</th>\n",
              "      <td>-0.017034</td>\n",
              "      <td>0.642981</td>\n",
              "      <td>0.686817</td>\n",
              "      <td>-0.843670</td>\n",
              "      <td>-0.698151</td>\n",
              "      <td>-0.844254</td>\n",
              "      <td>-0.907534</td>\n",
              "      <td>-0.886103</td>\n",
              "      <td>-0.689424</td>\n",
              "      <td>-0.732014</td>\n",
              "      <td>-0.785956</td>\n",
              "      <td>-0.976317</td>\n",
              "      <td>-0.914808</td>\n",
              "      <td>-0.892090</td>\n",
              "      <td>-0.969625</td>\n",
              "      <td>-0.786598</td>\n",
              "      <td>-0.843657</td>\n",
              "      <td>-0.956112</td>\n",
              "      <td>1.000000</td>\n",
              "      <td>-0.770999</td>\n",
              "      <td>-0.906223</td>\n",
              "      <td>-0.976298</td>\n",
              "      <td>-0.843670</td>\n",
              "      <td>-0.771654</td>\n",
              "      <td>-0.771614</td>\n",
              "      <td>-0.013438</td>\n",
              "    </tr>\n",
              "    <tr>\n",
              "      <th>farB</th>\n",
              "      <td>0.043034</td>\n",
              "      <td>-0.901542</td>\n",
              "      <td>-0.932897</td>\n",
              "      <td>0.359027</td>\n",
              "      <td>0.873423</td>\n",
              "      <td>0.879724</td>\n",
              "      <td>0.878761</td>\n",
              "      <td>0.912335</td>\n",
              "      <td>0.892455</td>\n",
              "      <td>0.901583</td>\n",
              "      <td>0.911508</td>\n",
              "      <td>0.709684</td>\n",
              "      <td>0.876022</td>\n",
              "      <td>0.949057</td>\n",
              "      <td>0.827861</td>\n",
              "      <td>0.911624</td>\n",
              "      <td>0.359070</td>\n",
              "      <td>0.649175</td>\n",
              "      <td>-0.770999</td>\n",
              "      <td>1.000000</td>\n",
              "      <td>0.879732</td>\n",
              "      <td>0.709359</td>\n",
              "      <td>0.359027</td>\n",
              "      <td>0.910465</td>\n",
              "      <td>0.910448</td>\n",
              "      <td>-0.054322</td>\n",
              "    </tr>\n",
              "    <tr>\n",
              "      <th>htBleed</th>\n",
              "      <td>0.029852</td>\n",
              "      <td>-0.879403</td>\n",
              "      <td>-0.869323</td>\n",
              "      <td>0.598086</td>\n",
              "      <td>0.928151</td>\n",
              "      <td>0.989728</td>\n",
              "      <td>0.998944</td>\n",
              "      <td>0.993885</td>\n",
              "      <td>0.913622</td>\n",
              "      <td>0.936218</td>\n",
              "      <td>0.959859</td>\n",
              "      <td>0.913329</td>\n",
              "      <td>0.998370</td>\n",
              "      <td>0.959227</td>\n",
              "      <td>0.972795</td>\n",
              "      <td>0.960121</td>\n",
              "      <td>0.598094</td>\n",
              "      <td>0.790664</td>\n",
              "      <td>-0.906223</td>\n",
              "      <td>0.879732</td>\n",
              "      <td>1.000000</td>\n",
              "      <td>0.913063</td>\n",
              "      <td>0.598086</td>\n",
              "      <td>0.953470</td>\n",
              "      <td>0.953453</td>\n",
              "      <td>-0.027725</td>\n",
              "    </tr>\n",
              "    <tr>\n",
              "      <th>Nf_dmd</th>\n",
              "      <td>0.005334</td>\n",
              "      <td>-0.619531</td>\n",
              "      <td>-0.623632</td>\n",
              "      <td>0.870889</td>\n",
              "      <td>0.704665</td>\n",
              "      <td>0.857009</td>\n",
              "      <td>0.914698</td>\n",
              "      <td>0.877577</td>\n",
              "      <td>0.675427</td>\n",
              "      <td>0.718983</td>\n",
              "      <td>0.771074</td>\n",
              "      <td>0.999999</td>\n",
              "      <td>0.919918</td>\n",
              "      <td>0.842352</td>\n",
              "      <td>0.973032</td>\n",
              "      <td>0.771684</td>\n",
              "      <td>0.870873</td>\n",
              "      <td>0.931666</td>\n",
              "      <td>-0.976298</td>\n",
              "      <td>0.709359</td>\n",
              "      <td>0.913063</td>\n",
              "      <td>1.000000</td>\n",
              "      <td>0.870889</td>\n",
              "      <td>0.757026</td>\n",
              "      <td>0.756991</td>\n",
              "      <td>-0.000996</td>\n",
              "    </tr>\n",
              "    <tr>\n",
              "      <th>PCNfR_dmd</th>\n",
              "      <td>0.000687</td>\n",
              "      <td>-0.163079</td>\n",
              "      <td>-0.197923</td>\n",
              "      <td>1.000000</td>\n",
              "      <td>0.264989</td>\n",
              "      <td>0.493244</td>\n",
              "      <td>0.601374</td>\n",
              "      <td>0.539436</td>\n",
              "      <td>0.230742</td>\n",
              "      <td>0.290031</td>\n",
              "      <td>0.365802</td>\n",
              "      <td>0.870596</td>\n",
              "      <td>0.612030</td>\n",
              "      <td>0.520732</td>\n",
              "      <td>0.754369</td>\n",
              "      <td>0.366734</td>\n",
              "      <td>0.999998</td>\n",
              "      <td>0.904365</td>\n",
              "      <td>-0.843670</td>\n",
              "      <td>0.359027</td>\n",
              "      <td>0.598086</td>\n",
              "      <td>0.870889</td>\n",
              "      <td>1.000000</td>\n",
              "      <td>0.344868</td>\n",
              "      <td>0.344814</td>\n",
              "      <td>-0.001989</td>\n",
              "    </tr>\n",
              "    <tr>\n",
              "      <th>W31</th>\n",
              "      <td>0.010540</td>\n",
              "      <td>-0.977664</td>\n",
              "      <td>-0.959658</td>\n",
              "      <td>0.344868</td>\n",
              "      <td>0.987856</td>\n",
              "      <td>0.979178</td>\n",
              "      <td>0.952101</td>\n",
              "      <td>0.969753</td>\n",
              "      <td>0.992562</td>\n",
              "      <td>0.998033</td>\n",
              "      <td>0.999511</td>\n",
              "      <td>0.757415</td>\n",
              "      <td>0.948457</td>\n",
              "      <td>0.947809</td>\n",
              "      <td>0.866667</td>\n",
              "      <td>0.999479</td>\n",
              "      <td>0.344837</td>\n",
              "      <td>0.607376</td>\n",
              "      <td>-0.771654</td>\n",
              "      <td>0.910465</td>\n",
              "      <td>0.953470</td>\n",
              "      <td>0.757026</td>\n",
              "      <td>0.344868</td>\n",
              "      <td>1.000000</td>\n",
              "      <td>0.999927</td>\n",
              "      <td>0.003774</td>\n",
              "    </tr>\n",
              "    <tr>\n",
              "      <th>W32</th>\n",
              "      <td>0.010593</td>\n",
              "      <td>-0.977674</td>\n",
              "      <td>-0.959656</td>\n",
              "      <td>0.344814</td>\n",
              "      <td>0.987864</td>\n",
              "      <td>0.979172</td>\n",
              "      <td>0.952087</td>\n",
              "      <td>0.969742</td>\n",
              "      <td>0.992570</td>\n",
              "      <td>0.998038</td>\n",
              "      <td>0.999511</td>\n",
              "      <td>0.757380</td>\n",
              "      <td>0.948441</td>\n",
              "      <td>0.947788</td>\n",
              "      <td>0.866641</td>\n",
              "      <td>0.999479</td>\n",
              "      <td>0.344784</td>\n",
              "      <td>0.607330</td>\n",
              "      <td>-0.771614</td>\n",
              "      <td>0.910448</td>\n",
              "      <td>0.953453</td>\n",
              "      <td>0.756991</td>\n",
              "      <td>0.344814</td>\n",
              "      <td>0.999927</td>\n",
              "      <td>1.000000</td>\n",
              "      <td>0.003724</td>\n",
              "    </tr>\n",
              "    <tr>\n",
              "      <th>label_target</th>\n",
              "      <td>-0.389763</td>\n",
              "      <td>-0.000958</td>\n",
              "      <td>-0.000594</td>\n",
              "      <td>-0.001989</td>\n",
              "      <td>0.000917</td>\n",
              "      <td>-0.005379</td>\n",
              "      <td>-0.027544</td>\n",
              "      <td>-0.038353</td>\n",
              "      <td>0.000904</td>\n",
              "      <td>0.000591</td>\n",
              "      <td>-0.000295</td>\n",
              "      <td>-0.001512</td>\n",
              "      <td>-0.022191</td>\n",
              "      <td>-0.004911</td>\n",
              "      <td>-0.049641</td>\n",
              "      <td>-0.000496</td>\n",
              "      <td>-0.002678</td>\n",
              "      <td>-0.076858</td>\n",
              "      <td>-0.013438</td>\n",
              "      <td>-0.054322</td>\n",
              "      <td>-0.027725</td>\n",
              "      <td>-0.000996</td>\n",
              "      <td>-0.001989</td>\n",
              "      <td>0.003774</td>\n",
              "      <td>0.003724</td>\n",
              "      <td>1.000000</td>\n",
              "    </tr>\n",
              "  </tbody>\n",
              "</table>\n",
              "</div>"
            ],
            "text/plain": [
              "                time_in_cycles   Altitud  ...       W32  label_target\n",
              "time_in_cycles        1.000000 -0.009588  ...  0.010593     -0.389763\n",
              "Altitud              -0.009588  1.000000  ... -0.977674     -0.000958\n",
              "Mach Number          -0.009960  0.967487  ... -0.959656     -0.000594\n",
              "TRA                   0.000687 -0.163079  ...  0.344814     -0.001989\n",
              "T2                    0.009526 -0.979797  ...  0.987864      0.000917\n",
              "T24                   0.012651 -0.925472  ...  0.979172     -0.005379\n",
              "T30                   0.029766 -0.877521  ...  0.952087     -0.027544\n",
              "T50                   0.036380 -0.909480  ...  0.969742     -0.038353\n",
              "P2                    0.010034 -0.991539  ...  0.992570      0.000904\n",
              "P15                   0.009417 -0.985378  ...  0.998038      0.000591\n",
              "P30                   0.013459 -0.971758  ...  0.999511     -0.000295\n",
              "Nf                    0.005933 -0.619974  ...  0.757380     -0.001512\n",
              "Nc                    0.033241 -0.871095  ...  0.948441     -0.022191\n",
              "epr                   0.017375 -0.899679  ...  0.947788     -0.004911\n",
              "Ps30                  0.043362 -0.757426  ...  0.866641     -0.049641\n",
              "phi                   0.013595 -0.971526  ...  0.999479     -0.000496\n",
              "NRf                   0.001481 -0.163065  ...  0.344784     -0.002678\n",
              "NRc                   0.098462 -0.459088  ...  0.607330     -0.076858\n",
              "BPR                  -0.017034  0.642981  ... -0.771614     -0.013438\n",
              "farB                  0.043034 -0.901542  ...  0.910448     -0.054322\n",
              "htBleed               0.029852 -0.879403  ...  0.953453     -0.027725\n",
              "Nf_dmd                0.005334 -0.619531  ...  0.756991     -0.000996\n",
              "PCNfR_dmd             0.000687 -0.163079  ...  0.344814     -0.001989\n",
              "W31                   0.010540 -0.977664  ...  0.999927      0.003774\n",
              "W32                   0.010593 -0.977674  ...  1.000000      0.003724\n",
              "label_target         -0.389763 -0.000958  ...  0.003724      1.000000\n",
              "\n",
              "[26 rows x 26 columns]"
            ]
          },
          "metadata": {
            "tags": []
          },
          "execution_count": 171
        }
      ]
    },
    {
      "cell_type": "code",
      "metadata": {
        "colab": {
          "base_uri": "https://localhost:8080/",
          "height": 349
        },
        "id": "pFm-U5jeNuFH",
        "outputId": "1a4adc7b-57c7-424e-ff47-b8afaaae745a"
      },
      "source": [
        "#visualizing correlation matrix with a correlation heat map\n",
        "# Generate correlation matrix heat map\n",
        "matrix = np.triu(nasa.corr())\n",
        "sns.heatmap(nasa.corr(), annot=True, fmt='.1f', vmin=-1, vmax=1, center= 0, cmap= 'coolwarm', mask=matrix)"
      ],
      "execution_count": null,
      "outputs": [
        {
          "output_type": "execute_result",
          "data": {
            "text/plain": [
              "<matplotlib.axes._subplots.AxesSubplot at 0x7f9206c37898>"
            ]
          },
          "metadata": {
            "tags": []
          },
          "execution_count": 172
        },
        {
          "output_type": "display_data",
          "data": {
            "image/png": "[encoded data removed]",
            "text/plain": [
              "<Figure size 432x288 with 2 Axes>"
            ]
          },
          "metadata": {
            "tags": [],
            "needs_background": "light"
          }
        }
      ]
    },
    {
      "cell_type": "code",
      "metadata": {
        "id": "phMzZ7ahiKs7"
      },
      "source": [
        "#create a copy of the dataframe for further exploration\n",
        "nasa_corr2=nasa.copy()"
      ],
      "execution_count": null,
      "outputs": []
    },
    {
      "cell_type": "code",
      "metadata": {
        "colab": {
          "base_uri": "https://localhost:8080/",
          "height": 204
        },
        "id": "m-kBx93qac7L",
        "outputId": "cb16b039-7676-4bcb-c6f1-1c6b6fec7935"
      },
      "source": [
        "#Recall : key features with uniqueness: TRA,farB and label target (2 unique features)\n",
        "#Also T2,P2,Nf_dmd (6 unique features)\n",
        "# Correlating over key features with 2 unique outcomes:\n",
        "\n",
        "# Drop all non key features\n",
        "non_key = ['time_in_cycles', 'Altitud', 'Mach Number', 'T2', 'T24', 'T30',\n",
        "       'T50', 'P2', 'P15', 'P30', 'Nf', 'Nc', 'epr', 'Ps30', 'phi', 'NRf',\n",
        "       'NRc', 'BPR',  'htBleed', 'Nf_dmd', 'PCNfR_dmd', 'W31', 'W32'\n",
        "       ]\n",
        "nasa_corr2.drop(non_key, axis = 1, inplace = True)\n",
        "nasa_corr2.head()\n",
        "\n",
        "\n",
        "\n",
        "\n"
      ],
      "execution_count": null,
      "outputs": [
        {
          "output_type": "execute_result",
          "data": {
            "text/html": [
              "<div>\n",
              "<style scoped>\n",
              "    .dataframe tbody tr th:only-of-type {\n",
              "        vertical-align: middle;\n",
              "    }\n",
              "\n",
              "    .dataframe tbody tr th {\n",
              "        vertical-align: top;\n",
              "    }\n",
              "\n",
              "    .dataframe thead th {\n",
              "        text-align: right;\n",
              "    }\n",
              "</style>\n",
              "<table border=\"1\" class=\"dataframe\">\n",
              "  <thead>\n",
              "    <tr style=\"text-align: right;\">\n",
              "      <th></th>\n",
              "      <th>TRA</th>\n",
              "      <th>farB</th>\n",
              "      <th>label_target</th>\n",
              "    </tr>\n",
              "  </thead>\n",
              "  <tbody>\n",
              "    <tr>\n",
              "      <th>0</th>\n",
              "      <td>100.0</td>\n",
              "      <td>0.03</td>\n",
              "      <td>1</td>\n",
              "    </tr>\n",
              "    <tr>\n",
              "      <th>1</th>\n",
              "      <td>100.0</td>\n",
              "      <td>0.03</td>\n",
              "      <td>1</td>\n",
              "    </tr>\n",
              "    <tr>\n",
              "      <th>2</th>\n",
              "      <td>100.0</td>\n",
              "      <td>0.03</td>\n",
              "      <td>1</td>\n",
              "    </tr>\n",
              "    <tr>\n",
              "      <th>3</th>\n",
              "      <td>100.0</td>\n",
              "      <td>0.03</td>\n",
              "      <td>1</td>\n",
              "    </tr>\n",
              "    <tr>\n",
              "      <th>4</th>\n",
              "      <td>100.0</td>\n",
              "      <td>0.03</td>\n",
              "      <td>1</td>\n",
              "    </tr>\n",
              "  </tbody>\n",
              "</table>\n",
              "</div>"
            ],
            "text/plain": [
              "     TRA  farB  label_target\n",
              "0  100.0  0.03             1\n",
              "1  100.0  0.03             1\n",
              "2  100.0  0.03             1\n",
              "3  100.0  0.03             1\n",
              "4  100.0  0.03             1"
            ]
          },
          "metadata": {
            "tags": []
          },
          "execution_count": 174
        }
      ]
    },
    {
      "cell_type": "code",
      "metadata": {
        "colab": {
          "base_uri": "https://localhost:8080/",
          "height": 289
        },
        "id": "ea8fmdoKd6Z9",
        "outputId": "058a7c5e-3427-4d64-a5b9-85220675c192"
      },
      "source": [
        "#visualizing correlation matrix with a correlation heat map\n",
        "# Generate correlation matrix heat map\n",
        "matrix = np.triu(nasa_corr2.corr())\n",
        "sns.heatmap(nasa_corr2.corr(), annot=True, fmt='.1f', vmin=-1, vmax=1, center= 0, cmap= 'coolwarm', mask=matrix)"
      ],
      "execution_count": null,
      "outputs": [
        {
          "output_type": "execute_result",
          "data": {
            "text/plain": [
              "<matplotlib.axes._subplots.AxesSubplot at 0x7f9206d16a90>"
            ]
          },
          "metadata": {
            "tags": []
          },
          "execution_count": 175
        },
        {
          "output_type": "display_data",
          "data": {
            "image/png": "[encoded data removed]",
            "text/plain": [
              "<Figure size 432x288 with 2 Axes>"
            ]
          },
          "metadata": {
            "tags": [],
            "needs_background": "light"
          }
        }
      ]
    },
    {
      "cell_type": "code",
      "metadata": {
        "id": "aqIcE9hWiiIv"
      },
      "source": [
        "#Slight correlation between features observed."
      ],
      "execution_count": null,
      "outputs": []
    },
    {
      "cell_type": "code",
      "metadata": {
        "colab": {
          "base_uri": "https://localhost:8080/",
          "height": 142
        },
        "id": "tWgJvjPtl-ZR",
        "outputId": "0cacbce4-b512-40b0-e9b8-0f106a76a37d"
      },
      "source": [
        "# Check label target outcome by TRA & farB\n",
        "nasa_corr2.groupby('TRA').count()"
      ],
      "execution_count": null,
      "outputs": [
        {
          "output_type": "execute_result",
          "data": {
            "text/html": [
              "<div>\n",
              "<style scoped>\n",
              "    .dataframe tbody tr th:only-of-type {\n",
              "        vertical-align: middle;\n",
              "    }\n",
              "\n",
              "    .dataframe tbody tr th {\n",
              "        vertical-align: top;\n",
              "    }\n",
              "\n",
              "    .dataframe thead th {\n",
              "        text-align: right;\n",
              "    }\n",
              "</style>\n",
              "<table border=\"1\" class=\"dataframe\">\n",
              "  <thead>\n",
              "    <tr style=\"text-align: right;\">\n",
              "      <th></th>\n",
              "      <th>farB</th>\n",
              "      <th>label_target</th>\n",
              "    </tr>\n",
              "    <tr>\n",
              "      <th>TRA</th>\n",
              "      <th></th>\n",
              "      <th></th>\n",
              "    </tr>\n",
              "  </thead>\n",
              "  <tbody>\n",
              "    <tr>\n",
              "      <th>60.0</th>\n",
              "      <td>17141</td>\n",
              "      <td>17141</td>\n",
              "    </tr>\n",
              "    <tr>\n",
              "      <th>100.0</th>\n",
              "      <td>143218</td>\n",
              "      <td>143218</td>\n",
              "    </tr>\n",
              "  </tbody>\n",
              "</table>\n",
              "</div>"
            ],
            "text/plain": [
              "         farB  label_target\n",
              "TRA                        \n",
              "60.0    17141         17141\n",
              "100.0  143218        143218"
            ]
          },
          "metadata": {
            "tags": []
          },
          "execution_count": 178
        }
      ]
    },
    {
      "cell_type": "code",
      "metadata": {
        "colab": {
          "base_uri": "https://localhost:8080/",
          "height": 142
        },
        "id": "RTu0F6mPmRyO",
        "outputId": "2d103a11-ba81-4268-cd5b-3489e7ce72f3"
      },
      "source": [
        "# Check label target outcome by TRA & farB\n",
        "nasa_corr2.groupby('farB').count()"
      ],
      "execution_count": null,
      "outputs": [
        {
          "output_type": "execute_result",
          "data": {
            "text/html": [
              "<div>\n",
              "<style scoped>\n",
              "    .dataframe tbody tr th:only-of-type {\n",
              "        vertical-align: middle;\n",
              "    }\n",
              "\n",
              "    .dataframe tbody tr th {\n",
              "        vertical-align: top;\n",
              "    }\n",
              "\n",
              "    .dataframe thead th {\n",
              "        text-align: right;\n",
              "    }\n",
              "</style>\n",
              "<table border=\"1\" class=\"dataframe\">\n",
              "  <thead>\n",
              "    <tr style=\"text-align: right;\">\n",
              "      <th></th>\n",
              "      <th>TRA</th>\n",
              "      <th>label_target</th>\n",
              "    </tr>\n",
              "    <tr>\n",
              "      <th>farB</th>\n",
              "      <th></th>\n",
              "      <th></th>\n",
              "    </tr>\n",
              "  </thead>\n",
              "  <tbody>\n",
              "    <tr>\n",
              "      <th>0.02</th>\n",
              "      <td>77207</td>\n",
              "      <td>77207</td>\n",
              "    </tr>\n",
              "    <tr>\n",
              "      <th>0.03</th>\n",
              "      <td>83152</td>\n",
              "      <td>83152</td>\n",
              "    </tr>\n",
              "  </tbody>\n",
              "</table>\n",
              "</div>"
            ],
            "text/plain": [
              "        TRA  label_target\n",
              "farB                     \n",
              "0.02  77207         77207\n",
              "0.03  83152         83152"
            ]
          },
          "metadata": {
            "tags": []
          },
          "execution_count": 179
        }
      ]
    },
    {
      "cell_type": "code",
      "metadata": {
        "colab": {
          "base_uri": "https://localhost:8080/",
          "height": 204
        },
        "id": "go1rdLEtId2c",
        "outputId": "d432b0fc-816f-4694-8d7b-2531be65239f"
      },
      "source": [
        "# Look at label_target rate by farB and TRA\n",
        "nasa.pivot_table('label_target', index=['farB', 'TRA'], aggfunc=['count', 'mean'])"
      ],
      "execution_count": null,
      "outputs": [
        {
          "output_type": "execute_result",
          "data": {
            "text/html": [
              "<div>\n",
              "<style scoped>\n",
              "    .dataframe tbody tr th:only-of-type {\n",
              "        vertical-align: middle;\n",
              "    }\n",
              "\n",
              "    .dataframe tbody tr th {\n",
              "        vertical-align: top;\n",
              "    }\n",
              "\n",
              "    .dataframe thead tr th {\n",
              "        text-align: left;\n",
              "    }\n",
              "\n",
              "    .dataframe thead tr:last-of-type th {\n",
              "        text-align: right;\n",
              "    }\n",
              "</style>\n",
              "<table border=\"1\" class=\"dataframe\">\n",
              "  <thead>\n",
              "    <tr>\n",
              "      <th></th>\n",
              "      <th></th>\n",
              "      <th>count</th>\n",
              "      <th>mean</th>\n",
              "    </tr>\n",
              "    <tr>\n",
              "      <th></th>\n",
              "      <th></th>\n",
              "      <th>label_target</th>\n",
              "      <th>label_target</th>\n",
              "    </tr>\n",
              "    <tr>\n",
              "      <th>farB</th>\n",
              "      <th>TRA</th>\n",
              "      <th></th>\n",
              "      <th></th>\n",
              "    </tr>\n",
              "  </thead>\n",
              "  <tbody>\n",
              "    <tr>\n",
              "      <th rowspan=\"2\" valign=\"top\">0.02</th>\n",
              "      <th>60.0</th>\n",
              "      <td>17141</td>\n",
              "      <td>0.886879</td>\n",
              "    </tr>\n",
              "    <tr>\n",
              "      <th>100.0</th>\n",
              "      <td>60066</td>\n",
              "      <td>0.907635</td>\n",
              "    </tr>\n",
              "    <tr>\n",
              "      <th>0.03</th>\n",
              "      <th>100.0</th>\n",
              "      <td>83152</td>\n",
              "      <td>0.868350</td>\n",
              "    </tr>\n",
              "  </tbody>\n",
              "</table>\n",
              "</div>"
            ],
            "text/plain": [
              "                  count         mean\n",
              "           label_target label_target\n",
              "farB TRA                            \n",
              "0.02 60.0         17141     0.886879\n",
              "     100.0        60066     0.907635\n",
              "0.03 100.0        83152     0.868350"
            ]
          },
          "metadata": {
            "tags": []
          },
          "execution_count": 180
        }
      ]
    },
    {
      "cell_type": "code",
      "metadata": {
        "id": "k5xo2FgWimxC"
      },
      "source": [
        "#create a copy of the dataframe for further exploration\n",
        "nasa_corr6=nasa.copy()\n"
      ],
      "execution_count": null,
      "outputs": []
    },
    {
      "cell_type": "markdown",
      "metadata": {
        "id": "dy7XahwokUZH"
      },
      "source": [
        "Drop non key features "
      ]
    },
    {
      "cell_type": "code",
      "metadata": {
        "colab": {
          "base_uri": "https://localhost:8080/",
          "height": 204
        },
        "id": "NJv4p7S_kOlC",
        "outputId": "88cc1bf2-ce30-4983-d99c-887e99625046"
      },
      "source": [
        "#Recall : key features with uniqueness: TRA,farB and label target (2 unique features)\n",
        "#Also T2,P2,Nf_dmd (6 unique features)\n",
        "# Correlating over key features with 6 unique outcomes:\n",
        "\n",
        "# Drop all non key features\n",
        "non_key = ['time_in_cycles', 'Altitud', 'Mach Number',  'T24', 'T30',\n",
        "       'T50',  'P15', 'P30', 'Nf', 'Nc', 'epr', 'Ps30', 'phi', 'NRf',\n",
        "       'NRc', 'BPR',  'htBleed',  'PCNfR_dmd', 'W31', 'W32'\n",
        "       ]\n",
        "nasa_corr6.drop(non_key, axis = 1, inplace = True)\n",
        "nasa_corr6.head()"
      ],
      "execution_count": null,
      "outputs": [
        {
          "output_type": "execute_result",
          "data": {
            "text/html": [
              "<div>\n",
              "<style scoped>\n",
              "    .dataframe tbody tr th:only-of-type {\n",
              "        vertical-align: middle;\n",
              "    }\n",
              "\n",
              "    .dataframe tbody tr th {\n",
              "        vertical-align: top;\n",
              "    }\n",
              "\n",
              "    .dataframe thead th {\n",
              "        text-align: right;\n",
              "    }\n",
              "</style>\n",
              "<table border=\"1\" class=\"dataframe\">\n",
              "  <thead>\n",
              "    <tr style=\"text-align: right;\">\n",
              "      <th></th>\n",
              "      <th>TRA</th>\n",
              "      <th>T2</th>\n",
              "      <th>P2</th>\n",
              "      <th>farB</th>\n",
              "      <th>Nf_dmd</th>\n",
              "      <th>label_target</th>\n",
              "    </tr>\n",
              "  </thead>\n",
              "  <tbody>\n",
              "    <tr>\n",
              "      <th>0</th>\n",
              "      <td>100.0</td>\n",
              "      <td>518.67</td>\n",
              "      <td>14.62</td>\n",
              "      <td>0.03</td>\n",
              "      <td>2388</td>\n",
              "      <td>1</td>\n",
              "    </tr>\n",
              "    <tr>\n",
              "      <th>1</th>\n",
              "      <td>100.0</td>\n",
              "      <td>518.67</td>\n",
              "      <td>14.62</td>\n",
              "      <td>0.03</td>\n",
              "      <td>2388</td>\n",
              "      <td>1</td>\n",
              "    </tr>\n",
              "    <tr>\n",
              "      <th>2</th>\n",
              "      <td>100.0</td>\n",
              "      <td>518.67</td>\n",
              "      <td>14.62</td>\n",
              "      <td>0.03</td>\n",
              "      <td>2388</td>\n",
              "      <td>1</td>\n",
              "    </tr>\n",
              "    <tr>\n",
              "      <th>3</th>\n",
              "      <td>100.0</td>\n",
              "      <td>518.67</td>\n",
              "      <td>14.62</td>\n",
              "      <td>0.03</td>\n",
              "      <td>2388</td>\n",
              "      <td>1</td>\n",
              "    </tr>\n",
              "    <tr>\n",
              "      <th>4</th>\n",
              "      <td>100.0</td>\n",
              "      <td>518.67</td>\n",
              "      <td>14.62</td>\n",
              "      <td>0.03</td>\n",
              "      <td>2388</td>\n",
              "      <td>1</td>\n",
              "    </tr>\n",
              "  </tbody>\n",
              "</table>\n",
              "</div>"
            ],
            "text/plain": [
              "     TRA      T2     P2  farB  Nf_dmd  label_target\n",
              "0  100.0  518.67  14.62  0.03    2388             1\n",
              "1  100.0  518.67  14.62  0.03    2388             1\n",
              "2  100.0  518.67  14.62  0.03    2388             1\n",
              "3  100.0  518.67  14.62  0.03    2388             1\n",
              "4  100.0  518.67  14.62  0.03    2388             1"
            ]
          },
          "metadata": {
            "tags": []
          },
          "execution_count": 182
        }
      ]
    },
    {
      "cell_type": "code",
      "metadata": {
        "colab": {
          "base_uri": "https://localhost:8080/",
          "height": 336
        },
        "id": "xIeV1zBAixBq",
        "outputId": "88c86231-33c3-4004-d911-09cea7908920"
      },
      "source": [
        "#visualizing correlation matrix with a correlation heat map\n",
        "# Generate correlation matrix heat map\n",
        "matrix = np.triu(nasa_corr6.corr())\n",
        "sns.heatmap(nasa_corr6.corr(), annot=True, fmt='.1f', vmin=-1, vmax=1, center= 0, cmap= 'coolwarm', mask=matrix)"
      ],
      "execution_count": null,
      "outputs": [
        {
          "output_type": "execute_result",
          "data": {
            "text/plain": [
              "<matplotlib.axes._subplots.AxesSubplot at 0x7f92051273c8>"
            ]
          },
          "metadata": {
            "tags": []
          },
          "execution_count": 183
        },
        {
          "output_type": "display_data",
          "data": {
            "image/png": "[encoded data removed]",
            "text/plain": [
              "<Figure size 432x288 with 2 Axes>"
            ]
          },
          "metadata": {
            "tags": [],
            "needs_background": "light"
          }
        }
      ]
    },
    {
      "cell_type": "code",
      "metadata": {
        "id": "39ffdFe9kmL8"
      },
      "source": [
        "# Strong Correlation observed between T2 & P2"
      ],
      "execution_count": null,
      "outputs": []
    },
    {
      "cell_type": "code",
      "metadata": {
        "colab": {
          "base_uri": "https://localhost:8080/",
          "height": 297
        },
        "id": "mvr-6DsloI5c",
        "outputId": "f59c5b8b-0e79-4bc0-b6c4-ba133d2d0315"
      },
      "source": [
        "# Look at label_target rate by T2 and P2\n",
        "nasa.pivot_table('label_target', index=['T2', 'P2'], aggfunc=['count', 'mean'])"
      ],
      "execution_count": null,
      "outputs": [
        {
          "output_type": "execute_result",
          "data": {
            "text/html": [
              "<div>\n",
              "<style scoped>\n",
              "    .dataframe tbody tr th:only-of-type {\n",
              "        vertical-align: middle;\n",
              "    }\n",
              "\n",
              "    .dataframe tbody tr th {\n",
              "        vertical-align: top;\n",
              "    }\n",
              "\n",
              "    .dataframe thead tr th {\n",
              "        text-align: left;\n",
              "    }\n",
              "\n",
              "    .dataframe thead tr:last-of-type th {\n",
              "        text-align: right;\n",
              "    }\n",
              "</style>\n",
              "<table border=\"1\" class=\"dataframe\">\n",
              "  <thead>\n",
              "    <tr>\n",
              "      <th></th>\n",
              "      <th></th>\n",
              "      <th>count</th>\n",
              "      <th>mean</th>\n",
              "    </tr>\n",
              "    <tr>\n",
              "      <th></th>\n",
              "      <th></th>\n",
              "      <th>label_target</th>\n",
              "      <th>label_target</th>\n",
              "    </tr>\n",
              "    <tr>\n",
              "      <th>T2</th>\n",
              "      <th>P2</th>\n",
              "      <th></th>\n",
              "      <th></th>\n",
              "    </tr>\n",
              "  </thead>\n",
              "  <tbody>\n",
              "    <tr>\n",
              "      <th>445.00</th>\n",
              "      <th>3.91</th>\n",
              "      <td>28853</td>\n",
              "      <td>0.883998</td>\n",
              "    </tr>\n",
              "    <tr>\n",
              "      <th>449.44</th>\n",
              "      <th>5.48</th>\n",
              "      <td>17199</td>\n",
              "      <td>0.884412</td>\n",
              "    </tr>\n",
              "    <tr>\n",
              "      <th>462.54</th>\n",
              "      <th>7.05</th>\n",
              "      <td>17141</td>\n",
              "      <td>0.886879</td>\n",
              "    </tr>\n",
              "    <tr>\n",
              "      <th>489.05</th>\n",
              "      <th>10.52</th>\n",
              "      <td>17320</td>\n",
              "      <td>0.884007</td>\n",
              "    </tr>\n",
              "    <tr>\n",
              "      <th>491.19</th>\n",
              "      <th>9.35</th>\n",
              "      <td>17213</td>\n",
              "      <td>0.885726</td>\n",
              "    </tr>\n",
              "    <tr>\n",
              "      <th>518.67</th>\n",
              "      <th>14.62</th>\n",
              "      <td>62633</td>\n",
              "      <td>0.885300</td>\n",
              "    </tr>\n",
              "  </tbody>\n",
              "</table>\n",
              "</div>"
            ],
            "text/plain": [
              "                    count         mean\n",
              "             label_target label_target\n",
              "T2     P2                             \n",
              "445.00 3.91         28853     0.883998\n",
              "449.44 5.48         17199     0.884412\n",
              "462.54 7.05         17141     0.886879\n",
              "489.05 10.52        17320     0.884007\n",
              "491.19 9.35         17213     0.885726\n",
              "518.67 14.62        62633     0.885300"
            ]
          },
          "metadata": {
            "tags": []
          },
          "execution_count": 185
        }
      ]
    },
    {
      "cell_type": "code",
      "metadata": {
        "id": "EqOvUXKtoSuE"
      },
      "source": [
        ""
      ],
      "execution_count": null,
      "outputs": []
    },
    {
      "cell_type": "markdown",
      "metadata": {
        "id": "-rUH2zczNQl_"
      },
      "source": [
        "we're looking for two things here for each feature. The first is how correlated is it with the target column? We want the absolute value of the correlation between features and the thing you're trying to predict to be quite high. Keep in mind a strong negative correlation is just as useful as a strong positive correlation. We just don't want the correlation to be close to zero. Secondly, we want to know how correlated a certain feature is with all the other features. We want the correlation with other features to be low. When the features are correlated with each other, sometimes it can confuse the model because the model can't quite parse out which feature the signal is coming from. "
      ]
    },
    {
      "cell_type": "markdown",
      "metadata": {
        "id": "eRs3zD_4O7C8"
      },
      "source": [
        "Lots of correlation noticed between features. This may confuse the model. More Cleaning required."
      ]
    },
    {
      "cell_type": "code",
      "metadata": {
        "id": "aaNnXBkdX1Qe"
      },
      "source": [
        "from scipy import stats\n"
      ],
      "execution_count": null,
      "outputs": []
    },
    {
      "cell_type": "code",
      "metadata": {
        "id": "nUu_6EMZNNi3"
      },
      "source": [
        "def describe_cont_feature(feature):\n",
        "    print('\\n*** Results for {} ***'.format(feature))\n",
        "    print(nasa.groupby('label_target')[feature].describe())\n",
        "    print(ttest(feature))\n",
        "    \n",
        "def ttest(feature):\n",
        "    enginefail = nasa[nasa['label_target']==1][feature]\n",
        "    engineok = nasa[nasa['label_target']==0][feature]\n",
        "    tstat, pval = stats.ttest_ind(enginefail, engineok, equal_var=False)\n",
        "    print('t-statistic: {:.1f}, p-value: {:.3}'.format(tstat, pval))"
      ],
      "execution_count": null,
      "outputs": []
    },
    {
      "cell_type": "code",
      "metadata": {
        "colab": {
          "base_uri": "https://localhost:8080/"
        },
        "id": "14kLe_B9VL06",
        "outputId": "1983025a-a269-46e2-9dde-91e69f47277f"
      },
      "source": [
        "nasa.columns"
      ],
      "execution_count": null,
      "outputs": [
        {
          "output_type": "execute_result",
          "data": {
            "text/plain": [
              "Index(['time_in_cycles', 'Altitud', 'Mach Number', 'TRA', 'T2', 'T24', 'T30',\n",
              "       'T50', 'P2', 'P15', 'P30', 'Nf', 'Nc', 'epr', 'Ps30', 'phi', 'NRf',\n",
              "       'NRc', 'BPR', 'farB', 'htBleed', 'Nf_dmd', 'PCNfR_dmd', 'W31', 'W32',\n",
              "       'label_target'],\n",
              "      dtype='object')"
            ]
          },
          "metadata": {
            "tags": []
          },
          "execution_count": 189
        }
      ]
    },
    {
      "cell_type": "code",
      "metadata": {
        "colab": {
          "base_uri": "https://localhost:8080/"
        },
        "id": "gqnCv6hoXeFf",
        "outputId": "31626773-0232-4348-aaea-43fdbb4343c3"
      },
      "source": [
        "# Look at the distribution of each feature at each level of the target variable\n",
        "for feature in ['time_in_cycles', 'Altitud', 'Mach Number', 'TRA', 'T2', 'T24', 'T30',\n",
        "       'T50', 'P2', 'P15', 'P30', 'Nf', 'Nc', 'epr', 'Ps30', 'phi', 'NRf',\n",
        "       'NRc', 'BPR', 'farB', 'htBleed', 'Nf_dmd', 'PCNfR_dmd', 'W31', 'W32']:\n",
        "    describe_cont_feature(feature)"
      ],
      "execution_count": null,
      "outputs": [
        {
          "output_type": "stream",
          "text": [
            "\n",
            "*** Results for time_in_cycles ***\n",
            "                 count        mean        std  ...    50%    75%    max\n",
            "label_target                                   ...                     \n",
            "0              18434.0  213.676305  66.812031  ...  196.0  247.0  543.0\n",
            "1             141925.0  111.596836  78.150036  ...  101.0  156.0  517.0\n",
            "\n",
            "[2 rows x 8 columns]\n",
            "t-statistic: -191.2, p-value: 0.0\n",
            "None\n",
            "\n",
            "*** Results for Altitud ***\n",
            "                 count       mean        std  ...      50%      75%     max\n",
            "label_target                                  ...                          \n",
            "0              18434.0  17.255928  16.554924  ...  19.9982  35.0016  42.008\n",
            "1             141925.0  17.206264  16.524536  ...  19.9981  35.0015  42.008\n",
            "\n",
            "[2 rows x 8 columns]\n",
            "t-statistic: -0.4, p-value: 0.702\n",
            "None\n",
            "\n",
            "*** Results for Mach Number ***\n",
            "                 count      mean       std     min     25%   50%   75%    max\n",
            "label_target                                                                 \n",
            "0              18434.0  0.410610  0.368165 -0.0006  0.0002  0.62  0.84  0.842\n",
            "1             141925.0  0.409925  0.367910 -0.0006  0.0002  0.62  0.84  0.842\n",
            "t-statistic: -0.2, p-value: 0.812\n",
            "None\n",
            "\n",
            "*** Results for TRA ***\n",
            "                 count       mean        std   min    25%    50%    75%    max\n",
            "label_target                                                                  \n",
            "0              18434.0  95.792557  12.272054  60.0  100.0  100.0  100.0  100.0\n",
            "1             141925.0  95.715484  12.370313  60.0  100.0  100.0  100.0  100.0\n",
            "t-statistic: -0.8, p-value: 0.423\n",
            "None\n",
            "\n",
            "*** Results for T2 ***\n",
            "                 count        mean        std  ...     50%     75%     max\n",
            "label_target                                   ...                        \n",
            "0              18434.0  485.763494  30.448141  ...  489.05  518.67  518.67\n",
            "1             141925.0  485.850943  30.416875  ...  489.05  518.67  518.67\n",
            "\n",
            "[2 rows x 8 columns]\n",
            "t-statistic: 0.4, p-value: 0.714\n",
            "None\n",
            "\n",
            "*** Results for T24 ***\n",
            "                 count        mean        std  ...     50%     75%     max\n",
            "label_target                                   ...                        \n",
            "0              18434.0  597.995068  42.548911  ...  606.21  643.21  645.11\n",
            "1             141925.0  597.278668  42.468820  ...  605.64  642.29  644.47\n",
            "\n",
            "[2 rows x 8 columns]\n",
            "t-statistic: -2.2, p-value: 0.0315\n",
            "None\n",
            "\n",
            "*** Results for T30 ***\n",
            "                 count         mean         std  ...       50%      75%      max\n",
            "label_target                                     ...                            \n",
            "0              18434.0  1476.067353  118.620524  ...  1501.245  1597.42  1616.91\n",
            "1             141925.0  1465.862566  118.067038  ...  1491.310  1585.90  1610.14\n",
            "\n",
            "[2 rows x 8 columns]\n",
            "t-statistic: -11.0, p-value: 4.76e-28\n",
            "None\n",
            "\n",
            "*** Results for T50 ***\n",
            "                 count         mean         std  ...       50%      75%      max\n",
            "label_target                                     ...                            \n",
            "0              18434.0  1275.461301  137.551880  ...  1276.745  1420.87  1441.49\n",
            "1             141925.0  1259.072462  136.023676  ...  1265.340  1401.20  1433.28\n",
            "\n",
            "[2 rows x 8 columns]\n",
            "t-statistic: -15.2, p-value: 3.53e-52\n",
            "None\n",
            "\n",
            "*** Results for P2 ***\n",
            "                 count      mean       std   min   25%   50%    75%    max\n",
            "label_target                                                              \n",
            "0              18434.0  9.884299  4.270015  3.91  5.48  9.35  14.62  14.62\n",
            "1             141925.0  9.896389  4.264988  3.91  5.48  9.35  14.62  14.62\n",
            "t-statistic: 0.4, p-value: 0.718\n",
            "None\n",
            "\n",
            "*** Results for P15 ***\n",
            "                 count       mean       std   min  25%    50%    75%    max\n",
            "label_target                                                               \n",
            "0              18434.0  14.414370  6.448055  5.67  8.0  13.66  21.61  21.61\n",
            "1             141925.0  14.426308  6.443407  5.67  8.0  13.66  21.61  21.61\n",
            "t-statistic: 0.2, p-value: 0.813\n",
            "None\n",
            "\n",
            "*** Results for P30 ***\n",
            "                 count        mean         std  ...      50%     75%     max\n",
            "label_target                                    ...                         \n",
            "0              18434.0  359.872718  174.339355  ...  343.915  551.88  570.81\n",
            "1             141925.0  359.711426  174.107729  ...  339.490  553.43  568.97\n",
            "\n",
            "[2 rows x 8 columns]\n",
            "t-statistic: -0.1, p-value: 0.906\n",
            "None\n",
            "\n",
            "*** Results for Nf ***\n",
            "                 count         mean         std  ...      50%      75%      max\n",
            "label_target                                     ...                           \n",
            "0              18434.0  2274.427317  141.631558  ...  2319.58  2388.19  2388.64\n",
            "1             141925.0  2273.752086  142.529867  ...  2319.18  2388.04  2388.59\n",
            "\n",
            "[2 rows x 8 columns]\n",
            "t-statistic: -0.6, p-value: 0.543\n",
            "None\n",
            "\n",
            "*** Results for Nc ***\n",
            "                 count         mean         std  ...      50%        75%      max\n",
            "label_target                                     ...                             \n",
            "0              18434.0  8700.622302  377.555242  ...  8776.72  9069.0075  9244.59\n",
            "1             141925.0  8674.557418  374.176420  ...  8759.54  9055.3800  9151.35\n",
            "\n",
            "[2 rows x 8 columns]\n",
            "t-statistic: -8.8, p-value: 1.15e-18\n",
            "None\n",
            "\n",
            "*** Results for epr ***\n",
            "                 count      mean       std   min   25%   50%  75%   max\n",
            "label_target                                                           \n",
            "0              18434.0  1.155641  0.141945  0.93  1.02  1.10  1.3  1.32\n",
            "1             141925.0  1.153453  0.142122  0.93  1.02  1.09  1.3  1.32\n",
            "t-statistic: -2.0, p-value: 0.049\n",
            "None\n",
            "\n",
            "*** Results for Ps30 ***\n",
            "                 count       mean       std    min    25%    50%    75%    max\n",
            "label_target                                                                  \n",
            "0              18434.0  44.683992  3.445897  36.53  42.48  45.16  47.93  48.53\n",
            "1             141925.0  44.150751  3.419029  36.04  41.97  44.80  47.31  48.21\n",
            "t-statistic: -19.8, p-value: 2.1e-86\n",
            "None\n",
            "\n",
            "*** Results for phi ***\n",
            "                 count        mean         std  ...      50%     75%     max\n",
            "label_target                                    ...                         \n",
            "0              18434.0  339.015818  164.429050  ...  323.825  520.14  537.49\n",
            "1             141925.0  338.760467  164.163416  ...  319.560  521.46  536.56\n",
            "\n",
            "[2 rows x 8 columns]\n",
            "t-statistic: -0.2, p-value: 0.843\n",
            "None\n",
            "\n",
            "*** Results for NRf ***\n",
            "                 count         mean         std  ...      50%      75%      max\n",
            "label_target                                     ...                           \n",
            "0              18434.0  2350.471395  110.377658  ...  2388.24  2388.42  2390.49\n",
            "1             141925.0  2349.537938  111.269323  ...  2388.06  2388.14  2389.57\n",
            "\n",
            "[2 rows x 8 columns]\n",
            "t-statistic: -1.1, p-value: 0.281\n",
            "None\n",
            "\n",
            "*** Results for NRc ***\n",
            "                 count         mean        std  ...       50%       75%      max\n",
            "label_target                                    ...                             \n",
            "0              18434.0  8106.144638  85.822185  ...  8124.265  8161.705  8293.72\n",
            "1             141925.0  8086.717765  79.651624  ...  8116.180  8138.660  8217.13\n",
            "\n",
            "[2 rows x 8 columns]\n",
            "t-statistic: -29.1, p-value: 2.17e-183\n",
            "None\n",
            "\n",
            "*** Results for BPR ***\n",
            "                 count      mean       std  ...     50%     75%      max\n",
            "label_target                                ...                         \n",
            "0              18434.0  9.082772  0.755115  ...  8.9835  9.4030  11.0669\n",
            "1             141925.0  9.051107  0.751047  ...  9.0745  9.3395  11.0273\n",
            "\n",
            "[2 rows x 8 columns]\n",
            "t-statistic: -5.4, p-value: 8.43e-08\n",
            "None\n",
            "\n",
            "*** Results for farB ***\n",
            "                 count      mean       std   min   25%   50%   75%   max\n",
            "label_target                                                            \n",
            "0              18434.0  0.025938  0.004911  0.02  0.02  0.03  0.03  0.03\n",
            "1             141925.0  0.025088  0.004999  0.02  0.02  0.03  0.03  0.03\n",
            "t-statistic: -22.1, p-value: 5.32e-107\n",
            "None\n",
            "\n",
            "*** Results for htBleed ***\n",
            "                 count        mean        std  ...    50%    75%    max\n",
            "label_target                                   ...                     \n",
            "0              18434.0  363.085223  31.161613  ...  370.0  395.0  400.0\n",
            "1             141925.0  360.388839  30.989804  ...  367.0  392.0  398.0\n",
            "\n",
            "[2 rows x 8 columns]\n",
            "t-statistic: -11.1, p-value: 2.32e-28\n",
            "None\n",
            "\n",
            "*** Results for Nf_dmd ***\n",
            "                 count         mean         std  ...     50%     75%     max\n",
            "label_target                                     ...                        \n",
            "0              18434.0  2274.147987  141.732792  ...  2319.0  2388.0  2388.0\n",
            "1             141925.0  2273.702871  142.614571  ...  2319.0  2388.0  2388.0\n",
            "\n",
            "[2 rows x 8 columns]\n",
            "t-statistic: -0.4, p-value: 0.689\n",
            "None\n",
            "\n",
            "*** Results for PCNfR_dmd ***\n",
            "                 count       mean       std    min    25%    50%    75%    max\n",
            "label_target                                                                  \n",
            "0              18434.0  98.414846  4.623496  84.93  100.0  100.0  100.0  100.0\n",
            "1             141925.0  98.385808  4.660516  84.93  100.0  100.0  100.0  100.0\n",
            "t-statistic: -0.8, p-value: 0.423\n",
            "None\n",
            "\n",
            "*** Results for W31 ***\n",
            "                 count       mean        std    min    25%    50%    75%    max\n",
            "label_target                                                                   \n",
            "0              18434.0  25.820291  11.646692  10.16  14.25  25.08  38.53  39.89\n",
            "1             141925.0  25.958609  11.697166  10.18  14.34  24.85  38.85  39.76\n",
            "t-statistic: 1.5, p-value: 0.129\n",
            "None\n",
            "\n",
            "*** Results for W32 ***\n",
            "                 count       mean       std  ...       50%        75%      max\n",
            "label_target                                 ...                              \n",
            "0              18434.0  15.493211  6.987638  ...  15.04795  23.116275  23.9505\n",
            "1             141925.0  15.575116  7.018591  ...  14.91070  23.311100  23.8264\n",
            "\n",
            "[2 rows x 8 columns]\n",
            "t-statistic: 1.5, p-value: 0.135\n",
            "None\n"
          ],
          "name": "stdout"
        }
      ]
    },
    {
      "cell_type": "markdown",
      "metadata": {
        "id": "HM_KFvI1etCE"
      },
      "source": [
        "# Plot Continuous Features"
      ]
    },
    {
      "cell_type": "code",
      "metadata": {
        "colab": {
          "base_uri": "https://localhost:8080/",
          "height": 1000
        },
        "id": "QvrQPk7werw_",
        "outputId": "ec9265b3-6da3-4818-82e4-0f8be5a5a545"
      },
      "source": [
        "# Plot overlaid histograms for continuous features\n",
        "for i in ['time_in_cycles', 'Altitud', 'Mach Number', 'TRA', 'T2', 'T24', 'T30',\n",
        "       'T50', 'P2', 'P15', 'P30', 'Nf', 'Nc', 'epr', 'Ps30', 'phi', 'NRf',\n",
        "       'NRc', 'BPR', 'farB', 'htBleed', 'Nf_dmd', 'PCNfR_dmd', 'W31', 'W32']:\n",
        "    engineok = list(nasa[nasa['label_target'] == 0][i].dropna())\n",
        "    enginefail = list(nasa[nasa['label_target'] == 1][i].dropna())\n",
        "    xmin = min(min(engineok), min(enginefail))\n",
        "    xmax = max(max(engineok), max(enginefail))\n",
        "    width = (xmax - xmin) / 40\n",
        "    sns.distplot(engineok, color='r', kde=False, bins=np.arange(xmin, xmax, width))\n",
        "    sns.distplot(enginefail, color='g', kde=False, bins=np.arange(xmin, xmax, width))\n",
        "    plt.legend(['Engine Not at Failure Threshold', 'Engine at Failure Threshold'])\n",
        "    plt.title('Overlaid histogram for {}'.format(i))\n",
        "    plt.show()"
      ],
      "execution_count": null,
      "outputs": [
        {
          "output_type": "stream",
          "text": [
            "/usr/local/lib/python3.6/dist-packages/seaborn/distributions.py:2551: FutureWarning:\n",
            "\n",
            "`distplot` is a deprecated function and will be removed in a future version. Please adapt your code to use either `displot` (a figure-level function with similar flexibility) or `histplot` (an axes-level function for histograms).\n",
            "\n"
          ],
          "name": "stderr"
        },
        {
          "output_type": "display_data",
          "data": {
            "image/png": "[encoded data removed]",
            "text/plain": [
              "<Figure size 432x288 with 1 Axes>"
            ]
          },
          "metadata": {
            "tags": [],
            "needs_background": "light"
          }
        },
        {
          "output_type": "stream",
          "text": [
            "/usr/local/lib/python3.6/dist-packages/seaborn/distributions.py:2551: FutureWarning:\n",
            "\n",
            "`distplot` is a deprecated function and will be removed in a future version. Please adapt your code to use either `displot` (a figure-level function with similar flexibility) or `histplot` (an axes-level function for histograms).\n",
            "\n"
          ],
          "name": "stderr"
        },
        {
          "output_type": "display_data",
          "data": {
            "image/png": "[encoded data removed]",
            "text/plain": [
              "<Figure size 432x288 with 1 Axes>"
            ]
          },
          "metadata": {
            "tags": [],
            "needs_background": "light"
          }
        },
        {
          "output_type": "stream",
          "text": [
            "/usr/local/lib/python3.6/dist-packages/seaborn/distributions.py:2551: FutureWarning:\n",
            "\n",
            "`distplot` is a deprecated function and will be removed in a future version. Please adapt your code to use either `displot` (a figure-level function with similar flexibility) or `histplot` (an axes-level function for histograms).\n",
            "\n"
          ],
          "name": "stderr"
        },
        {
          "output_type": "display_data",
          "data": {
            "image/png": "[encoded data removed]",
            "text/plain": [
              "<Figure size 432x288 with 1 Axes>"
            ]
          },
          "metadata": {
            "tags": [],
            "needs_background": "light"
          }
        },
        {
          "output_type": "stream",
          "text": [
            "/usr/local/lib/python3.6/dist-packages/seaborn/distributions.py:2551: FutureWarning:\n",
            "\n",
            "`distplot` is a deprecated function and will be removed in a future version. Please adapt your code to use either `displot` (a figure-level function with similar flexibility) or `histplot` (an axes-level function for histograms).\n",
            "\n"
          ],
          "name": "stderr"
        },
        {
          "output_type": "display_data",
          "data": {
            "image/png": "[encoded data removed]",
            "text/plain": [
              "<Figure size 432x288 with 1 Axes>"
            ]
          },
          "metadata": {
            "tags": [],
            "needs_background": "light"
          }
        },
        {
          "output_type": "stream",
          "text": [
            "/usr/local/lib/python3.6/dist-packages/seaborn/distributions.py:2551: FutureWarning:\n",
            "\n",
            "`distplot` is a deprecated function and will be removed in a future version. Please adapt your code to use either `displot` (a figure-level function with similar flexibility) or `histplot` (an axes-level function for histograms).\n",
            "\n"
          ],
          "name": "stderr"
        },
        {
          "output_type": "display_data",
          "data": {
            "image/png": "[encoded data removed]",
            "text/plain": [
              "<Figure size 432x288 with 1 Axes>"
            ]
          },
          "metadata": {
            "tags": [],
            "needs_background": "light"
          }
        },
        {
          "output_type": "stream",
          "text": [
            "/usr/local/lib/python3.6/dist-packages/seaborn/distributions.py:2551: FutureWarning:\n",
            "\n",
            "`distplot` is a deprecated function and will be removed in a future version. Please adapt your code to use either `displot` (a figure-level function with similar flexibility) or `histplot` (an axes-level function for histograms).\n",
            "\n"
          ],
          "name": "stderr"
        },
        {
          "output_type": "display_data",
          "data": {
            "image/png": "[encoded data removed]",
            "text/plain": [
              "<Figure size 432x288 with 1 Axes>"
            ]
          },
          "metadata": {
            "tags": [],
            "needs_background": "light"
          }
        },
        {
          "output_type": "stream",
          "text": [
            "/usr/local/lib/python3.6/dist-packages/seaborn/distributions.py:2551: FutureWarning:\n",
            "\n",
            "`distplot` is a deprecated function and will be removed in a future version. Please adapt your code to use either `displot` (a figure-level function with similar flexibility) or `histplot` (an axes-level function for histograms).\n",
            "\n"
          ],
          "name": "stderr"
        },
        {
          "output_type": "display_data",
          "data": {
            "image/png": "[encoded data removed]",
            "text/plain": [
              "<Figure size 432x288 with 1 Axes>"
            ]
          },
          "metadata": {
            "tags": [],
            "needs_background": "light"
          }
        },
        {
          "output_type": "stream",
          "text": [
            "/usr/local/lib/python3.6/dist-packages/seaborn/distributions.py:2551: FutureWarning:\n",
            "\n",
            "`distplot` is a deprecated function and will be removed in a future version. Please adapt your code to use either `displot` (a figure-level function with similar flexibility) or `histplot` (an axes-level function for histograms).\n",
            "\n"
          ],
          "name": "stderr"
        },
        {
          "output_type": "display_data",
          "data": {
            "image/png": "[encoded data removed]",
            "text/plain": [
              "<Figure size 432x288 with 1 Axes>"
            ]
          },
          "metadata": {
            "tags": [],
            "needs_background": "light"
          }
        },
        {
          "output_type": "stream",
          "text": [
            "/usr/local/lib/python3.6/dist-packages/seaborn/distributions.py:2551: FutureWarning:\n",
            "\n",
            "`distplot` is a deprecated function and will be removed in a future version. Please adapt your code to use either `displot` (a figure-level function with similar flexibility) or `histplot` (an axes-level function for histograms).\n",
            "\n"
          ],
          "name": "stderr"
        },
        {
          "output_type": "display_data",
          "data": {
            "image/png": "[encoded data removed]",
            "text/plain": [
              "<Figure size 432x288 with 1 Axes>"
            ]
          },
          "metadata": {
            "tags": [],
            "needs_background": "light"
          }
        },
        {
          "output_type": "stream",
          "text": [
            "/usr/local/lib/python3.6/dist-packages/seaborn/distributions.py:2551: FutureWarning:\n",
            "\n",
            "`distplot` is a deprecated function and will be removed in a future version. Please adapt your code to use either `displot` (a figure-level function with similar flexibility) or `histplot` (an axes-level function for histograms).\n",
            "\n"
          ],
          "name": "stderr"
        },
        {
          "output_type": "display_data",
          "data": {
            "image/png": "[encoded data removed]",
            "text/plain": [
              "<Figure size 432x288 with 1 Axes>"
            ]
          },
          "metadata": {
            "tags": [],
            "needs_background": "light"
          }
        },
        {
          "output_type": "stream",
          "text": [
            "/usr/local/lib/python3.6/dist-packages/seaborn/distributions.py:2551: FutureWarning:\n",
            "\n",
            "`distplot` is a deprecated function and will be removed in a future version. Please adapt your code to use either `displot` (a figure-level function with similar flexibility) or `histplot` (an axes-level function for histograms).\n",
            "\n"
          ],
          "name": "stderr"
        },
        {
          "output_type": "display_data",
          "data": {
            "image/png": "[encoded data removed]",
            "text/plain": [
              "<Figure size 432x288 with 1 Axes>"
            ]
          },
          "metadata": {
            "tags": [],
            "needs_background": "light"
          }
        },
        {
          "output_type": "stream",
          "text": [
            "/usr/local/lib/python3.6/dist-packages/seaborn/distributions.py:2551: FutureWarning:\n",
            "\n",
            "`distplot` is a deprecated function and will be removed in a future version. Please adapt your code to use either `displot` (a figure-level function with similar flexibility) or `histplot` (an axes-level function for histograms).\n",
            "\n"
          ],
          "name": "stderr"
        },
        {
          "output_type": "display_data",
          "data": {
            "image/png": "[encoded data removed]",
            "text/plain": [
              "<Figure size 432x288 with 1 Axes>"
            ]
          },
          "metadata": {
            "tags": [],
            "needs_background": "light"
          }
        },
        {
          "output_type": "stream",
          "text": [
            "/usr/local/lib/python3.6/dist-packages/seaborn/distributions.py:2551: FutureWarning:\n",
            "\n",
            "`distplot` is a deprecated function and will be removed in a future version. Please adapt your code to use either `displot` (a figure-level function with similar flexibility) or `histplot` (an axes-level function for histograms).\n",
            "\n"
          ],
          "name": "stderr"
        },
        {
          "output_type": "display_data",
          "data": {
            "image/png": "[encoded data removed]",
            "text/plain": [
              "<Figure size 432x288 with 1 Axes>"
            ]
          },
          "metadata": {
            "tags": [],
            "needs_background": "light"
          }
        },
        {
          "output_type": "stream",
          "text": [
            "/usr/local/lib/python3.6/dist-packages/seaborn/distributions.py:2551: FutureWarning:\n",
            "\n",
            "`distplot` is a deprecated function and will be removed in a future version. Please adapt your code to use either `displot` (a figure-level function with similar flexibility) or `histplot` (an axes-level function for histograms).\n",
            "\n"
          ],
          "name": "stderr"
        },
        {
          "output_type": "display_data",
          "data": {
            "image/png": "[encoded data removed]",
            "text/plain": [
              "<Figure size 432x288 with 1 Axes>"
            ]
          },
          "metadata": {
            "tags": [],
            "needs_background": "light"
          }
        },
        {
          "output_type": "stream",
          "text": [
            "/usr/local/lib/python3.6/dist-packages/seaborn/distributions.py:2551: FutureWarning:\n",
            "\n",
            "`distplot` is a deprecated function and will be removed in a future version. Please adapt your code to use either `displot` (a figure-level function with similar flexibility) or `histplot` (an axes-level function for histograms).\n",
            "\n"
          ],
          "name": "stderr"
        },
        {
          "output_type": "display_data",
          "data": {
            "image/png": "[encoded data removed]",
            "text/plain": [
              "<Figure size 432x288 with 1 Axes>"
            ]
          },
          "metadata": {
            "tags": [],
            "needs_background": "light"
          }
        },
        {
          "output_type": "stream",
          "text": [
            "/usr/local/lib/python3.6/dist-packages/seaborn/distributions.py:2551: FutureWarning:\n",
            "\n",
            "`distplot` is a deprecated function and will be removed in a future version. Please adapt your code to use either `displot` (a figure-level function with similar flexibility) or `histplot` (an axes-level function for histograms).\n",
            "\n"
          ],
          "name": "stderr"
        },
        {
          "output_type": "display_data",
          "data": {
            "image/png": "[encoded data removed]",
            "text/plain": [
              "<Figure size 432x288 with 1 Axes>"
            ]
          },
          "metadata": {
            "tags": [],
            "needs_background": "light"
          }
        },
        {
          "output_type": "stream",
          "text": [
            "/usr/local/lib/python3.6/dist-packages/seaborn/distributions.py:2551: FutureWarning:\n",
            "\n",
            "`distplot` is a deprecated function and will be removed in a future version. Please adapt your code to use either `displot` (a figure-level function with similar flexibility) or `histplot` (an axes-level function for histograms).\n",
            "\n"
          ],
          "name": "stderr"
        },
        {
          "output_type": "display_data",
          "data": {
            "image/png": "[encoded data removed]",
            "text/plain": [
              "<Figure size 432x288 with 1 Axes>"
            ]
          },
          "metadata": {
            "tags": [],
            "needs_background": "light"
          }
        },
        {
          "output_type": "stream",
          "text": [
            "/usr/local/lib/python3.6/dist-packages/seaborn/distributions.py:2551: FutureWarning:\n",
            "\n",
            "`distplot` is a deprecated function and will be removed in a future version. Please adapt your code to use either `displot` (a figure-level function with similar flexibility) or `histplot` (an axes-level function for histograms).\n",
            "\n"
          ],
          "name": "stderr"
        },
        {
          "output_type": "display_data",
          "data": {
            "image/png": "[encoded data removed]",
            "text/plain": [
              "<Figure size 432x288 with 1 Axes>"
            ]
          },
          "metadata": {
            "tags": [],
            "needs_background": "light"
          }
        },
        {
          "output_type": "stream",
          "text": [
            "/usr/local/lib/python3.6/dist-packages/seaborn/distributions.py:2551: FutureWarning:\n",
            "\n",
            "`distplot` is a deprecated function and will be removed in a future version. Please adapt your code to use either `displot` (a figure-level function with similar flexibility) or `histplot` (an axes-level function for histograms).\n",
            "\n"
          ],
          "name": "stderr"
        },
        {
          "output_type": "display_data",
          "data": {
            "image/png": "[encoded data removed]",
            "text/plain": [
              "<Figure size 432x288 with 1 Axes>"
            ]
          },
          "metadata": {
            "tags": [],
            "needs_background": "light"
          }
        },
        {
          "output_type": "stream",
          "text": [
            "/usr/local/lib/python3.6/dist-packages/seaborn/distributions.py:2551: FutureWarning:\n",
            "\n",
            "`distplot` is a deprecated function and will be removed in a future version. Please adapt your code to use either `displot` (a figure-level function with similar flexibility) or `histplot` (an axes-level function for histograms).\n",
            "\n"
          ],
          "name": "stderr"
        },
        {
          "output_type": "display_data",
          "data": {
            "image/png": "[encoded data removed]",
            "text/plain": [
              "<Figure size 432x288 with 1 Axes>"
            ]
          },
          "metadata": {
            "tags": [],
            "needs_background": "light"
          }
        },
        {
          "output_type": "stream",
          "text": [
            "/usr/local/lib/python3.6/dist-packages/seaborn/distributions.py:2551: FutureWarning:\n",
            "\n",
            "`distplot` is a deprecated function and will be removed in a future version. Please adapt your code to use either `displot` (a figure-level function with similar flexibility) or `histplot` (an axes-level function for histograms).\n",
            "\n"
          ],
          "name": "stderr"
        },
        {
          "output_type": "display_data",
          "data": {
            "image/png": "[encoded data removed]",
            "text/plain": [
              "<Figure size 432x288 with 1 Axes>"
            ]
          },
          "metadata": {
            "tags": [],
            "needs_background": "light"
          }
        },
        {
          "output_type": "stream",
          "text": [
            "/usr/local/lib/python3.6/dist-packages/seaborn/distributions.py:2551: FutureWarning:\n",
            "\n",
            "`distplot` is a deprecated function and will be removed in a future version. Please adapt your code to use either `displot` (a figure-level function with similar flexibility) or `histplot` (an axes-level function for histograms).\n",
            "\n"
          ],
          "name": "stderr"
        },
        {
          "output_type": "display_data",
          "data": {
            "image/png": "[encoded data removed]",
            "text/plain": [
              "<Figure size 432x288 with 1 Axes>"
            ]
          },
          "metadata": {
            "tags": [],
            "needs_background": "light"
          }
        },
        {
          "output_type": "stream",
          "text": [
            "/usr/local/lib/python3.6/dist-packages/seaborn/distributions.py:2551: FutureWarning:\n",
            "\n",
            "`distplot` is a deprecated function and will be removed in a future version. Please adapt your code to use either `displot` (a figure-level function with similar flexibility) or `histplot` (an axes-level function for histograms).\n",
            "\n"
          ],
          "name": "stderr"
        },
        {
          "output_type": "display_data",
          "data": {
            "image/png": "[encoded data removed]",
            "text/plain": [
              "<Figure size 432x288 with 1 Axes>"
            ]
          },
          "metadata": {
            "tags": [],
            "needs_background": "light"
          }
        },
        {
          "output_type": "stream",
          "text": [
            "/usr/local/lib/python3.6/dist-packages/seaborn/distributions.py:2551: FutureWarning:\n",
            "\n",
            "`distplot` is a deprecated function and will be removed in a future version. Please adapt your code to use either `displot` (a figure-level function with similar flexibility) or `histplot` (an axes-level function for histograms).\n",
            "\n"
          ],
          "name": "stderr"
        },
        {
          "output_type": "display_data",
          "data": {
            "image/png": "[encoded data removed]",
            "text/plain": [
              "<Figure size 432x288 with 1 Axes>"
            ]
          },
          "metadata": {
            "tags": [],
            "needs_background": "light"
          }
        },
        {
          "output_type": "stream",
          "text": [
            "/usr/local/lib/python3.6/dist-packages/seaborn/distributions.py:2551: FutureWarning:\n",
            "\n",
            "`distplot` is a deprecated function and will be removed in a future version. Please adapt your code to use either `displot` (a figure-level function with similar flexibility) or `histplot` (an axes-level function for histograms).\n",
            "\n"
          ],
          "name": "stderr"
        },
        {
          "output_type": "display_data",
          "data": {
            "image/png": "[encoded data removed]",
            "text/plain": [
              "<Figure size 432x288 with 1 Axes>"
            ]
          },
          "metadata": {
            "tags": [],
            "needs_background": "light"
          }
        }
      ]
    },
    {
      "cell_type": "markdown",
      "metadata": {
        "id": "QrCEjrxpAv2G"
      },
      "source": [
        "# Explore Categorical Features"
      ]
    },
    {
      "cell_type": "code",
      "metadata": {
        "id": "TShtmQFtBLNU"
      },
      "source": [
        "# No categorical feature to explore except label"
      ],
      "execution_count": null,
      "outputs": []
    },
    {
      "cell_type": "markdown",
      "metadata": {
        "id": "Cx1DbPhgtZ5X"
      },
      "source": [
        "# Remove Outliers\n",
        "Capping: Remove outliers on high end\n",
        "\n",
        "Flooring : Remove outliers on low end"
      ]
    },
    {
      "cell_type": "markdown",
      "metadata": {
        "id": "rKxe0wAiuhjR"
      },
      "source": [
        "Recall: The features with significant outliers detected earlier on were: TRA,Nf,Ps30, NRf, NRc, BPR, Nf_dmd,PCNFR_dmd"
      ]
    },
    {
      "cell_type": "code",
      "metadata": {
        "colab": {
          "base_uri": "https://localhost:8080/",
          "height": 317
        },
        "id": "wbv5Ly2Zt2WN",
        "outputId": "ad0ef6c0-ba54-45c7-b3e0-97e78bda489d"
      },
      "source": [
        "#Look at the general distribution of the features\n",
        "nasa.describe()"
      ],
      "execution_count": null,
      "outputs": [
        {
          "output_type": "execute_result",
          "data": {
            "text/html": [
              "<div>\n",
              "<style scoped>\n",
              "    .dataframe tbody tr th:only-of-type {\n",
              "        vertical-align: middle;\n",
              "    }\n",
              "\n",
              "    .dataframe tbody tr th {\n",
              "        vertical-align: top;\n",
              "    }\n",
              "\n",
              "    .dataframe thead th {\n",
              "        text-align: right;\n",
              "    }\n",
              "</style>\n",
              "<table border=\"1\" class=\"dataframe\">\n",
              "  <thead>\n",
              "    <tr style=\"text-align: right;\">\n",
              "      <th></th>\n",
              "      <th>time_in_cycles</th>\n",
              "      <th>Altitud</th>\n",
              "      <th>Mach Number</th>\n",
              "      <th>TRA</th>\n",
              "      <th>T2</th>\n",
              "      <th>T24</th>\n",
              "      <th>T30</th>\n",
              "      <th>T50</th>\n",
              "      <th>P2</th>\n",
              "      <th>P15</th>\n",
              "      <th>P30</th>\n",
              "      <th>Nf</th>\n",
              "      <th>Nc</th>\n",
              "      <th>epr</th>\n",
              "      <th>Ps30</th>\n",
              "      <th>phi</th>\n",
              "      <th>NRf</th>\n",
              "      <th>NRc</th>\n",
              "      <th>BPR</th>\n",
              "      <th>farB</th>\n",
              "      <th>htBleed</th>\n",
              "      <th>Nf_dmd</th>\n",
              "      <th>PCNfR_dmd</th>\n",
              "      <th>W31</th>\n",
              "      <th>W32</th>\n",
              "      <th>label_target</th>\n",
              "    </tr>\n",
              "  </thead>\n",
              "  <tbody>\n",
              "    <tr>\n",
              "      <th>count</th>\n",
              "      <td>160359.000000</td>\n",
              "      <td>160359.000000</td>\n",
              "      <td>160359.000000</td>\n",
              "      <td>160359.000000</td>\n",
              "      <td>160359.000000</td>\n",
              "      <td>160359.000000</td>\n",
              "      <td>160359.000000</td>\n",
              "      <td>160359.000000</td>\n",
              "      <td>160359.000000</td>\n",
              "      <td>160359.000000</td>\n",
              "      <td>160359.000000</td>\n",
              "      <td>160359.000000</td>\n",
              "      <td>160359.000000</td>\n",
              "      <td>160359.000000</td>\n",
              "      <td>160359.000000</td>\n",
              "      <td>160359.000000</td>\n",
              "      <td>160359.000000</td>\n",
              "      <td>160359.000000</td>\n",
              "      <td>160359.000000</td>\n",
              "      <td>160359.000000</td>\n",
              "      <td>160359.000000</td>\n",
              "      <td>160359.000000</td>\n",
              "      <td>160359.000000</td>\n",
              "      <td>160359.000000</td>\n",
              "      <td>160359.000000</td>\n",
              "      <td>160359.000000</td>\n",
              "    </tr>\n",
              "    <tr>\n",
              "      <th>mean</th>\n",
              "      <td>123.331338</td>\n",
              "      <td>17.211973</td>\n",
              "      <td>0.410004</td>\n",
              "      <td>95.724344</td>\n",
              "      <td>485.840890</td>\n",
              "      <td>597.361022</td>\n",
              "      <td>1467.035653</td>\n",
              "      <td>1260.956434</td>\n",
              "      <td>9.894999</td>\n",
              "      <td>14.424935</td>\n",
              "      <td>359.729968</td>\n",
              "      <td>2273.829707</td>\n",
              "      <td>8677.553696</td>\n",
              "      <td>1.153705</td>\n",
              "      <td>44.212049</td>\n",
              "      <td>338.789821</td>\n",
              "      <td>2349.645243</td>\n",
              "      <td>8088.950972</td>\n",
              "      <td>9.054747</td>\n",
              "      <td>0.025185</td>\n",
              "      <td>360.698801</td>\n",
              "      <td>2273.754039</td>\n",
              "      <td>98.389146</td>\n",
              "      <td>25.942709</td>\n",
              "      <td>15.565700</td>\n",
              "      <td>0.885045</td>\n",
              "    </tr>\n",
              "    <tr>\n",
              "      <th>std</th>\n",
              "      <td>83.538146</td>\n",
              "      <td>16.527988</td>\n",
              "      <td>0.367938</td>\n",
              "      <td>12.359044</td>\n",
              "      <td>30.420388</td>\n",
              "      <td>42.478516</td>\n",
              "      <td>118.175261</td>\n",
              "      <td>136.300073</td>\n",
              "      <td>4.265554</td>\n",
              "      <td>6.443922</td>\n",
              "      <td>174.133835</td>\n",
              "      <td>142.426613</td>\n",
              "      <td>374.657454</td>\n",
              "      <td>0.142103</td>\n",
              "      <td>3.426342</td>\n",
              "      <td>164.193480</td>\n",
              "      <td>111.167242</td>\n",
              "      <td>80.623257</td>\n",
              "      <td>0.751581</td>\n",
              "      <td>0.004997</td>\n",
              "      <td>31.021430</td>\n",
              "      <td>142.513114</td>\n",
              "      <td>4.656270</td>\n",
              "      <td>11.691422</td>\n",
              "      <td>7.015067</td>\n",
              "      <td>0.318968</td>\n",
              "    </tr>\n",
              "    <tr>\n",
              "      <th>min</th>\n",
              "      <td>1.000000</td>\n",
              "      <td>-0.008700</td>\n",
              "      <td>-0.000600</td>\n",
              "      <td>60.000000</td>\n",
              "      <td>445.000000</td>\n",
              "      <td>535.480000</td>\n",
              "      <td>1242.670000</td>\n",
              "      <td>1023.770000</td>\n",
              "      <td>3.910000</td>\n",
              "      <td>5.670000</td>\n",
              "      <td>136.170000</td>\n",
              "      <td>1914.720000</td>\n",
              "      <td>7984.510000</td>\n",
              "      <td>0.930000</td>\n",
              "      <td>36.040000</td>\n",
              "      <td>128.310000</td>\n",
              "      <td>2027.570000</td>\n",
              "      <td>7845.780000</td>\n",
              "      <td>8.156300</td>\n",
              "      <td>0.020000</td>\n",
              "      <td>302.000000</td>\n",
              "      <td>1915.000000</td>\n",
              "      <td>84.930000</td>\n",
              "      <td>10.160000</td>\n",
              "      <td>6.010500</td>\n",
              "      <td>0.000000</td>\n",
              "    </tr>\n",
              "    <tr>\n",
              "      <th>25%</th>\n",
              "      <td>57.000000</td>\n",
              "      <td>0.001300</td>\n",
              "      <td>0.000200</td>\n",
              "      <td>100.000000</td>\n",
              "      <td>449.440000</td>\n",
              "      <td>549.960000</td>\n",
              "      <td>1357.360000</td>\n",
              "      <td>1126.830000</td>\n",
              "      <td>5.480000</td>\n",
              "      <td>8.000000</td>\n",
              "      <td>175.710000</td>\n",
              "      <td>2212.120000</td>\n",
              "      <td>8334.770000</td>\n",
              "      <td>1.020000</td>\n",
              "      <td>42.010000</td>\n",
              "      <td>164.790000</td>\n",
              "      <td>2387.970000</td>\n",
              "      <td>8070.530000</td>\n",
              "      <td>8.439250</td>\n",
              "      <td>0.020000</td>\n",
              "      <td>332.000000</td>\n",
              "      <td>2212.000000</td>\n",
              "      <td>100.000000</td>\n",
              "      <td>14.330000</td>\n",
              "      <td>8.601300</td>\n",
              "      <td>1.000000</td>\n",
              "    </tr>\n",
              "    <tr>\n",
              "      <th>50%</th>\n",
              "      <td>114.000000</td>\n",
              "      <td>19.998100</td>\n",
              "      <td>0.620000</td>\n",
              "      <td>100.000000</td>\n",
              "      <td>489.050000</td>\n",
              "      <td>605.930000</td>\n",
              "      <td>1492.810000</td>\n",
              "      <td>1271.740000</td>\n",
              "      <td>9.350000</td>\n",
              "      <td>13.660000</td>\n",
              "      <td>341.690000</td>\n",
              "      <td>2319.370000</td>\n",
              "      <td>8764.200000</td>\n",
              "      <td>1.090000</td>\n",
              "      <td>44.930000</td>\n",
              "      <td>321.690000</td>\n",
              "      <td>2388.070000</td>\n",
              "      <td>8118.590000</td>\n",
              "      <td>9.030100</td>\n",
              "      <td>0.030000</td>\n",
              "      <td>367.000000</td>\n",
              "      <td>2319.000000</td>\n",
              "      <td>100.000000</td>\n",
              "      <td>24.920000</td>\n",
              "      <td>14.953500</td>\n",
              "      <td>1.000000</td>\n",
              "    </tr>\n",
              "    <tr>\n",
              "      <th>75%</th>\n",
              "      <td>173.000000</td>\n",
              "      <td>35.001500</td>\n",
              "      <td>0.840000</td>\n",
              "      <td>100.000000</td>\n",
              "      <td>518.670000</td>\n",
              "      <td>642.340000</td>\n",
              "      <td>1586.590000</td>\n",
              "      <td>1402.200000</td>\n",
              "      <td>14.620000</td>\n",
              "      <td>21.610000</td>\n",
              "      <td>553.290000</td>\n",
              "      <td>2388.050000</td>\n",
              "      <td>9055.850000</td>\n",
              "      <td>1.300000</td>\n",
              "      <td>47.340000</td>\n",
              "      <td>521.340000</td>\n",
              "      <td>2388.160000</td>\n",
              "      <td>8139.410000</td>\n",
              "      <td>9.344200</td>\n",
              "      <td>0.030000</td>\n",
              "      <td>392.000000</td>\n",
              "      <td>2388.000000</td>\n",
              "      <td>100.000000</td>\n",
              "      <td>38.820000</td>\n",
              "      <td>23.294600</td>\n",
              "      <td>1.000000</td>\n",
              "    </tr>\n",
              "    <tr>\n",
              "      <th>max</th>\n",
              "      <td>543.000000</td>\n",
              "      <td>42.008000</td>\n",
              "      <td>0.842000</td>\n",
              "      <td>100.000000</td>\n",
              "      <td>518.670000</td>\n",
              "      <td>645.110000</td>\n",
              "      <td>1616.910000</td>\n",
              "      <td>1441.490000</td>\n",
              "      <td>14.620000</td>\n",
              "      <td>21.610000</td>\n",
              "      <td>570.810000</td>\n",
              "      <td>2388.640000</td>\n",
              "      <td>9244.590000</td>\n",
              "      <td>1.320000</td>\n",
              "      <td>48.530000</td>\n",
              "      <td>537.490000</td>\n",
              "      <td>2390.490000</td>\n",
              "      <td>8293.720000</td>\n",
              "      <td>11.066900</td>\n",
              "      <td>0.030000</td>\n",
              "      <td>400.000000</td>\n",
              "      <td>2388.000000</td>\n",
              "      <td>100.000000</td>\n",
              "      <td>39.890000</td>\n",
              "      <td>23.950500</td>\n",
              "      <td>1.000000</td>\n",
              "    </tr>\n",
              "  </tbody>\n",
              "</table>\n",
              "</div>"
            ],
            "text/plain": [
              "       time_in_cycles        Altitud  ...            W32   label_target\n",
              "count   160359.000000  160359.000000  ...  160359.000000  160359.000000\n",
              "mean       123.331338      17.211973  ...      15.565700       0.885045\n",
              "std         83.538146      16.527988  ...       7.015067       0.318968\n",
              "min          1.000000      -0.008700  ...       6.010500       0.000000\n",
              "25%         57.000000       0.001300  ...       8.601300       1.000000\n",
              "50%        114.000000      19.998100  ...      14.953500       1.000000\n",
              "75%        173.000000      35.001500  ...      23.294600       1.000000\n",
              "max        543.000000      42.008000  ...      23.950500       1.000000\n",
              "\n",
              "[8 rows x 26 columns]"
            ]
          },
          "metadata": {
            "tags": []
          },
          "execution_count": 210
        }
      ]
    },
    {
      "cell_type": "code",
      "metadata": {
        "id": "s8L2vhQEuBNL"
      },
      "source": [
        "# def detect_outlier(feature):\n",
        "#     outliers = []\n",
        "#     data = nasa[feature]\n",
        "#     mean = np.mean(data)\n",
        "#     std =np.std(data)\n",
        "    \n",
        "    \n",
        "#     for y in data:\n",
        "#         z_score= (y - mean)/std \n",
        "#         if np.abs(z_score) > 3:\n",
        "#             outliers.append(y)\n",
        "#     print('\\nOutlier caps for {}:'.format(feature))\n",
        "#     print('  --95p: {:.1f} / {} values exceed that'.format(data.quantile(.95),\n",
        "#                                                              len([i for i in data\n",
        "#                                                                   if i > data.quantile(.95)])))\n",
        "#     print('  --3sd: {:.1f} / {} values exceed that'.format(mean + 3*(std), len(outliers)))\n",
        "#     print('  --99p: {:.1f} / {} values exceed that'.format(data.quantile(.99),\n",
        "#                                                              len([i for i in data\n",
        "#                                                                   if i > data.quantile(.99)])))"
      ],
      "execution_count": null,
      "outputs": []
    },
    {
      "cell_type": "code",
      "metadata": {
        "id": "5675LT2Am9J1"
      },
      "source": [
        "# # Determine what the upperbound should be for continuous features\n",
        "# for feat in ['TRA','Nf','Ps30', 'NRf', 'NRc', 'BPR', 'Nf_dmd','PCNFR_dmd']:\n",
        "#     detect_outlier(feat)"
      ],
      "execution_count": null,
      "outputs": []
    },
    {
      "cell_type": "code",
      "metadata": {
        "id": "lNo-6v1gn4Wf"
      },
      "source": [
        "# Cap features for TRA example\n",
        "# nasa['TRA'].clip(upper=nasa['TRA'].quantile(.99),inplace = True)\n"
      ],
      "execution_count": null,
      "outputs": []
    },
    {
      "cell_type": "markdown",
      "metadata": {
        "id": "_HrJ7qmDnenh"
      },
      "source": [
        "Code to Cap/Floor Outliers above. Not yet implemented as more information is required from domain experts to establish the relevance or non -relevance of the outliers"
      ]
    },
    {
      "cell_type": "markdown",
      "metadata": {
        "id": "5WpV6bWQxAF5"
      },
      "source": [
        "# Transforming Skewed Features"
      ]
    },
    {
      "cell_type": "code",
      "metadata": {
        "colab": {
          "base_uri": "https://localhost:8080/",
          "height": 241
        },
        "id": "KQp9ytI8yE87",
        "outputId": "f5280954-e03d-4575-eda4-541afcf134be"
      },
      "source": [
        "nasa.head()"
      ],
      "execution_count": null,
      "outputs": [
        {
          "output_type": "execute_result",
          "data": {
            "text/html": [
              "<div>\n",
              "<style scoped>\n",
              "    .dataframe tbody tr th:only-of-type {\n",
              "        vertical-align: middle;\n",
              "    }\n",
              "\n",
              "    .dataframe tbody tr th {\n",
              "        vertical-align: top;\n",
              "    }\n",
              "\n",
              "    .dataframe thead th {\n",
              "        text-align: right;\n",
              "    }\n",
              "</style>\n",
              "<table border=\"1\" class=\"dataframe\">\n",
              "  <thead>\n",
              "    <tr style=\"text-align: right;\">\n",
              "      <th></th>\n",
              "      <th>time_in_cycles</th>\n",
              "      <th>Altitud</th>\n",
              "      <th>Mach Number</th>\n",
              "      <th>TRA</th>\n",
              "      <th>T2</th>\n",
              "      <th>T24</th>\n",
              "      <th>T30</th>\n",
              "      <th>T50</th>\n",
              "      <th>P2</th>\n",
              "      <th>P15</th>\n",
              "      <th>P30</th>\n",
              "      <th>Nf</th>\n",
              "      <th>Nc</th>\n",
              "      <th>epr</th>\n",
              "      <th>Ps30</th>\n",
              "      <th>phi</th>\n",
              "      <th>NRf</th>\n",
              "      <th>NRc</th>\n",
              "      <th>BPR</th>\n",
              "      <th>farB</th>\n",
              "      <th>htBleed</th>\n",
              "      <th>Nf_dmd</th>\n",
              "      <th>PCNfR_dmd</th>\n",
              "      <th>W31</th>\n",
              "      <th>W32</th>\n",
              "      <th>label_target</th>\n",
              "    </tr>\n",
              "  </thead>\n",
              "  <tbody>\n",
              "    <tr>\n",
              "      <th>0</th>\n",
              "      <td>1</td>\n",
              "      <td>-0.0007</td>\n",
              "      <td>-0.0004</td>\n",
              "      <td>100.0</td>\n",
              "      <td>518.67</td>\n",
              "      <td>641.82</td>\n",
              "      <td>1589.70</td>\n",
              "      <td>1400.60</td>\n",
              "      <td>14.62</td>\n",
              "      <td>21.61</td>\n",
              "      <td>554.36</td>\n",
              "      <td>2388.06</td>\n",
              "      <td>9046.19</td>\n",
              "      <td>1.3</td>\n",
              "      <td>47.47</td>\n",
              "      <td>521.66</td>\n",
              "      <td>2388.02</td>\n",
              "      <td>8138.62</td>\n",
              "      <td>8.4195</td>\n",
              "      <td>0.03</td>\n",
              "      <td>392</td>\n",
              "      <td>2388</td>\n",
              "      <td>100.0</td>\n",
              "      <td>39.06</td>\n",
              "      <td>23.4190</td>\n",
              "      <td>1</td>\n",
              "    </tr>\n",
              "    <tr>\n",
              "      <th>1</th>\n",
              "      <td>2</td>\n",
              "      <td>0.0019</td>\n",
              "      <td>-0.0003</td>\n",
              "      <td>100.0</td>\n",
              "      <td>518.67</td>\n",
              "      <td>642.15</td>\n",
              "      <td>1591.82</td>\n",
              "      <td>1403.14</td>\n",
              "      <td>14.62</td>\n",
              "      <td>21.61</td>\n",
              "      <td>553.75</td>\n",
              "      <td>2388.04</td>\n",
              "      <td>9044.07</td>\n",
              "      <td>1.3</td>\n",
              "      <td>47.49</td>\n",
              "      <td>522.28</td>\n",
              "      <td>2388.07</td>\n",
              "      <td>8131.49</td>\n",
              "      <td>8.4318</td>\n",
              "      <td>0.03</td>\n",
              "      <td>392</td>\n",
              "      <td>2388</td>\n",
              "      <td>100.0</td>\n",
              "      <td>39.00</td>\n",
              "      <td>23.4236</td>\n",
              "      <td>1</td>\n",
              "    </tr>\n",
              "    <tr>\n",
              "      <th>2</th>\n",
              "      <td>3</td>\n",
              "      <td>-0.0043</td>\n",
              "      <td>0.0003</td>\n",
              "      <td>100.0</td>\n",
              "      <td>518.67</td>\n",
              "      <td>642.35</td>\n",
              "      <td>1587.99</td>\n",
              "      <td>1404.20</td>\n",
              "      <td>14.62</td>\n",
              "      <td>21.61</td>\n",
              "      <td>554.26</td>\n",
              "      <td>2388.08</td>\n",
              "      <td>9052.94</td>\n",
              "      <td>1.3</td>\n",
              "      <td>47.27</td>\n",
              "      <td>522.42</td>\n",
              "      <td>2388.03</td>\n",
              "      <td>8133.23</td>\n",
              "      <td>8.4178</td>\n",
              "      <td>0.03</td>\n",
              "      <td>390</td>\n",
              "      <td>2388</td>\n",
              "      <td>100.0</td>\n",
              "      <td>38.95</td>\n",
              "      <td>23.3442</td>\n",
              "      <td>1</td>\n",
              "    </tr>\n",
              "    <tr>\n",
              "      <th>3</th>\n",
              "      <td>4</td>\n",
              "      <td>0.0007</td>\n",
              "      <td>0.0000</td>\n",
              "      <td>100.0</td>\n",
              "      <td>518.67</td>\n",
              "      <td>642.35</td>\n",
              "      <td>1582.79</td>\n",
              "      <td>1401.87</td>\n",
              "      <td>14.62</td>\n",
              "      <td>21.61</td>\n",
              "      <td>554.45</td>\n",
              "      <td>2388.11</td>\n",
              "      <td>9049.48</td>\n",
              "      <td>1.3</td>\n",
              "      <td>47.13</td>\n",
              "      <td>522.86</td>\n",
              "      <td>2388.08</td>\n",
              "      <td>8133.83</td>\n",
              "      <td>8.3682</td>\n",
              "      <td>0.03</td>\n",
              "      <td>392</td>\n",
              "      <td>2388</td>\n",
              "      <td>100.0</td>\n",
              "      <td>38.88</td>\n",
              "      <td>23.3739</td>\n",
              "      <td>1</td>\n",
              "    </tr>\n",
              "    <tr>\n",
              "      <th>4</th>\n",
              "      <td>5</td>\n",
              "      <td>-0.0019</td>\n",
              "      <td>-0.0002</td>\n",
              "      <td>100.0</td>\n",
              "      <td>518.67</td>\n",
              "      <td>642.37</td>\n",
              "      <td>1582.85</td>\n",
              "      <td>1406.22</td>\n",
              "      <td>14.62</td>\n",
              "      <td>21.61</td>\n",
              "      <td>554.00</td>\n",
              "      <td>2388.06</td>\n",
              "      <td>9055.15</td>\n",
              "      <td>1.3</td>\n",
              "      <td>47.28</td>\n",
              "      <td>522.19</td>\n",
              "      <td>2388.04</td>\n",
              "      <td>8133.80</td>\n",
              "      <td>8.4294</td>\n",
              "      <td>0.03</td>\n",
              "      <td>393</td>\n",
              "      <td>2388</td>\n",
              "      <td>100.0</td>\n",
              "      <td>38.90</td>\n",
              "      <td>23.4044</td>\n",
              "      <td>1</td>\n",
              "    </tr>\n",
              "  </tbody>\n",
              "</table>\n",
              "</div>"
            ],
            "text/plain": [
              "   time_in_cycles  Altitud  Mach Number  ...    W31      W32  label_target\n",
              "0               1  -0.0007      -0.0004  ...  39.06  23.4190             1\n",
              "1               2   0.0019      -0.0003  ...  39.00  23.4236             1\n",
              "2               3  -0.0043       0.0003  ...  38.95  23.3442             1\n",
              "3               4   0.0007       0.0000  ...  38.88  23.3739             1\n",
              "4               5  -0.0019      -0.0002  ...  38.90  23.4044             1\n",
              "\n",
              "[5 rows x 26 columns]"
            ]
          },
          "metadata": {
            "tags": []
          },
          "execution_count": 215
        }
      ]
    },
    {
      "cell_type": "code",
      "metadata": {
        "colab": {
          "base_uri": "https://localhost:8080/"
        },
        "id": "XNuNkT5na5Tv",
        "outputId": "c121d39f-28ba-4689-818f-d3ce71fca323"
      },
      "source": [
        "nasa.columns"
      ],
      "execution_count": null,
      "outputs": [
        {
          "output_type": "execute_result",
          "data": {
            "text/plain": [
              "Index(['time_in_cycles', 'Altitud', 'Mach Number', 'TRA', 'T2', 'T24', 'T30',\n",
              "       'T50', 'P2', 'P15', 'P30', 'Nf', 'Nc', 'epr', 'Ps30', 'phi', 'NRf',\n",
              "       'NRc', 'BPR', 'farB', 'htBleed', 'Nf_dmd', 'PCNfR_dmd', 'W31', 'W32',\n",
              "       'label_target'],\n",
              "      dtype='object')"
            ]
          },
          "metadata": {
            "tags": []
          },
          "execution_count": 220
        }
      ]
    },
    {
      "cell_type": "markdown",
      "metadata": {
        "id": "OG-hQgCYgj--"
      },
      "source": [
        "# Normalize\n"
      ]
    },
    {
      "cell_type": "code",
      "metadata": {
        "id": "A_M-_KcaxEF1"
      },
      "source": [
        "import sklearn.preprocessing"
      ],
      "execution_count": null,
      "outputs": []
    },
    {
      "cell_type": "code",
      "metadata": {
        "colab": {
          "base_uri": "https://localhost:8080/"
        },
        "id": "rb6ESE65xTjq",
        "outputId": "25691d3d-3fb4-4d66-833d-efe9ad03e5f2"
      },
      "source": [
        "nasa.columns"
      ],
      "execution_count": null,
      "outputs": [
        {
          "output_type": "execute_result",
          "data": {
            "text/plain": [
              "Index(['time_in_cycles', 'Altitud', 'Mach Number', 'TRA', 'T2', 'T24', 'T30',\n",
              "       'T50', 'P2', 'P15', 'P30', 'Nf', 'Nc', 'epr', 'Ps30', 'phi', 'NRf',\n",
              "       'NRc', 'BPR', 'farB', 'htBleed', 'Nf_dmd', 'PCNfR_dmd', 'W31', 'W32',\n",
              "       'label_target'],\n",
              "      dtype='object')"
            ]
          },
          "metadata": {
            "tags": []
          },
          "execution_count": 271
        }
      ]
    },
    {
      "cell_type": "code",
      "metadata": {
        "id": "mk-56ju_yxtR"
      },
      "source": [
        "col_names=nasa.drop(columns=['label_target']).columns"
      ],
      "execution_count": null,
      "outputs": []
    },
    {
      "cell_type": "code",
      "metadata": {
        "id": "SC9GOmKgggJW"
      },
      "source": [
        "from sklearn.preprocessing import MinMaxScaler\n",
        "\n",
        "MinMax_norm = MinMaxScaler().fit(X_train)\n",
        "X_train_norm = MinMax_norm.transform(X_train) \n",
        "nasa_norm=pd.DataFrame(X_Train_norm,columns=col_names)"
      ],
      "execution_count": null,
      "outputs": []
    },
    {
      "cell_type": "code",
      "metadata": {
        "colab": {
          "base_uri": "https://localhost:8080/"
        },
        "id": "X2g-5JBZyqHc",
        "outputId": "2ec0bc23-0dd1-4ed4-8980-09ee8210c8c5"
      },
      "source": [
        "print(X_train_norm)"
      ],
      "execution_count": null,
      "outputs": [
        {
          "output_type": "stream",
          "text": [
            "[[5.49815498e-01 8.33256776e-01 9.99643959e-01 ... 1.00000000e+00\n",
            "  1.67565745e-01 1.79163828e-01]\n",
            " [1.16236162e-01 9.99961920e-01 9.97626394e-01 ... 1.00000000e+00\n",
            "  1.58462576e-02 1.61236275e-02]\n",
            " [3.59778598e-01 8.33328177e-01 9.97626394e-01 ... 1.00000000e+00\n",
            "  1.61834120e-01 1.72981335e-01]\n",
            " ...\n",
            " [1.16236162e-01 1.76120447e-04 1.06812248e-03 ... 1.00000000e+00\n",
            "  9.76062036e-01 9.69992293e-01]\n",
            " [2.63837638e-01 5.95189532e-01 7.36529789e-01 ... 0.00000000e+00\n",
            "  1.36547539e-01 1.42420722e-01]\n",
            " [2.67527675e-01 9.99788179e-01 9.97626394e-01 ... 1.00000000e+00\n",
            "  1.11260958e-02 1.60063445e-02]]\n"
          ],
          "name": "stdout"
        }
      ]
    },
    {
      "cell_type": "markdown",
      "metadata": {
        "id": "-GSb6TN4gy2V"
      },
      "source": [
        "# Standardize"
      ]
    },
    {
      "cell_type": "code",
      "metadata": {
        "id": "bVBqJzwagxwZ"
      },
      "source": [
        "from sklearn.preprocessing import StandardScaler\n",
        "import matplotlib.pyplot as plt\n",
        "\n",
        "ss_std = StandardScaler().fit(X_train)\n",
        "X_train_std = ss_std.transform(X_train) \n",
        "nasa_stnd = pd.DataFrame(X_Train_std,columns=col_names)"
      ],
      "execution_count": null,
      "outputs": []
    },
    {
      "cell_type": "code",
      "metadata": {
        "id": "PrFHRGg7hCmF"
      },
      "source": [
        "def stats_comparison(features):\n",
        "    stats=pd.DataFrame()\n",
        "    for f in features:\n",
        "        std_f = std[f]\n",
        "        mean_f= mean[f]\n",
        "        std_norm = np.std(nasa_norm[f])\n",
        "        mean_norm = np.mean(nasa_norm[f])\n",
        "        std_stnd = np.std(nasa_stnd[f])\n",
        "        mean_stnd = np.mean(nasa_stnd[f])\n",
        "        answ = pd.DataFrame([std_f,mean_f,std_norm,mean_norm,std_stnd,mean_stnd],columns=[f], index=['Original_STD','Original_Mean','Normalize_STD','Normalize_Mean','Standard_STD','Standard_Mean']).T\n",
        "        stats = pd.concat([stats,answ])\n",
        "\n",
        "    return stats"
      ],
      "execution_count": null,
      "outputs": []
    },
    {
      "cell_type": "code",
      "metadata": {
        "colab": {
          "base_uri": "https://localhost:8080/",
          "height": 142
        },
        "id": "VeplsQtDhSaO",
        "outputId": "35b22fe2-ccd6-4b69-8c12-08ffa98bcb31"
      },
      "source": [
        "features_compare = ['time_in_cycles','W31','NRf']\n",
        "stats_comparison(features_compare)"
      ],
      "execution_count": null,
      "outputs": [
        {
          "output_type": "execute_result",
          "data": {
            "text/html": [
              "<div>\n",
              "<style scoped>\n",
              "    .dataframe tbody tr th:only-of-type {\n",
              "        vertical-align: middle;\n",
              "    }\n",
              "\n",
              "    .dataframe tbody tr th {\n",
              "        vertical-align: top;\n",
              "    }\n",
              "\n",
              "    .dataframe thead th {\n",
              "        text-align: right;\n",
              "    }\n",
              "</style>\n",
              "<table border=\"1\" class=\"dataframe\">\n",
              "  <thead>\n",
              "    <tr style=\"text-align: right;\">\n",
              "      <th></th>\n",
              "      <th>Original_STD</th>\n",
              "      <th>Original_Mean</th>\n",
              "      <th>Normalize_STD</th>\n",
              "      <th>Normalize_Mean</th>\n",
              "      <th>Standard_STD</th>\n",
              "      <th>Standard_Mean</th>\n",
              "    </tr>\n",
              "  </thead>\n",
              "  <tbody>\n",
              "    <tr>\n",
              "      <th>time_in_cycles</th>\n",
              "      <td>83.538146</td>\n",
              "      <td>123.331338</td>\n",
              "      <td>0.154400</td>\n",
              "      <td>0.226511</td>\n",
              "      <td>1.0</td>\n",
              "      <td>2.820456e-17</td>\n",
              "    </tr>\n",
              "    <tr>\n",
              "      <th>W31</th>\n",
              "      <td>11.691422</td>\n",
              "      <td>25.942709</td>\n",
              "      <td>0.393776</td>\n",
              "      <td>0.530303</td>\n",
              "      <td>1.0</td>\n",
              "      <td>-1.549096e-14</td>\n",
              "    </tr>\n",
              "    <tr>\n",
              "      <th>NRf</th>\n",
              "      <td>111.167242</td>\n",
              "      <td>2349.645243</td>\n",
              "      <td>0.306529</td>\n",
              "      <td>0.887318</td>\n",
              "      <td>1.0</td>\n",
              "      <td>-8.244583e-13</td>\n",
              "    </tr>\n",
              "  </tbody>\n",
              "</table>\n",
              "</div>"
            ],
            "text/plain": [
              "                Original_STD  Original_Mean  ...  Standard_STD  Standard_Mean\n",
              "time_in_cycles     83.538146     123.331338  ...           1.0   2.820456e-17\n",
              "W31                11.691422      25.942709  ...           1.0  -1.549096e-14\n",
              "NRf               111.167242    2349.645243  ...           1.0  -8.244583e-13\n",
              "\n",
              "[3 rows x 6 columns]"
            ]
          },
          "metadata": {
            "tags": []
          },
          "execution_count": 269
        }
      ]
    },
    {
      "cell_type": "code",
      "metadata": {
        "colab": {
          "base_uri": "https://localhost:8080/"
        },
        "id": "W2lXYgerrKvp",
        "outputId": "78809850-2c0d-4c03-fb3c-c8dd4017b9fd"
      },
      "source": [
        "print(X_train_std)"
      ],
      "execution_count": null,
      "outputs": [
        {
          "output_type": "stream",
          "text": [
            "[[ 2.09393461  1.0746936   1.17159953 ...  0.34625125 -0.92117695\n",
            "  -0.90283959]\n",
            " [-0.71421691  1.49880398  1.16697466 ...  0.34625125 -1.3064713\n",
            "  -1.31942214]\n",
            " [ 0.86312777  1.07487524  1.16697466 ...  0.34625125 -0.93573251\n",
            "  -0.91863642]\n",
            " ...\n",
            " [-0.71421691 -1.04472604 -1.11743853 ...  0.34625125  1.13201388\n",
            "   1.11779912]\n",
            " [ 0.24174956  0.46903268  0.56846222 ... -2.88807621 -0.99994824\n",
            "  -0.99672156]\n",
            " [ 0.26564873  1.49836197  1.16697466 ...  0.34625125 -1.31845824\n",
            "  -1.3197218 ]]\n"
          ],
          "name": "stdout"
        }
      ]
    },
    {
      "cell_type": "markdown",
      "metadata": {
        "id": "amlxxkRRQNq9"
      },
      "source": [
        "# Creating an Indicator Variable"
      ]
    },
    {
      "cell_type": "markdown",
      "metadata": {
        "id": "ki3eEMifQ1y5"
      },
      "source": [
        "To create an indicator variable for Cabin (since about 75% of this was missing and clearly not at random as it strongly correlated with survival rate)"
      ]
    },
    {
      "cell_type": "code",
      "metadata": {
        "colab": {
          "base_uri": "https://localhost:8080/"
        },
        "id": "ihcjeZb7REn4",
        "outputId": "179ed37f-20ca-491b-ae93-a22f95980dbb"
      },
      "source": [
        "# What would an indicator variable for Cabin look like? Shows survival rate\n",
        "titanic.groupby(titanic['Cabin'].isnull())['Survived'].mean()"
      ],
      "execution_count": null,
      "outputs": [
        {
          "output_type": "execute_result",
          "data": {
            "text/plain": [
              "Cabin\n",
              "False    0.666667\n",
              "True     0.299854\n",
              "Name: Survived, dtype: float64"
            ]
          },
          "metadata": {
            "tags": []
          },
          "execution_count": 130
        }
      ]
    },
    {
      "cell_type": "code",
      "metadata": {
        "id": "Q5j1HZiYRbgt"
      },
      "source": [
        "# Create indicator feature to indicate if they had a cabin(1 ) or not (0)\n",
        "titanic['Cabin_ind'] = np.where(titanic['Cabin'].isnull(), 0, 1)"
      ],
      "execution_count": null,
      "outputs": []
    },
    {
      "cell_type": "code",
      "metadata": {
        "colab": {
          "base_uri": "https://localhost:8080/",
          "height": 513
        },
        "id": "RNtsHZY7Ri1J",
        "outputId": "474bd116-d914-468f-d420-94197f11cf4a"
      },
      "source": [
        "titanic.head()"
      ],
      "execution_count": null,
      "outputs": [
        {
          "output_type": "execute_result",
          "data": {
            "text/html": [
              "<div>\n",
              "<style scoped>\n",
              "    .dataframe tbody tr th:only-of-type {\n",
              "        vertical-align: middle;\n",
              "    }\n",
              "\n",
              "    .dataframe tbody tr th {\n",
              "        vertical-align: top;\n",
              "    }\n",
              "\n",
              "    .dataframe thead th {\n",
              "        text-align: right;\n",
              "    }\n",
              "</style>\n",
              "<table border=\"1\" class=\"dataframe\">\n",
              "  <thead>\n",
              "    <tr style=\"text-align: right;\">\n",
              "      <th></th>\n",
              "      <th>Unnamed: 0</th>\n",
              "      <th>PassengerId</th>\n",
              "      <th>Survived</th>\n",
              "      <th>Pclass</th>\n",
              "      <th>Name</th>\n",
              "      <th>Sex</th>\n",
              "      <th>Age</th>\n",
              "      <th>SibSp</th>\n",
              "      <th>Parch</th>\n",
              "      <th>Ticket</th>\n",
              "      <th>Fare</th>\n",
              "      <th>Cabin</th>\n",
              "      <th>Embarked</th>\n",
              "      <th>Age_clean</th>\n",
              "      <th>Embarked_clean</th>\n",
              "      <th>Fare_clean</th>\n",
              "      <th>Fare_clean_tr</th>\n",
              "      <th>Title</th>\n",
              "      <th>Cabin_ind</th>\n",
              "    </tr>\n",
              "  </thead>\n",
              "  <tbody>\n",
              "    <tr>\n",
              "      <th>0</th>\n",
              "      <td>0</td>\n",
              "      <td>1</td>\n",
              "      <td>0</td>\n",
              "      <td>3</td>\n",
              "      <td>Braund, Mr. Owen Harris</td>\n",
              "      <td>male</td>\n",
              "      <td>22.0</td>\n",
              "      <td>1</td>\n",
              "      <td>0</td>\n",
              "      <td>A/5 21171</td>\n",
              "      <td>7.2500</td>\n",
              "      <td>NaN</td>\n",
              "      <td>S</td>\n",
              "      <td>22.0</td>\n",
              "      <td>S</td>\n",
              "      <td>7.2500</td>\n",
              "      <td>1.486167</td>\n",
              "      <td>Mr</td>\n",
              "      <td>0</td>\n",
              "    </tr>\n",
              "    <tr>\n",
              "      <th>1</th>\n",
              "      <td>1</td>\n",
              "      <td>2</td>\n",
              "      <td>1</td>\n",
              "      <td>1</td>\n",
              "      <td>Cumings, Mrs. John Bradley (Florence Briggs Th...</td>\n",
              "      <td>female</td>\n",
              "      <td>38.0</td>\n",
              "      <td>1</td>\n",
              "      <td>0</td>\n",
              "      <td>PC 17599</td>\n",
              "      <td>71.2833</td>\n",
              "      <td>C85</td>\n",
              "      <td>C</td>\n",
              "      <td>38.0</td>\n",
              "      <td>C</td>\n",
              "      <td>71.2833</td>\n",
              "      <td>2.347457</td>\n",
              "      <td>Mrs</td>\n",
              "      <td>1</td>\n",
              "    </tr>\n",
              "    <tr>\n",
              "      <th>2</th>\n",
              "      <td>2</td>\n",
              "      <td>3</td>\n",
              "      <td>1</td>\n",
              "      <td>3</td>\n",
              "      <td>Heikkinen, Miss. Laina</td>\n",
              "      <td>female</td>\n",
              "      <td>26.0</td>\n",
              "      <td>0</td>\n",
              "      <td>0</td>\n",
              "      <td>STON/O2. 3101282</td>\n",
              "      <td>7.9250</td>\n",
              "      <td>NaN</td>\n",
              "      <td>S</td>\n",
              "      <td>26.0</td>\n",
              "      <td>S</td>\n",
              "      <td>7.9250</td>\n",
              "      <td>1.512864</td>\n",
              "      <td>Miss</td>\n",
              "      <td>0</td>\n",
              "    </tr>\n",
              "    <tr>\n",
              "      <th>3</th>\n",
              "      <td>3</td>\n",
              "      <td>4</td>\n",
              "      <td>1</td>\n",
              "      <td>1</td>\n",
              "      <td>Futrelle, Mrs. Jacques Heath (Lily May Peel)</td>\n",
              "      <td>female</td>\n",
              "      <td>35.0</td>\n",
              "      <td>1</td>\n",
              "      <td>0</td>\n",
              "      <td>113803</td>\n",
              "      <td>53.1000</td>\n",
              "      <td>C123</td>\n",
              "      <td>S</td>\n",
              "      <td>35.0</td>\n",
              "      <td>S</td>\n",
              "      <td>53.1000</td>\n",
              "      <td>2.213191</td>\n",
              "      <td>Mrs</td>\n",
              "      <td>1</td>\n",
              "    </tr>\n",
              "    <tr>\n",
              "      <th>4</th>\n",
              "      <td>4</td>\n",
              "      <td>5</td>\n",
              "      <td>0</td>\n",
              "      <td>3</td>\n",
              "      <td>Allen, Mr. William Henry</td>\n",
              "      <td>male</td>\n",
              "      <td>35.0</td>\n",
              "      <td>0</td>\n",
              "      <td>0</td>\n",
              "      <td>373450</td>\n",
              "      <td>8.0500</td>\n",
              "      <td>NaN</td>\n",
              "      <td>S</td>\n",
              "      <td>35.0</td>\n",
              "      <td>S</td>\n",
              "      <td>8.0500</td>\n",
              "      <td>1.517606</td>\n",
              "      <td>Mr</td>\n",
              "      <td>0</td>\n",
              "    </tr>\n",
              "  </tbody>\n",
              "</table>\n",
              "</div>"
            ],
            "text/plain": [
              "   Unnamed: 0  PassengerId  Survived  ...  Fare_clean_tr Title Cabin_ind\n",
              "0           0            1         0  ...       1.486167    Mr         0\n",
              "1           1            2         1  ...       2.347457   Mrs         1\n",
              "2           2            3         1  ...       1.512864  Miss         0\n",
              "3           3            4         1  ...       2.213191   Mrs         1\n",
              "4           4            5         0  ...       1.517606    Mr         0\n",
              "\n",
              "[5 rows x 19 columns]"
            ]
          },
          "metadata": {
            "tags": []
          },
          "execution_count": 132
        }
      ]
    },
    {
      "cell_type": "code",
      "metadata": {
        "id": "3bbT82LZRwoQ"
      },
      "source": [
        "# Create new CSV with updated data\n",
        "titanic.to_csv('titanic_cabin_ind.csv', index=False)"
      ],
      "execution_count": null,
      "outputs": []
    },
    {
      "cell_type": "markdown",
      "metadata": {
        "id": "19uyemNeR9xs"
      },
      "source": [
        "# Combining Existing Features into New Features"
      ]
    },
    {
      "cell_type": "code",
      "metadata": {
        "colab": {
          "base_uri": "https://localhost:8080/",
          "height": 513
        },
        "id": "QLh94HCVR9eR",
        "outputId": "81852911-24b1-415d-e654-b4a9f99ea5ad"
      },
      "source": [
        "titanic = pd.read_csv('titanic_cabin_ind.csv')\n",
        "titanic.head()"
      ],
      "execution_count": null,
      "outputs": [
        {
          "output_type": "execute_result",
          "data": {
            "text/html": [
              "<div>\n",
              "<style scoped>\n",
              "    .dataframe tbody tr th:only-of-type {\n",
              "        vertical-align: middle;\n",
              "    }\n",
              "\n",
              "    .dataframe tbody tr th {\n",
              "        vertical-align: top;\n",
              "    }\n",
              "\n",
              "    .dataframe thead th {\n",
              "        text-align: right;\n",
              "    }\n",
              "</style>\n",
              "<table border=\"1\" class=\"dataframe\">\n",
              "  <thead>\n",
              "    <tr style=\"text-align: right;\">\n",
              "      <th></th>\n",
              "      <th>Unnamed: 0</th>\n",
              "      <th>PassengerId</th>\n",
              "      <th>Survived</th>\n",
              "      <th>Pclass</th>\n",
              "      <th>Name</th>\n",
              "      <th>Sex</th>\n",
              "      <th>Age</th>\n",
              "      <th>SibSp</th>\n",
              "      <th>Parch</th>\n",
              "      <th>Ticket</th>\n",
              "      <th>Fare</th>\n",
              "      <th>Cabin</th>\n",
              "      <th>Embarked</th>\n",
              "      <th>Age_clean</th>\n",
              "      <th>Embarked_clean</th>\n",
              "      <th>Fare_clean</th>\n",
              "      <th>Fare_clean_tr</th>\n",
              "      <th>Title</th>\n",
              "      <th>Cabin_ind</th>\n",
              "    </tr>\n",
              "  </thead>\n",
              "  <tbody>\n",
              "    <tr>\n",
              "      <th>0</th>\n",
              "      <td>0</td>\n",
              "      <td>1</td>\n",
              "      <td>0</td>\n",
              "      <td>3</td>\n",
              "      <td>Braund, Mr. Owen Harris</td>\n",
              "      <td>male</td>\n",
              "      <td>22.0</td>\n",
              "      <td>1</td>\n",
              "      <td>0</td>\n",
              "      <td>A/5 21171</td>\n",
              "      <td>7.2500</td>\n",
              "      <td>NaN</td>\n",
              "      <td>S</td>\n",
              "      <td>22.0</td>\n",
              "      <td>S</td>\n",
              "      <td>7.2500</td>\n",
              "      <td>1.486167</td>\n",
              "      <td>Mr</td>\n",
              "      <td>0</td>\n",
              "    </tr>\n",
              "    <tr>\n",
              "      <th>1</th>\n",
              "      <td>1</td>\n",
              "      <td>2</td>\n",
              "      <td>1</td>\n",
              "      <td>1</td>\n",
              "      <td>Cumings, Mrs. John Bradley (Florence Briggs Th...</td>\n",
              "      <td>female</td>\n",
              "      <td>38.0</td>\n",
              "      <td>1</td>\n",
              "      <td>0</td>\n",
              "      <td>PC 17599</td>\n",
              "      <td>71.2833</td>\n",
              "      <td>C85</td>\n",
              "      <td>C</td>\n",
              "      <td>38.0</td>\n",
              "      <td>C</td>\n",
              "      <td>71.2833</td>\n",
              "      <td>2.347457</td>\n",
              "      <td>Mrs</td>\n",
              "      <td>1</td>\n",
              "    </tr>\n",
              "    <tr>\n",
              "      <th>2</th>\n",
              "      <td>2</td>\n",
              "      <td>3</td>\n",
              "      <td>1</td>\n",
              "      <td>3</td>\n",
              "      <td>Heikkinen, Miss. Laina</td>\n",
              "      <td>female</td>\n",
              "      <td>26.0</td>\n",
              "      <td>0</td>\n",
              "      <td>0</td>\n",
              "      <td>STON/O2. 3101282</td>\n",
              "      <td>7.9250</td>\n",
              "      <td>NaN</td>\n",
              "      <td>S</td>\n",
              "      <td>26.0</td>\n",
              "      <td>S</td>\n",
              "      <td>7.9250</td>\n",
              "      <td>1.512864</td>\n",
              "      <td>Miss</td>\n",
              "      <td>0</td>\n",
              "    </tr>\n",
              "    <tr>\n",
              "      <th>3</th>\n",
              "      <td>3</td>\n",
              "      <td>4</td>\n",
              "      <td>1</td>\n",
              "      <td>1</td>\n",
              "      <td>Futrelle, Mrs. Jacques Heath (Lily May Peel)</td>\n",
              "      <td>female</td>\n",
              "      <td>35.0</td>\n",
              "      <td>1</td>\n",
              "      <td>0</td>\n",
              "      <td>113803</td>\n",
              "      <td>53.1000</td>\n",
              "      <td>C123</td>\n",
              "      <td>S</td>\n",
              "      <td>35.0</td>\n",
              "      <td>S</td>\n",
              "      <td>53.1000</td>\n",
              "      <td>2.213191</td>\n",
              "      <td>Mrs</td>\n",
              "      <td>1</td>\n",
              "    </tr>\n",
              "    <tr>\n",
              "      <th>4</th>\n",
              "      <td>4</td>\n",
              "      <td>5</td>\n",
              "      <td>0</td>\n",
              "      <td>3</td>\n",
              "      <td>Allen, Mr. William Henry</td>\n",
              "      <td>male</td>\n",
              "      <td>35.0</td>\n",
              "      <td>0</td>\n",
              "      <td>0</td>\n",
              "      <td>373450</td>\n",
              "      <td>8.0500</td>\n",
              "      <td>NaN</td>\n",
              "      <td>S</td>\n",
              "      <td>35.0</td>\n",
              "      <td>S</td>\n",
              "      <td>8.0500</td>\n",
              "      <td>1.517606</td>\n",
              "      <td>Mr</td>\n",
              "      <td>0</td>\n",
              "    </tr>\n",
              "  </tbody>\n",
              "</table>\n",
              "</div>"
            ],
            "text/plain": [
              "   Unnamed: 0  PassengerId  Survived  ...  Fare_clean_tr Title Cabin_ind\n",
              "0           0            1         0  ...       1.486167    Mr         0\n",
              "1           1            2         1  ...       2.347457   Mrs         1\n",
              "2           2            3         1  ...       1.512864  Miss         0\n",
              "3           3            4         1  ...       2.213191   Mrs         1\n",
              "4           4            5         0  ...       1.517606    Mr         0\n",
              "\n",
              "[5 rows x 19 columns]"
            ]
          },
          "metadata": {
            "tags": []
          },
          "execution_count": 134
        }
      ]
    },
    {
      "cell_type": "markdown",
      "metadata": {
        "id": "lL1k-zQBlABJ"
      },
      "source": [
        "Combine SibSp & Parch Into New Family_cnt Feature"
      ]
    },
    {
      "cell_type": "markdown",
      "metadata": {
        "id": "A44OOQAMl98N"
      },
      "source": [
        "Convert Categorical Features to Numeric \n"
      ]
    },
    {
      "cell_type": "code",
      "metadata": {
        "id": "YMdfYPy0nGUU"
      },
      "source": [
        "from sklearn.preprocessing import LabelEncoder"
      ],
      "execution_count": null,
      "outputs": []
    },
    {
      "cell_type": "code",
      "metadata": {
        "colab": {
          "base_uri": "https://localhost:8080/",
          "height": 513
        },
        "id": "ejHM_OQinIWu",
        "outputId": "1cb86361-b146-418a-fdf2-e8b730891a00"
      },
      "source": [
        "#Read in data\n",
        "titanic = pd.read_csv('titanic_family_cnt.csv')\n",
        "titanic.head()"
      ],
      "execution_count": null,
      "outputs": [
        {
          "output_type": "execute_result",
          "data": {
            "text/html": [
              "<div>\n",
              "<style scoped>\n",
              "    .dataframe tbody tr th:only-of-type {\n",
              "        vertical-align: middle;\n",
              "    }\n",
              "\n",
              "    .dataframe tbody tr th {\n",
              "        vertical-align: top;\n",
              "    }\n",
              "\n",
              "    .dataframe thead th {\n",
              "        text-align: right;\n",
              "    }\n",
              "</style>\n",
              "<table border=\"1\" class=\"dataframe\">\n",
              "  <thead>\n",
              "    <tr style=\"text-align: right;\">\n",
              "      <th></th>\n",
              "      <th>Unnamed: 0</th>\n",
              "      <th>PassengerId</th>\n",
              "      <th>Survived</th>\n",
              "      <th>Pclass</th>\n",
              "      <th>Name</th>\n",
              "      <th>Sex</th>\n",
              "      <th>Age</th>\n",
              "      <th>SibSp</th>\n",
              "      <th>Parch</th>\n",
              "      <th>Ticket</th>\n",
              "      <th>Fare</th>\n",
              "      <th>Cabin</th>\n",
              "      <th>Embarked</th>\n",
              "      <th>Age_clean</th>\n",
              "      <th>Embarked_clean</th>\n",
              "      <th>Fare_clean</th>\n",
              "      <th>Fare_clean_tr</th>\n",
              "      <th>Title</th>\n",
              "      <th>Cabin_ind</th>\n",
              "      <th>Family_cnt</th>\n",
              "    </tr>\n",
              "  </thead>\n",
              "  <tbody>\n",
              "    <tr>\n",
              "      <th>0</th>\n",
              "      <td>0</td>\n",
              "      <td>1</td>\n",
              "      <td>0</td>\n",
              "      <td>3</td>\n",
              "      <td>Braund, Mr. Owen Harris</td>\n",
              "      <td>male</td>\n",
              "      <td>22.0</td>\n",
              "      <td>1</td>\n",
              "      <td>0</td>\n",
              "      <td>A/5 21171</td>\n",
              "      <td>7.2500</td>\n",
              "      <td>NaN</td>\n",
              "      <td>S</td>\n",
              "      <td>22.0</td>\n",
              "      <td>S</td>\n",
              "      <td>7.2500</td>\n",
              "      <td>1.486167</td>\n",
              "      <td>Mr</td>\n",
              "      <td>0</td>\n",
              "      <td>1</td>\n",
              "    </tr>\n",
              "    <tr>\n",
              "      <th>1</th>\n",
              "      <td>1</td>\n",
              "      <td>2</td>\n",
              "      <td>1</td>\n",
              "      <td>1</td>\n",
              "      <td>Cumings, Mrs. John Bradley (Florence Briggs Th...</td>\n",
              "      <td>female</td>\n",
              "      <td>38.0</td>\n",
              "      <td>1</td>\n",
              "      <td>0</td>\n",
              "      <td>PC 17599</td>\n",
              "      <td>71.2833</td>\n",
              "      <td>C85</td>\n",
              "      <td>C</td>\n",
              "      <td>38.0</td>\n",
              "      <td>C</td>\n",
              "      <td>71.2833</td>\n",
              "      <td>2.347457</td>\n",
              "      <td>Mrs</td>\n",
              "      <td>1</td>\n",
              "      <td>1</td>\n",
              "    </tr>\n",
              "    <tr>\n",
              "      <th>2</th>\n",
              "      <td>2</td>\n",
              "      <td>3</td>\n",
              "      <td>1</td>\n",
              "      <td>3</td>\n",
              "      <td>Heikkinen, Miss. Laina</td>\n",
              "      <td>female</td>\n",
              "      <td>26.0</td>\n",
              "      <td>0</td>\n",
              "      <td>0</td>\n",
              "      <td>STON/O2. 3101282</td>\n",
              "      <td>7.9250</td>\n",
              "      <td>NaN</td>\n",
              "      <td>S</td>\n",
              "      <td>26.0</td>\n",
              "      <td>S</td>\n",
              "      <td>7.9250</td>\n",
              "      <td>1.512864</td>\n",
              "      <td>Miss</td>\n",
              "      <td>0</td>\n",
              "      <td>0</td>\n",
              "    </tr>\n",
              "    <tr>\n",
              "      <th>3</th>\n",
              "      <td>3</td>\n",
              "      <td>4</td>\n",
              "      <td>1</td>\n",
              "      <td>1</td>\n",
              "      <td>Futrelle, Mrs. Jacques Heath (Lily May Peel)</td>\n",
              "      <td>female</td>\n",
              "      <td>35.0</td>\n",
              "      <td>1</td>\n",
              "      <td>0</td>\n",
              "      <td>113803</td>\n",
              "      <td>53.1000</td>\n",
              "      <td>C123</td>\n",
              "      <td>S</td>\n",
              "      <td>35.0</td>\n",
              "      <td>S</td>\n",
              "      <td>53.1000</td>\n",
              "      <td>2.213191</td>\n",
              "      <td>Mrs</td>\n",
              "      <td>1</td>\n",
              "      <td>1</td>\n",
              "    </tr>\n",
              "    <tr>\n",
              "      <th>4</th>\n",
              "      <td>4</td>\n",
              "      <td>5</td>\n",
              "      <td>0</td>\n",
              "      <td>3</td>\n",
              "      <td>Allen, Mr. William Henry</td>\n",
              "      <td>male</td>\n",
              "      <td>35.0</td>\n",
              "      <td>0</td>\n",
              "      <td>0</td>\n",
              "      <td>373450</td>\n",
              "      <td>8.0500</td>\n",
              "      <td>NaN</td>\n",
              "      <td>S</td>\n",
              "      <td>35.0</td>\n",
              "      <td>S</td>\n",
              "      <td>8.0500</td>\n",
              "      <td>1.517606</td>\n",
              "      <td>Mr</td>\n",
              "      <td>0</td>\n",
              "      <td>0</td>\n",
              "    </tr>\n",
              "  </tbody>\n",
              "</table>\n",
              "</div>"
            ],
            "text/plain": [
              "   Unnamed: 0  PassengerId  Survived  ...  Title Cabin_ind Family_cnt\n",
              "0           0            1         0  ...     Mr         0          1\n",
              "1           1            2         1  ...    Mrs         1          1\n",
              "2           2            3         1  ...   Miss         0          0\n",
              "3           3            4         1  ...    Mrs         1          1\n",
              "4           4            5         0  ...     Mr         0          0\n",
              "\n",
              "[5 rows x 20 columns]"
            ]
          },
          "metadata": {
            "tags": []
          },
          "execution_count": 139
        }
      ]
    },
    {
      "cell_type": "code",
      "metadata": {
        "id": "sr2w-FKOpuvP"
      },
      "source": [
        "# Create new CSV with updated data\n",
        "nasa.to_csv('nasa_cleaned.csv', index=False)"
      ],
      "execution_count": null,
      "outputs": []
    }
  ]
}